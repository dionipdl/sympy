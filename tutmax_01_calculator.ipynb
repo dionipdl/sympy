{
  "nbformat": 4,
  "nbformat_minor": 0,
  "metadata": {
    "colab": {
      "name": "n0_configuracoes_iniciais.ipynb",
      "provenance": [],
      "collapsed_sections": [],
      "include_colab_link": true
    },
    "kernelspec": {
      "name": "python3",
      "display_name": "Python 3"
    },
    "language_info": {
      "name": "python"
    }
  },
  "cells": [
    {
      "cell_type": "markdown",
      "metadata": {
        "id": "view-in-github",
        "colab_type": "text"
      },
      "source": [
        "<a href=\"https://colab.research.google.com/github/dionipdl/sympy_mat_intro/blob/main/tutmax_01_calculator.ipynb\" target=\"_parent\"><img src=\"https://colab.research.google.com/assets/colab-badge.svg\" alt=\"Open In Colab\"/></a>"
      ]
    },
    {
      "cell_type": "markdown",
      "metadata": {
        "id": "T5oRYwbdpZyO"
      },
      "source": [
        "# Symbolic Math - A Workflow"
      ]
    },
    {
      "cell_type": "markdown",
      "metadata": {
        "id": "1lwK8vNuH7C5"
      },
      "source": [
        "http://www.hippasus.com/resources/symmath/maximacalc.html"
      ]
    },
    {
      "cell_type": "markdown",
      "metadata": {
        "id": "K0dGx_EDHze8"
      },
      "source": [
        "## Sympy - Using it as a calculator:"
      ]
    },
    {
      "cell_type": "markdown",
      "metadata": {
        "id": "5feylSO8wNzt"
      },
      "source": [
        "---\n",
        "### Configurações Ambiente"
      ]
    },
    {
      "cell_type": "code",
      "metadata": {
        "colab": {
          "base_uri": "https://localhost:8080/"
        },
        "id": "1A9q66SqqZSW",
        "outputId": "1cd3baba-b4c4-4f18-84af-9f8918790511"
      },
      "source": [
        "from sympy import *\n",
        "init_session()\n",
        "a, b, c, d = symbols('a, b, c, d')\n",
        "ue = UnevaluatedExpr"
      ],
      "execution_count": 1,
      "outputs": [
        {
          "output_type": "stream",
          "text": [
            "IPython console for SymPy 1.7.1 (Python 3.7.10-64-bit) (ground types: python)\n",
            "\n",
            "These commands were executed:\n",
            ">>> from __future__ import division\n",
            ">>> from sympy import *\n",
            ">>> x, y, z, t = symbols('x y z t')\n",
            ">>> k, m, n = symbols('k m n', integer=True)\n",
            ">>> f, g, h = symbols('f g h', cls=Function)\n",
            ">>> init_printing()\n",
            "\n",
            "Documentation can be found at https://docs.sympy.org/1.7.1/\n",
            "\n"
          ],
          "name": "stdout"
        }
      ]
    },
    {
      "cell_type": "code",
      "metadata": {
        "id": "YwiVPtFJqh_e"
      },
      "source": [
        "from seaborn import set_style as plot_style\n",
        "plot_style(\"whitegrid\")\n",
        "%matplotlib inline"
      ],
      "execution_count": 2,
      "outputs": []
    },
    {
      "cell_type": "code",
      "metadata": {
        "id": "UYhPisG2q25T"
      },
      "source": [
        "from IPython.core.interactiveshell import InteractiveShell\n",
        "InteractiveShell.ast_node_interactivity = \"all\""
      ],
      "execution_count": 3,
      "outputs": []
    },
    {
      "cell_type": "markdown",
      "metadata": {
        "id": "a-Nb6cscyGqH"
      },
      "source": [
        "---\n",
        "### Sympy Calculator:\n"
      ]
    },
    {
      "cell_type": "markdown",
      "metadata": {
        "id": "qKdfOwdaIbfK"
      },
      "source": [
        "Shift + Enter to evaluate the result\t:"
      ]
    },
    {
      "cell_type": "code",
      "metadata": {
        "id": "qqwngXJbICdy",
        "outputId": "b118cb96-ec88-4b3a-f502-abef4412b39c",
        "colab": {
          "base_uri": "https://localhost:8080/",
          "height": 37
        }
      },
      "source": [
        "2+2"
      ],
      "execution_count": 65,
      "outputs": [
        {
          "output_type": "execute_result",
          "data": {
            "image/png": "[encoded data removed]",
            "text/latex": "$\\displaystyle 4$",
            "text/plain": [
              "4"
            ]
          },
          "metadata": {
            "tags": []
          },
          "execution_count": 65
        }
      ]
    },
    {
      "cell_type": "markdown",
      "metadata": {
        "id": "y2CdDOsNI-_2"
      },
      "source": [
        "Use a semicolom to hide the result:"
      ]
    },
    {
      "cell_type": "code",
      "metadata": {
        "id": "j8UkxdWwJROf"
      },
      "source": [
        "2+2;"
      ],
      "execution_count": 66,
      "outputs": []
    },
    {
      "cell_type": "markdown",
      "metadata": {
        "id": "b1Hzb7BAJUXG"
      },
      "source": [
        "Chaining calculations:"
      ]
    },
    {
      "cell_type": "code",
      "metadata": {
        "id": "fV25AvQQJajR",
        "outputId": "f3671547-0da6-4896-fb79-2a73f906dc0f",
        "colab": {
          "base_uri": "https://localhost:8080/",
          "height": 57
        }
      },
      "source": [
        "_ + 1\n",
        "_ * 2"
      ],
      "execution_count": 67,
      "outputs": [
        {
          "output_type": "execute_result",
          "data": {
            "image/png": "[encoded data removed]",
            "text/latex": "$\\displaystyle 5$",
            "text/plain": [
              "5"
            ]
          },
          "metadata": {
            "tags": []
          },
          "execution_count": 67
        },
        {
          "output_type": "execute_result",
          "data": {
            "image/png": "[encoded data removed]",
            "text/latex": "$\\displaystyle 10$",
            "text/plain": [
              "10"
            ]
          },
          "metadata": {
            "tags": []
          },
          "execution_count": 67
        }
      ]
    },
    {
      "cell_type": "markdown",
      "metadata": {
        "id": "caC24tuBI6N_"
      },
      "source": [
        "The basic operations:"
      ]
    },
    {
      "cell_type": "code",
      "metadata": {
        "id": "uF6gJh7UIjZd",
        "outputId": "92c91a64-2c5e-4230-898d-d489b5fc6039",
        "colab": {
          "base_uri": "https://localhost:8080/",
          "height": 37
        }
      },
      "source": [
        "(2+5)/(17-2*5)"
      ],
      "execution_count": 17,
      "outputs": [
        {
          "output_type": "execute_result",
          "data": {
            "image/png": "[encoded data removed]",
            "text/latex": "$\\displaystyle 1.0$",
            "text/plain": [
              "1.0"
            ]
          },
          "metadata": {
            "tags": []
          },
          "execution_count": 17
        }
      ]
    },
    {
      "cell_type": "markdown",
      "metadata": {
        "id": "1Y2JdNdHJz_j"
      },
      "source": [
        "Exponentiation:"
      ]
    },
    {
      "cell_type": "code",
      "metadata": {
        "id": "0L0dWNEWI-B6",
        "outputId": "a05cb5aa-babe-4ffd-98db-b2367a61a75a",
        "colab": {
          "base_uri": "https://localhost:8080/",
          "height": 37
        }
      },
      "source": [
        "2**5"
      ],
      "execution_count": 16,
      "outputs": [
        {
          "output_type": "execute_result",
          "data": {
            "image/png": "[encoded data removed]",
            "text/latex": "$\\displaystyle 32$",
            "text/plain": [
              "32"
            ]
          },
          "metadata": {
            "tags": []
          },
          "execution_count": 16
        }
      ]
    },
    {
      "cell_type": "markdown",
      "metadata": {
        "id": "0KSFzhs7KGRh"
      },
      "source": [
        "Built-in constants:"
      ]
    },
    {
      "cell_type": "code",
      "metadata": {
        "id": "N3KPNi-PJ72t",
        "outputId": "d2bc8416-0708-407b-cfd5-74222ba4fe64",
        "colab": {
          "base_uri": "https://localhost:8080/",
          "height": 37
        }
      },
      "source": [
        "E**(I*pi)"
      ],
      "execution_count": 20,
      "outputs": [
        {
          "output_type": "execute_result",
          "data": {
            "image/png": "[encoded data removed]",
            "text/latex": "$\\displaystyle -1$",
            "text/plain": [
              "-1"
            ]
          },
          "metadata": {
            "tags": []
          },
          "execution_count": 20
        }
      ]
    },
    {
      "cell_type": "markdown",
      "metadata": {
        "id": "OoUGp3s4KXAz"
      },
      "source": [
        "Sympy will represent results as algebraic expressions:"
      ]
    },
    {
      "cell_type": "code",
      "metadata": {
        "id": "WYQ-T4b3KKZ2",
        "outputId": "ea8bdd99-cc28-427a-a452-8529f649b6b7",
        "colab": {
          "base_uri": "https://localhost:8080/",
          "height": 51
        }
      },
      "source": [
        "1+S(2)/5"
      ],
      "execution_count": 21,
      "outputs": [
        {
          "output_type": "execute_result",
          "data": {
            "image/png": "[encoded data removed]",
            "text/latex": "$\\displaystyle \\frac{7}{5}$",
            "text/plain": [
              "7/5"
            ]
          },
          "metadata": {
            "tags": []
          },
          "execution_count": 21
        }
      ]
    },
    {
      "cell_type": "code",
      "metadata": {
        "id": "5e46OPPlLcwA",
        "outputId": "a084bfe8-6c89-4a9f-f906-e2524d63993e",
        "colab": {
          "base_uri": "https://localhost:8080/",
          "height": 38
        }
      },
      "source": [
        "sqrt(8)"
      ],
      "execution_count": 27,
      "outputs": [
        {
          "output_type": "execute_result",
          "data": {
            "image/png": "[encoded data removed]",
            "text/latex": "$\\displaystyle 2 \\sqrt{2}$",
            "text/plain": [
              "2⋅√2"
            ]
          },
          "metadata": {
            "tags": []
          },
          "execution_count": 27
        }
      ]
    },
    {
      "cell_type": "markdown",
      "metadata": {
        "id": "AZjUpWu1KezS"
      },
      "source": [
        "Sympy parser:"
      ]
    },
    {
      "cell_type": "code",
      "metadata": {
        "id": "kgQXFbdAKcxW",
        "outputId": "7f659a93-bb7a-4a04-a09f-a1b969aee6ab",
        "colab": {
          "base_uri": "https://localhost:8080/",
          "height": 52
        }
      },
      "source": [
        "S(\"2^x/5\")"
      ],
      "execution_count": 28,
      "outputs": [
        {
          "output_type": "execute_result",
          "data": {
            "image/png": "[encoded data removed]",
            "text/latex": "$\\displaystyle \\frac{2^{x}}{5}$",
            "text/plain": [
              " x\n",
              "2 \n",
              "──\n",
              "5 "
            ]
          },
          "metadata": {
            "tags": []
          },
          "execution_count": 28
        }
      ]
    },
    {
      "cell_type": "markdown",
      "metadata": {
        "id": "Q925O2SuKx_n"
      },
      "source": [
        "Converting results to decimal notation:"
      ]
    },
    {
      "cell_type": "code",
      "metadata": {
        "id": "ZPiTCeSUKqQY",
        "outputId": "65e353db-3a41-4aa0-fa15-d322f842772d",
        "colab": {
          "base_uri": "https://localhost:8080/",
          "height": 37
        }
      },
      "source": [
        "N(sqrt(8))"
      ],
      "execution_count": 29,
      "outputs": [
        {
          "output_type": "execute_result",
          "data": {
            "image/png": "[encoded data removed]",
            "text/latex": "$\\displaystyle 2.82842712474619$",
            "text/plain": [
              "2.82842712474619"
            ]
          },
          "metadata": {
            "tags": []
          },
          "execution_count": 29
        }
      ]
    },
    {
      "cell_type": "markdown",
      "metadata": {
        "id": "SvvFfb1SLoHc"
      },
      "source": [
        "Precision control:"
      ]
    },
    {
      "cell_type": "code",
      "metadata": {
        "id": "L82EbhmDK4Sx",
        "outputId": "235aa4dc-a510-42e3-90dd-41bdb07b34e6",
        "colab": {
          "base_uri": "https://localhost:8080/",
          "height": 37
        }
      },
      "source": [
        "N(sqrt(8), 3)"
      ],
      "execution_count": 30,
      "outputs": [
        {
          "output_type": "execute_result",
          "data": {
            "image/png": "[encoded data removed]",
            "text/latex": "$\\displaystyle 2.83$",
            "text/plain": [
              "2.83"
            ]
          },
          "metadata": {
            "tags": []
          },
          "execution_count": 30
        }
      ]
    },
    {
      "cell_type": "markdown",
      "metadata": {
        "id": "Eb2YtKoyLyMX"
      },
      "source": [
        "Other common mathematical functions:"
      ]
    },
    {
      "cell_type": "code",
      "metadata": {
        "id": "wSb2lLT5LsQc",
        "outputId": "8f8d6827-31d3-4a7d-9589-df30cba7e95e",
        "colab": {
          "base_uri": "https://localhost:8080/",
          "height": 38
        }
      },
      "source": [
        "[f(x) for f in [log, exp, sqrt, factorial, abs]]"
      ],
      "execution_count": 41,
      "outputs": [
        {
          "output_type": "execute_result",
          "data": {
            "image/png": "[encoded data removed]",
            "text/latex": "$\\displaystyle \\left[ \\log{\\left(x \\right)}, \\  e^{x}, \\  \\sqrt{x}, \\  x!, \\  \\left|{x}\\right|\\right]$",
            "text/plain": [
              "⎡         x             ⎤\n",
              "⎣log(x), ℯ , √x, x!, │x│⎦"
            ]
          },
          "metadata": {
            "tags": []
          },
          "execution_count": 41
        }
      ]
    },
    {
      "cell_type": "markdown",
      "metadata": {
        "id": "XG4JXfBWMxZP"
      },
      "source": [
        "Trigonometric arguments is radians:"
      ]
    },
    {
      "cell_type": "code",
      "metadata": {
        "id": "ixDJGA0gMEuU",
        "outputId": "8643873f-4393-4c56-c3f3-910954dcab8a",
        "colab": {
          "base_uri": "https://localhost:8080/",
          "height": 37
        }
      },
      "source": [
        "[f(pi/2) for f in [sin, cos, tan]]"
      ],
      "execution_count": 53,
      "outputs": [
        {
          "output_type": "execute_result",
          "data": {
            "image/png": "[encoded data removed]",
            "text/latex": "$\\displaystyle \\left[ 1, \\  0, \\  \\tilde{\\infty}\\right]$",
            "text/plain": [
              "[1, 0, zoo]"
            ]
          },
          "metadata": {
            "tags": []
          },
          "execution_count": 53
        }
      ]
    },
    {
      "cell_type": "markdown",
      "metadata": {
        "id": "AMrsjnn3OLmb"
      },
      "source": [
        "Trigonometric inverses funtions with a:"
      ]
    },
    {
      "cell_type": "code",
      "metadata": {
        "id": "ViXOmmBaNZoS",
        "outputId": "da6cc452-75b6-4ff7-ffe1-fabf7cf5fd29",
        "colab": {
          "base_uri": "https://localhost:8080/",
          "height": 48
        }
      },
      "source": [
        "[asin(1), acos(0), atan(oo)]"
      ],
      "execution_count": 55,
      "outputs": [
        {
          "output_type": "execute_result",
          "data": {
            "image/png": "[encoded data removed]",
            "text/latex": "$\\displaystyle \\left[ \\frac{\\pi}{2}, \\  \\frac{\\pi}{2}, \\  \\frac{\\pi}{2}\\right]$",
            "text/plain": [
              "⎡π  π  π⎤\n",
              "⎢─, ─, ─⎥\n",
              "⎣2  2  2⎦"
            ]
          },
          "metadata": {
            "tags": []
          },
          "execution_count": 55
        }
      ]
    },
    {
      "cell_type": "markdown",
      "metadata": {
        "id": "KD7fS43BO34e"
      },
      "source": [
        "Hyperbolics:"
      ]
    },
    {
      "cell_type": "code",
      "metadata": {
        "id": "tTDU4V40Ndmx",
        "outputId": "06ad650b-468d-46ec-b85d-50ca30ef7b09",
        "colab": {
          "base_uri": "https://localhost:8080/",
          "height": 37
        }
      },
      "source": [
        "sinh(1.)"
      ],
      "execution_count": 57,
      "outputs": [
        {
          "output_type": "execute_result",
          "data": {
            "image/png": "[encoded data removed]",
            "text/latex": "$\\displaystyle 1.1752011936438$",
            "text/plain": [
              "1.17520119364380"
            ]
          },
          "metadata": {
            "tags": []
          },
          "execution_count": 57
        }
      ]
    },
    {
      "cell_type": "markdown",
      "metadata": {
        "id": "FIr5DYvgPGvp"
      },
      "source": [
        "Scientific notation:"
      ]
    },
    {
      "cell_type": "code",
      "metadata": {
        "id": "GN0rJ9dJQKIB",
        "outputId": "91c6e621-f983-413d-a188-e878f4549243",
        "colab": {
          "base_uri": "https://localhost:8080/",
          "height": 37
        }
      },
      "source": [
        "3e-3"
      ],
      "execution_count": 69,
      "outputs": [
        {
          "output_type": "execute_result",
          "data": {
            "image/png": "[encoded data removed]",
            "text/latex": "$\\displaystyle 0.003$",
            "text/plain": [
              "0.003"
            ]
          },
          "metadata": {
            "tags": []
          },
          "execution_count": 69
        }
      ]
    },
    {
      "cell_type": "code",
      "metadata": {
        "id": "hhlRnJoBO9j5",
        "outputId": "a4686e09-1a46-4ce8-c668-ace613e15acb",
        "colab": {
          "base_uri": "https://localhost:8080/",
          "height": 59
        }
      },
      "source": [
        "m,A = symbols(\"m,A\")\n",
        "m = 1e-3\n",
        "3*m*A + 2*A\n",
        "3*m*A * 2*A"
      ],
      "execution_count": 73,
      "outputs": [
        {
          "output_type": "execute_result",
          "data": {
            "image/png": "[encoded data removed]",
            "text/latex": "$\\displaystyle 2.003 A$",
            "text/plain": [
              "2.003⋅A"
            ]
          },
          "metadata": {
            "tags": []
          },
          "execution_count": 73
        },
        {
          "output_type": "execute_result",
          "data": {
            "image/png": "[encoded data removed]",
            "text/latex": "$\\displaystyle 0.006 A^{2}$",
            "text/plain": [
              "       2\n",
              "0.006⋅A "
            ]
          },
          "metadata": {
            "tags": []
          },
          "execution_count": 73
        }
      ]
    },
    {
      "cell_type": "markdown",
      "metadata": {
        "id": "bR2Za9G3Pl4K"
      },
      "source": [
        "Scientific notation in result:"
      ]
    },
    {
      "cell_type": "code",
      "metadata": {
        "id": "Yv1o2AFKPNRs",
        "outputId": "6e9296d8-04f7-43a0-bc77-30760ac8406d",
        "colab": {
          "base_uri": "https://localhost:8080/",
          "height": 37
        }
      },
      "source": [
        "N(factorial(100), 6)"
      ],
      "execution_count": 74,
      "outputs": [
        {
          "output_type": "execute_result",
          "data": {
            "image/png": "[encoded data removed]",
            "text/latex": "$\\displaystyle 9.33262 \\cdot 10^{157}$",
            "text/plain": [
              "9.33262e+157"
            ]
          },
          "metadata": {
            "tags": []
          },
          "execution_count": 74
        }
      ]
    },
    {
      "cell_type": "markdown",
      "metadata": {
        "id": "gwFrf7aGQqLd"
      },
      "source": [
        "Chaining methods:"
      ]
    },
    {
      "cell_type": "code",
      "metadata": {
        "id": "JRPtPuxLPq-8",
        "outputId": "18caa742-dc31-450f-eed8-3708c970783e",
        "colab": {
          "base_uri": "https://localhost:8080/",
          "height": 37
        }
      },
      "source": [
        "sqrt(8).evalf(3)"
      ],
      "execution_count": 77,
      "outputs": [
        {
          "output_type": "execute_result",
          "data": {
            "image/png": "[encoded data removed]",
            "text/latex": "$\\displaystyle 2.83$",
            "text/plain": [
              "2.83"
            ]
          },
          "metadata": {
            "tags": []
          },
          "execution_count": 77
        }
      ]
    },
    {
      "cell_type": "markdown",
      "metadata": {
        "id": "QjE9FhOiRQ2B"
      },
      "source": [
        "Printing equations:"
      ]
    },
    {
      "cell_type": "code",
      "metadata": {
        "id": "SzvcYazJQ3BI",
        "outputId": "ccfcf29e-5c5e-434e-e162-2cf033d9b8cd",
        "colab": {
          "base_uri": "https://localhost:8080/",
          "height": 38
        }
      },
      "source": [
        "Eq(y, x + 1)"
      ],
      "execution_count": 80,
      "outputs": [
        {
          "output_type": "execute_result",
          "data": {
            "image/png": "[encoded data removed]",
            "text/latex": "$\\displaystyle y = x + 1$",
            "text/plain": [
              "y = x + 1"
            ]
          },
          "metadata": {
            "tags": []
          },
          "execution_count": 80
        }
      ]
    },
    {
      "cell_type": "markdown",
      "metadata": {
        "id": "tQTvt1-JRs_W"
      },
      "source": [
        "Saving a calculation for later reuse:"
      ]
    },
    {
      "cell_type": "code",
      "metadata": {
        "id": "VEinOI8xRCYj",
        "outputId": "f3348df2-9136-4926-a161-59266bb71dac",
        "colab": {
          "base_uri": "https://localhost:8080/",
          "height": 37
        }
      },
      "source": [
        "parcela_1 = 1+3\n",
        "parcela_2 = 4+2\n",
        "parcelas = [parcela_1, parcela_2]\n",
        "total = Add(*parcelas)\n",
        "total"
      ],
      "execution_count": 89,
      "outputs": [
        {
          "output_type": "execute_result",
          "data": {
            "image/png": "[encoded data removed]",
            "text/latex": "$\\displaystyle 10$",
            "text/plain": [
              "10"
            ]
          },
          "metadata": {
            "tags": []
          },
          "execution_count": 89
        }
      ]
    },
    {
      "cell_type": "markdown",
      "metadata": {
        "id": "n1mG626fSxBN"
      },
      "source": [
        "Symbolic substitution:"
      ]
    },
    {
      "cell_type": "code",
      "metadata": {
        "id": "HrokjfpeR9or",
        "outputId": "b1d44d9d-e34a-47cc-c2a7-e709b2d8a551",
        "colab": {
          "base_uri": "https://localhost:8080/",
          "height": 37
        }
      },
      "source": [
        "(x + 1).subs(x, 2)"
      ],
      "execution_count": 96,
      "outputs": [
        {
          "output_type": "execute_result",
          "data": {
            "image/png": "[encoded data removed]",
            "text/latex": "$\\displaystyle 3$",
            "text/plain": [
              "3"
            ]
          },
          "metadata": {
            "tags": []
          },
          "execution_count": 96
        }
      ]
    },
    {
      "cell_type": "code",
      "metadata": {
        "id": "0NHgXNBwS6Am",
        "outputId": "925ad4ac-e633-4889-a59c-67a9ef9f7b47",
        "colab": {
          "base_uri": "https://localhost:8080/",
          "height": 38
        }
      },
      "source": [
        "x #x still symbolic"
      ],
      "execution_count": 97,
      "outputs": [
        {
          "output_type": "execute_result",
          "data": {
            "image/png": "[encoded data removed]",
            "text/latex": "$\\displaystyle x$",
            "text/plain": [
              "x"
            ]
          },
          "metadata": {
            "tags": []
          },
          "execution_count": 97
        }
      ]
    }
  ]
}