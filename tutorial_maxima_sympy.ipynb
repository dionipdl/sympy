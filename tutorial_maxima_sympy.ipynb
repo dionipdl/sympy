{
  "nbformat": 4,
  "nbformat_minor": 0,
  "metadata": {
    "colab": {
      "name": "n0_configuracoes_iniciais.ipynb",
      "provenance": [],
      "collapsed_sections": [],
      "include_colab_link": true
    },
    "kernelspec": {
      "name": "python3",
      "display_name": "Python 3"
    },
    "language_info": {
      "name": "python"
    }
  },
  "cells": [
    {
      "cell_type": "markdown",
      "metadata": {
        "id": "view-in-github",
        "colab_type": "text"
      },
      "source": [
        "<a href=\"https://colab.research.google.com/github/dionipdl/sympy_mat_intro/blob/main/tutorial_maxima_sympy.ipynb\" target=\"_parent\"><img src=\"https://colab.research.google.com/assets/colab-badge.svg\" alt=\"Open In Colab\"/></a>"
      ]
    },
    {
      "cell_type": "markdown",
      "metadata": {
        "id": "T5oRYwbdpZyO"
      },
      "source": [
        "# Symbolic Math - A Workflow"
      ]
    },
    {
      "cell_type": "markdown",
      "metadata": {
        "id": "4KUrER3s4hGS"
      },
      "source": [
        "http://www.hippasus.com/resources/symmath/maximasym.html"
      ]
    },
    {
      "cell_type": "markdown",
      "metadata": {
        "id": "wRPWM2pwb1k5"
      },
      "source": [
        "---\n",
        "## Sympy - Using its symbolic math capabilities"
      ]
    },
    {
      "cell_type": "markdown",
      "metadata": {
        "id": "0VNeAtRh3Kj-"
      },
      "source": [
        "---\n",
        "### Configurando o Ambiente:"
      ]
    },
    {
      "cell_type": "code",
      "metadata": {
        "colab": {
          "base_uri": "https://localhost:8080/"
        },
        "id": "1A9q66SqqZSW",
        "outputId": "632176b6-b3eb-46e4-c7cd-974772476a7c"
      },
      "source": [
        "from sympy import *\n",
        "init_session()\n",
        "a, b, c, d = symbols('a, b, c, d')"
      ],
      "execution_count": 1,
      "outputs": [
        {
          "output_type": "stream",
          "text": [
            "IPython console for SymPy 1.7.1 (Python 3.7.10-64-bit) (ground types: python)\n",
            "\n",
            "These commands were executed:\n",
            ">>> from __future__ import division\n",
            ">>> from sympy import *\n",
            ">>> x, y, z, t = symbols('x y z t')\n",
            ">>> k, m, n = symbols('k m n', integer=True)\n",
            ">>> f, g, h = symbols('f g h', cls=Function)\n",
            ">>> init_printing()\n",
            "\n",
            "Documentation can be found at https://docs.sympy.org/1.7.1/\n",
            "\n"
          ],
          "name": "stdout"
        }
      ]
    },
    {
      "cell_type": "code",
      "metadata": {
        "id": "YwiVPtFJqh_e"
      },
      "source": [
        "from seaborn import set_style as plot_style\n",
        "plot_style(\"whitegrid\")\n",
        "%matplotlib inline"
      ],
      "execution_count": 2,
      "outputs": []
    },
    {
      "cell_type": "code",
      "metadata": {
        "id": "UYhPisG2q25T"
      },
      "source": [
        "from IPython.core.interactiveshell import InteractiveShell\n",
        "InteractiveShell.ast_node_interactivity = \"all\""
      ],
      "execution_count": 3,
      "outputs": []
    },
    {
      "cell_type": "markdown",
      "metadata": {
        "id": "a-Nb6cscyGqH"
      },
      "source": [
        "---\n",
        "### Math capabilities\n"
      ]
    },
    {
      "cell_type": "markdown",
      "metadata": {
        "id": "WZIVt3-CyzLU"
      },
      "source": [
        "Basic typing:"
      ]
    },
    {
      "cell_type": "code",
      "metadata": {
        "colab": {
          "base_uri": "https://localhost:8080/",
          "height": 51
        },
        "id": "WkCxwFKgq5s4",
        "outputId": "add3d87c-ebaa-4082-9b06-dfae20ebe93b"
      },
      "source": [
        "(2+S(5)/6-sqrt(4))**2"
      ],
      "execution_count": 4,
      "outputs": [
        {
          "output_type": "execute_result",
          "data": {
            "image/png": "[encoded data removed]",
            "text/latex": "$\\displaystyle \\frac{25}{36}$",
            "text/plain": [
              "25\n",
              "──\n",
              "36"
            ]
          },
          "metadata": {
            "tags": []
          },
          "execution_count": 4
        }
      ]
    },
    {
      "cell_type": "markdown",
      "metadata": {
        "id": "LfSjMc1sy7Fy"
      },
      "source": [
        "Using the previous line:"
      ]
    },
    {
      "cell_type": "code",
      "metadata": {
        "colab": {
          "base_uri": "https://localhost:8080/",
          "height": 51
        },
        "id": "ru127jqbybuW",
        "outputId": "14113eff-458f-44f2-d1a5-8b72cad5a88a"
      },
      "source": [
        "_ + 1"
      ],
      "execution_count": 5,
      "outputs": [
        {
          "output_type": "execute_result",
          "data": {
            "image/png": "[encoded data removed]",
            "text/latex": "$\\displaystyle \\frac{61}{36}$",
            "text/plain": [
              "61\n",
              "──\n",
              "36"
            ]
          },
          "metadata": {
            "tags": []
          },
          "execution_count": 5
        }
      ]
    },
    {
      "cell_type": "markdown",
      "metadata": {
        "id": "cs0K6fF8zFTe"
      },
      "source": [
        "Using a line by name:"
      ]
    },
    {
      "cell_type": "code",
      "metadata": {
        "colab": {
          "base_uri": "https://localhost:8080/",
          "height": 51
        },
        "id": "UvEsIbAgylZD",
        "outputId": "40fe7b47-edea-44e2-f3da-093dce885aca"
      },
      "source": [
        "Out[5]+1"
      ],
      "execution_count": 6,
      "outputs": [
        {
          "output_type": "execute_result",
          "data": {
            "image/png": "[encoded data removed]",
            "text/latex": "$\\displaystyle \\frac{97}{36}$",
            "text/plain": [
              "97\n",
              "──\n",
              "36"
            ]
          },
          "metadata": {
            "tags": []
          },
          "execution_count": 6
        }
      ]
    },
    {
      "cell_type": "markdown",
      "metadata": {
        "id": "TXM5kGrJc5Wg"
      },
      "source": [
        "Numeric evaluation:"
      ]
    },
    {
      "cell_type": "code",
      "metadata": {
        "id": "mvmONshRc3c3",
        "outputId": "da0e1663-9a37-4edf-c928-4699ce324d78",
        "colab": {
          "base_uri": "https://localhost:8080/",
          "height": 37
        }
      },
      "source": [
        "N(_)"
      ],
      "execution_count": 7,
      "outputs": [
        {
          "output_type": "execute_result",
          "data": {
            "image/png": "[encoded data removed]",
            "text/latex": "$\\displaystyle 2.69444444444444$",
            "text/plain": [
              "2.69444444444444"
            ]
          },
          "metadata": {
            "tags": []
          },
          "execution_count": 7
        }
      ]
    },
    {
      "cell_type": "markdown",
      "metadata": {
        "id": "PkM3ygyvdF8f"
      },
      "source": [
        "Defining a function:"
      ]
    },
    {
      "cell_type": "code",
      "metadata": {
        "id": "kCBBDSGUdDIE",
        "outputId": "f3af42f2-bd78-415f-e765-0351a860953b",
        "colab": {
          "base_uri": "https://localhost:8080/",
          "height": 38
        }
      },
      "source": [
        "f = Lambda(x, x**2 - 5*x + 6)\n",
        "f"
      ],
      "execution_count": 8,
      "outputs": [
        {
          "output_type": "execute_result",
          "data": {
            "image/png": "[encoded data removed]",
            "text/latex": "$\\displaystyle \\left( x \\mapsto x^{2} - 5 x + 6 \\right)$",
            "text/plain": [
              "     2          \n",
              "x ↦ x  - 5⋅x + 6"
            ]
          },
          "metadata": {
            "tags": []
          },
          "execution_count": 8
        }
      ]
    },
    {
      "cell_type": "markdown",
      "metadata": {
        "id": "PcOblGO6dXO_"
      },
      "source": [
        "Using a function:"
      ]
    },
    {
      "cell_type": "code",
      "metadata": {
        "id": "n-l-1__zdb3Z",
        "outputId": "75695d0e-8b32-48b7-b690-088c882aadf6",
        "colab": {
          "base_uri": "https://localhost:8080/",
          "height": 37
        }
      },
      "source": [
        "f(5)"
      ],
      "execution_count": 9,
      "outputs": [
        {
          "output_type": "execute_result",
          "data": {
            "image/png": "[encoded data removed]",
            "text/latex": "$\\displaystyle 6$",
            "text/plain": [
              "6"
            ]
          },
          "metadata": {
            "tags": []
          },
          "execution_count": 9
        }
      ]
    },
    {
      "cell_type": "markdown",
      "metadata": {
        "id": "oF69CkXtdXLP"
      },
      "source": [
        "Assigning a value to a variable:"
      ]
    },
    {
      "cell_type": "code",
      "metadata": {
        "id": "4y4N5vUhdn9X",
        "outputId": "91fc6f1a-9d56-41be-f85a-394154b40eee",
        "colab": {
          "base_uri": "https://localhost:8080/",
          "height": 37
        }
      },
      "source": [
        "a = 5\n",
        "a"
      ],
      "execution_count": 10,
      "outputs": [
        {
          "output_type": "execute_result",
          "data": {
            "image/png": "[encoded data removed]",
            "text/latex": "$\\displaystyle 5$",
            "text/plain": [
              "5"
            ]
          },
          "metadata": {
            "tags": []
          },
          "execution_count": 10
        }
      ]
    },
    {
      "cell_type": "markdown",
      "metadata": {
        "id": "Blg8IpwidXIO"
      },
      "source": [
        "Use the variable:"
      ]
    },
    {
      "cell_type": "code",
      "metadata": {
        "id": "kFINDk9Bdzgd",
        "outputId": "fdf39973-890a-41f2-db0f-1b8c7a5a5163",
        "colab": {
          "base_uri": "https://localhost:8080/",
          "height": 37
        }
      },
      "source": [
        "f(a)"
      ],
      "execution_count": 11,
      "outputs": [
        {
          "output_type": "execute_result",
          "data": {
            "image/png": "[encoded data removed]",
            "text/latex": "$\\displaystyle 6$",
            "text/plain": [
              "6"
            ]
          },
          "metadata": {
            "tags": []
          },
          "execution_count": 11
        }
      ]
    },
    {
      "cell_type": "markdown",
      "metadata": {
        "id": "c5R5P4ucdXFd"
      },
      "source": [
        "Defining an equation:"
      ]
    },
    {
      "cell_type": "code",
      "metadata": {
        "id": "faMQnM9gd5CU",
        "outputId": "9984e1b8-0e1f-4b1f-8e8a-0364127c6433",
        "colab": {
          "base_uri": "https://localhost:8080/",
          "height": 38
        }
      },
      "source": [
        "e = Eq(x, 1-b*y)\n",
        "e"
      ],
      "execution_count": 12,
      "outputs": [
        {
          "output_type": "execute_result",
          "data": {
            "image/png": "[encoded data removed]",
            "text/latex": "$\\displaystyle x = - b y + 1$",
            "text/plain": [
              "x = -b⋅y + 1"
            ]
          },
          "metadata": {
            "tags": []
          },
          "execution_count": 12
        }
      ]
    },
    {
      "cell_type": "markdown",
      "metadata": {
        "id": "A_p7hyzQdXCe"
      },
      "source": [
        "Solving an equation:"
      ]
    },
    {
      "cell_type": "code",
      "metadata": {
        "id": "DQuotYnMeEYN",
        "outputId": "bf2b5c8d-2eb3-475a-84fd-543296710af2",
        "colab": {
          "base_uri": "https://localhost:8080/",
          "height": 58
        }
      },
      "source": [
        "solveset(e , y)"
      ],
      "execution_count": 13,
      "outputs": [
        {
          "output_type": "execute_result",
          "data": {
            "image/png": "[encoded data removed]",
            "text/latex": "$\\displaystyle \\left\\{- \\frac{x - 1}{b}\\right\\}$",
            "text/plain": [
              "⎧-(x - 1) ⎫\n",
              "⎨─────────⎬\n",
              "⎩    b    ⎭"
            ]
          },
          "metadata": {
            "tags": []
          },
          "execution_count": 13
        }
      ]
    },
    {
      "cell_type": "markdown",
      "metadata": {
        "id": "URnCZZuGdW_o"
      },
      "source": [
        "Solve for any of its variables:"
      ]
    },
    {
      "cell_type": "code",
      "metadata": {
        "id": "WFikIzMDeZEr",
        "outputId": "58919597-ee15-4796-d2d5-bf8965d8dc2a",
        "colab": {
          "base_uri": "https://localhost:8080/",
          "height": 58
        }
      },
      "source": [
        "solveset(e , b)"
      ],
      "execution_count": 14,
      "outputs": [
        {
          "output_type": "execute_result",
          "data": {
            "image/png": "[encoded data removed]",
            "text/latex": "$\\displaystyle \\left\\{- \\frac{x - 1}{y}\\right\\}$",
            "text/plain": [
              "⎧-(x - 1) ⎫\n",
              "⎨─────────⎬\n",
              "⎩    y    ⎭"
            ]
          },
          "metadata": {
            "tags": []
          },
          "execution_count": 14
        }
      ]
    },
    {
      "cell_type": "markdown",
      "metadata": {
        "id": "3oS-8PavdW8e"
      },
      "source": [
        "Roots of a quadratic equation:"
      ]
    },
    {
      "cell_type": "code",
      "metadata": {
        "id": "liR3gSPOepgE",
        "outputId": "32c37733-656e-4b57-e0b3-970e968f26b9",
        "colab": {
          "base_uri": "https://localhost:8080/",
          "height": 37
        }
      },
      "source": [
        "solveset(x**2 + 2*x - 3, x)"
      ],
      "execution_count": 15,
      "outputs": [
        {
          "output_type": "execute_result",
          "data": {
            "image/png": "[encoded data removed]",
            "text/latex": "$\\displaystyle \\left\\{-3, 1\\right\\}$",
            "text/plain": [
              "{-3, 1}"
            ]
          },
          "metadata": {
            "tags": []
          },
          "execution_count": 15
        }
      ]
    },
    {
      "cell_type": "code",
      "metadata": {
        "id": "pNzaRAFMfBG-",
        "outputId": "0f65b9c3-d6a2-4cfb-ef78-036df4d37fe4",
        "colab": {
          "base_uri": "https://localhost:8080/",
          "height": 37
        }
      },
      "source": [
        "roots(x**2 + 2*x - 3, x)"
      ],
      "execution_count": 16,
      "outputs": [
        {
          "output_type": "execute_result",
          "data": {
            "image/png": "[encoded data removed]",
            "text/latex": "$\\displaystyle \\left\\{ -3 : 1, \\  1 : 1\\right\\}$",
            "text/plain": [
              "{-3: 1, 1: 1}"
            ]
          },
          "metadata": {
            "tags": []
          },
          "execution_count": 16
        }
      ]
    },
    {
      "cell_type": "markdown",
      "metadata": {
        "id": "RJF5wHEadW5P"
      },
      "source": [
        "Extract result from a solve output list:"
      ]
    },
    {
      "cell_type": "code",
      "metadata": {
        "id": "csUielWlfRtg",
        "outputId": "40395725-f9b9-4780-ca8e-f08e1dc376f6",
        "colab": {
          "base_uri": "https://localhost:8080/",
          "height": 37
        }
      },
      "source": [
        "s = [*solveset(x**2 + 2*x - 3, x)]\n",
        "s[0]"
      ],
      "execution_count": 17,
      "outputs": [
        {
          "output_type": "execute_result",
          "data": {
            "image/png": "[encoded data removed]",
            "text/latex": "$\\displaystyle -3$",
            "text/plain": [
              "-3"
            ]
          },
          "metadata": {
            "tags": []
          },
          "execution_count": 17
        }
      ]
    },
    {
      "cell_type": "markdown",
      "metadata": {
        "id": "iF98J7RLdW1W"
      },
      "source": [
        "Plotting a function:"
      ]
    },
    {
      "cell_type": "code",
      "metadata": {
        "id": "1dvZTYT4f0-F",
        "outputId": "45620fdd-64e0-4d21-bd5f-a98cf4c1bfdf",
        "colab": {
          "base_uri": "https://localhost:8080/",
          "height": 297
        }
      },
      "source": [
        "plot(x**2 + 2*x - 3, (x, -4, 2));"
      ],
      "execution_count": 18,
      "outputs": [
        {
          "output_type": "display_data",
          "data": {
            "image/png": "[encoded data removed]",
            "text/plain": [
              "<Figure size 432x288 with 1 Axes>"
            ]
          },
          "metadata": {
            "tags": [],
            "needs_background": "light"
          }
        }
      ]
    },
    {
      "cell_type": "markdown",
      "metadata": {
        "id": "DxUD7PwYdWs2"
      },
      "source": [
        "Systems of equations:"
      ]
    },
    {
      "cell_type": "code",
      "metadata": {
        "id": "d7iN-8WNdReT",
        "outputId": "cff0227c-602d-4258-ad0e-694a4b87a123",
        "colab": {
          "base_uri": "https://localhost:8080/",
          "height": 37
        }
      },
      "source": [
        "linsolve([x+3*y-3,2*x+5*y-5],[x,y])"
      ],
      "execution_count": 19,
      "outputs": [
        {
          "output_type": "execute_result",
          "data": {
            "image/png": "[encoded data removed]",
            "text/latex": "$\\displaystyle \\left\\{\\left( 0, \\  1\\right)\\right\\}$",
            "text/plain": [
              "{(0, 1)}"
            ]
          },
          "metadata": {
            "tags": []
          },
          "execution_count": 19
        }
      ]
    },
    {
      "cell_type": "markdown",
      "metadata": {
        "id": "T-mxcFNxgkE4"
      },
      "source": [
        "Plotting multiple functions:"
      ]
    },
    {
      "cell_type": "code",
      "metadata": {
        "id": "2ZOQ6GADgRK3",
        "outputId": "6c451a7b-9dfc-4daf-c0c1-041ba7bc3fab",
        "colab": {
          "base_uri": "https://localhost:8080/",
          "height": 297
        }
      },
      "source": [
        "p = plot((3-x)/3, (5-2*x)/5, (x,-1,1), show=False);\n",
        "p[0].line_color = \"r\"\n",
        "p[1].line_color = \"g\"\n",
        "p.legend=True\n",
        "p.show()"
      ],
      "execution_count": 20,
      "outputs": [
        {
          "output_type": "display_data",
          "data": {
            "image/png": "[encoded data removed]",
            "text/plain": [
              "<Figure size 432x288 with 1 Axes>"
            ]
          },
          "metadata": {
            "tags": [],
            "needs_background": "light"
          }
        }
      ]
    },
    {
      "cell_type": "markdown",
      "metadata": {
        "id": "QQnKhhj0hdDm"
      },
      "source": [
        "Solving equations numerically:"
      ]
    },
    {
      "cell_type": "code",
      "metadata": {
        "id": "rYj5DWHjh1bJ",
        "outputId": "97b4bbe1-47d7-495b-9887-0858b1122efc",
        "colab": {
          "base_uri": "https://localhost:8080/",
          "height": 38
        }
      },
      "source": [
        "f = x**7 - 5*x**6 + 4*x**4 - 5*x**2 + x + 2\n",
        "f"
      ],
      "execution_count": 21,
      "outputs": [
        {
          "output_type": "execute_result",
          "data": {
            "image/png": "[encoded data removed]",
            "text/latex": "$\\displaystyle x^{7} - 5 x^{6} + 4 x^{4} - 5 x^{2} + x + 2$",
            "text/plain": [
              " 7      6      4      2        \n",
              "x  - 5⋅x  + 4⋅x  - 5⋅x  + x + 2"
            ]
          },
          "metadata": {
            "tags": []
          },
          "execution_count": 21
        }
      ]
    },
    {
      "cell_type": "code",
      "metadata": {
        "id": "pu33Bi2KjN6L",
        "outputId": "a6ccd3a4-e1c0-4334-cfc6-9371a56606f6",
        "colab": {
          "base_uri": "https://localhost:8080/",
          "height": 37
        }
      },
      "source": [
        "nsolve(f, x, 0)"
      ],
      "execution_count": 22,
      "outputs": [
        {
          "output_type": "execute_result",
          "data": {
            "image/png": "[encoded data removed]",
            "text/latex": "$\\displaystyle 0.819421363496412$",
            "text/plain": [
              "0.819421363496412"
            ]
          },
          "metadata": {
            "tags": []
          },
          "execution_count": 22
        }
      ]
    },
    {
      "cell_type": "code",
      "metadata": {
        "id": "aN5vDS5ygt4a",
        "outputId": "4cd3afbd-2d8c-4d05-d5e7-640bdee4cd72",
        "colab": {
          "base_uri": "https://localhost:8080/",
          "height": 297
        }
      },
      "source": [
        "plot(f, (x,-1,1));"
      ],
      "execution_count": 23,
      "outputs": [
        {
          "output_type": "display_data",
          "data": {
            "image/png": "[encoded data removed]",
            "text/plain": [
              "<Figure size 432x288 with 1 Axes>"
            ]
          },
          "metadata": {
            "tags": [],
            "needs_background": "light"
          }
        }
      ]
    },
    {
      "cell_type": "markdown",
      "metadata": {
        "id": "V96-uMptlezK"
      },
      "source": [
        "Functions of multiple variables:"
      ]
    },
    {
      "cell_type": "code",
      "metadata": {
        "id": "XxRjQyG1hvKm",
        "outputId": "a038a91b-b5ea-44c1-cedb-d3bfc82795a9",
        "colab": {
          "base_uri": "https://localhost:8080/",
          "height": 38
        }
      },
      "source": [
        "f = Lambda((x,y), sin(x**2+y**2))\n",
        "f"
      ],
      "execution_count": 24,
      "outputs": [
        {
          "output_type": "execute_result",
          "data": {
            "image/png": "[encoded data removed]",
            "text/latex": "$\\displaystyle \\left( \\left( x, \\  y\\right) \\mapsto \\sin{\\left(x^{2} + y^{2} \\right)} \\right)$",
            "text/plain": [
              "            ⎛ 2    2⎞\n",
              "(x, y) ↦ sin⎝x  + y ⎠"
            ]
          },
          "metadata": {
            "tags": []
          },
          "execution_count": 24
        }
      ]
    },
    {
      "cell_type": "markdown",
      "metadata": {
        "id": "n_qI5iWvluIR"
      },
      "source": [
        "Using a function of multiple variables:"
      ]
    },
    {
      "cell_type": "code",
      "metadata": {
        "id": "bznROqKWloz9",
        "outputId": "16c615d0-3db0-45d6-e488-cf7297790515",
        "colab": {
          "base_uri": "https://localhost:8080/",
          "height": 37
        }
      },
      "source": [
        "f(1,4)"
      ],
      "execution_count": 25,
      "outputs": [
        {
          "output_type": "execute_result",
          "data": {
            "image/png": "[encoded data removed]",
            "text/latex": "$\\displaystyle \\sin{\\left(17 \\right)}$",
            "text/plain": [
              "sin(17)"
            ]
          },
          "metadata": {
            "tags": []
          },
          "execution_count": 25
        }
      ]
    },
    {
      "cell_type": "markdown",
      "metadata": {
        "id": "n6qMcrVimJIT"
      },
      "source": [
        "Force a numerically result:"
      ]
    },
    {
      "cell_type": "code",
      "metadata": {
        "id": "-z5fypbhmHGO",
        "outputId": "0563196a-65ee-414b-e28a-141ada54dee5",
        "colab": {
          "base_uri": "https://localhost:8080/",
          "height": 37
        }
      },
      "source": [
        "f(1,4).evalf(3)"
      ],
      "execution_count": 26,
      "outputs": [
        {
          "output_type": "execute_result",
          "data": {
            "image/png": "[encoded data removed]",
            "text/latex": "$\\displaystyle -0.961$",
            "text/plain": [
              "-0.961"
            ]
          },
          "metadata": {
            "tags": []
          },
          "execution_count": 26
        }
      ]
    },
    {
      "cell_type": "markdown",
      "metadata": {
        "id": "2F9Wqonamaqh"
      },
      "source": [
        "3D Plots:"
      ]
    },
    {
      "cell_type": "code",
      "metadata": {
        "id": "mUHyjNi4mSTv",
        "outputId": "ed88e1d1-84c6-4c0a-9af1-0186cc3de43f",
        "colab": {
          "base_uri": "https://localhost:8080/",
          "height": 297
        }
      },
      "source": [
        "plotting.plot3d(f(x,y),(x,-1,1),(y,-1,1));"
      ],
      "execution_count": 27,
      "outputs": [
        {
          "output_type": "display_data",
          "data": {
            "image/png": "[encoded data removed]",
            "text/plain": [
              "<Figure size 432x288 with 1 Axes>"
            ]
          },
          "metadata": {
            "tags": [],
            "needs_background": "light"
          }
        }
      ]
    },
    {
      "cell_type": "markdown",
      "metadata": {
        "id": "6jaENx_ImuPy"
      },
      "source": [
        "Factoring Polynomials:"
      ]
    },
    {
      "cell_type": "code",
      "metadata": {
        "id": "oekhcBTZmnr3",
        "outputId": "62c5897d-dae5-438a-aed9-b35a9a79f257",
        "colab": {
          "base_uri": "https://localhost:8080/",
          "height": 39
        }
      },
      "source": [
        "factor(x**2 + 2*x + 1)"
      ],
      "execution_count": 28,
      "outputs": [
        {
          "output_type": "execute_result",
          "data": {
            "image/png": "[encoded data removed]",
            "text/latex": "$\\displaystyle \\left(x + 1\\right)^{2}$",
            "text/plain": [
              "       2\n",
              "(x + 1) "
            ]
          },
          "metadata": {
            "tags": []
          },
          "execution_count": 28
        }
      ]
    },
    {
      "cell_type": "markdown",
      "metadata": {
        "id": "nDgOqMGgm7n7"
      },
      "source": [
        "Expanding Polynomials:"
      ]
    },
    {
      "cell_type": "code",
      "metadata": {
        "id": "91IzdtiPm5D3",
        "outputId": "bf184f20-95de-41e6-f5b1-e66e0a054ea1",
        "colab": {
          "base_uri": "https://localhost:8080/",
          "height": 38
        }
      },
      "source": [
        "expand(_)"
      ],
      "execution_count": 29,
      "outputs": [
        {
          "output_type": "execute_result",
          "data": {
            "image/png": "[encoded data removed]",
            "text/latex": "$\\displaystyle x^{2} + 2 x + 1$",
            "text/plain": [
              " 2          \n",
              "x  + 2⋅x + 1"
            ]
          },
          "metadata": {
            "tags": []
          },
          "execution_count": 29
        }
      ]
    },
    {
      "cell_type": "markdown",
      "metadata": {
        "id": "HY0zh1_FnCEb"
      },
      "source": [
        "Simplifying Trigonometric expressions:"
      ]
    },
    {
      "cell_type": "code",
      "metadata": {
        "id": "HwPOjiHFm_E-",
        "outputId": "5726beb3-ac8a-41b9-d8fe-1d1d06fc9e61",
        "colab": {
          "base_uri": "https://localhost:8080/",
          "height": 37
        }
      },
      "source": [
        "trigsimp(sin(x)**2 + cos(x)**2)"
      ],
      "execution_count": 30,
      "outputs": [
        {
          "output_type": "execute_result",
          "data": {
            "image/png": "[encoded data removed]",
            "text/latex": "$\\displaystyle 1$",
            "text/plain": [
              "1"
            ]
          },
          "metadata": {
            "tags": []
          },
          "execution_count": 30
        }
      ]
    },
    {
      "cell_type": "markdown",
      "metadata": {
        "id": "YYz18RTFnM_b"
      },
      "source": [
        "Simplifying Trigonometric by methods:"
      ]
    },
    {
      "cell_type": "code",
      "metadata": {
        "id": "3L5mgeOooFEA",
        "outputId": "7366a3d1-2b2d-48a9-cac0-184d984a9259",
        "colab": {
          "base_uri": "https://localhost:8080/",
          "height": 173
        }
      },
      "source": [
        "t = (4*cos(y)**3 - 3*cos(y))*cos(x)\n",
        "t\n",
        "trigsimp(t)\n",
        "trigsimp(t, method='old')\n",
        "trigsimp(t, method='groebner')\n",
        "trigsimp(t, method='combined')\n",
        "simplify(t)"
      ],
      "execution_count": 31,
      "outputs": [
        {
          "output_type": "execute_result",
          "data": {
            "image/png": "[encoded data removed]",
            "text/latex": "$\\displaystyle \\left(4 \\cos^{3}{\\left(y \\right)} - 3 \\cos{\\left(y \\right)}\\right) \\cos{\\left(x \\right)}$",
            "text/plain": [
              "⎛     3              ⎞       \n",
              "⎝4⋅cos (y) - 3⋅cos(y)⎠⋅cos(x)"
            ]
          },
          "metadata": {
            "tags": []
          },
          "execution_count": 31
        },
        {
          "output_type": "execute_result",
          "data": {
            "image/png": "[encoded data removed]",
            "text/latex": "$\\displaystyle \\cos{\\left(x \\right)} \\cos{\\left(3 y \\right)}$",
            "text/plain": [
              "cos(x)⋅cos(3⋅y)"
            ]
          },
          "metadata": {
            "tags": []
          },
          "execution_count": 31
        },
        {
          "output_type": "execute_result",
          "data": {
            "image/png": "[encoded data removed]",
            "text/latex": "$\\displaystyle \\cos{\\left(x \\right)} \\cos{\\left(3 y \\right)}$",
            "text/plain": [
              "cos(x)⋅cos(3⋅y)"
            ]
          },
          "metadata": {
            "tags": []
          },
          "execution_count": 31
        },
        {
          "output_type": "execute_result",
          "data": {
            "image/png": "[encoded data removed]",
            "text/latex": "$\\displaystyle 4 \\cos{\\left(x \\right)} \\cos^{3}{\\left(y \\right)} - 3 \\cos{\\left(x \\right)} \\cos{\\left(y \\right)}$",
            "text/plain": [
              "            3                     \n",
              "4⋅cos(x)⋅cos (y) - 3⋅cos(x)⋅cos(y)"
            ]
          },
          "metadata": {
            "tags": []
          },
          "execution_count": 31
        },
        {
          "output_type": "execute_result",
          "data": {
            "image/png": "[encoded data removed]",
            "text/latex": "$\\displaystyle \\frac{\\cos{\\left(x - 3 y \\right)}}{2} + \\frac{\\cos{\\left(x + 3 y \\right)}}{2}$",
            "text/plain": [
              "cos(x - 3⋅y)   cos(x + 3⋅y)\n",
              "──────────── + ────────────\n",
              "     2              2      "
            ]
          },
          "metadata": {
            "tags": []
          },
          "execution_count": 31
        },
        {
          "output_type": "execute_result",
          "data": {
            "image/png": "[encoded data removed]",
            "text/latex": "$\\displaystyle \\frac{\\cos{\\left(x - 3 y \\right)}}{2} + \\frac{\\cos{\\left(x + 3 y \\right)}}{2}$",
            "text/plain": [
              "cos(x - 3⋅y)   cos(x + 3⋅y)\n",
              "──────────── + ────────────\n",
              "     2              2      "
            ]
          },
          "metadata": {
            "tags": []
          },
          "execution_count": 31
        }
      ]
    },
    {
      "cell_type": "markdown",
      "metadata": {
        "id": "18R8Ewnio17H"
      },
      "source": [
        "Expanding Trigonometric expressions:"
      ]
    },
    {
      "cell_type": "code",
      "metadata": {
        "id": "K_3Y2KLqqNOY",
        "outputId": "393f8f84-fe41-4bb7-8e5d-9b5f384a7e95",
        "colab": {
          "base_uri": "https://localhost:8080/",
          "height": 38
        }
      },
      "source": [
        "e = cos(x+3*y)\n",
        "e"
      ],
      "execution_count": 32,
      "outputs": [
        {
          "output_type": "execute_result",
          "data": {
            "image/png": "[encoded data removed]",
            "text/latex": "$\\displaystyle \\cos{\\left(x + 3 y \\right)}$",
            "text/plain": [
              "cos(x + 3⋅y)"
            ]
          },
          "metadata": {
            "tags": []
          },
          "execution_count": 32
        }
      ]
    },
    {
      "cell_type": "code",
      "metadata": {
        "id": "2CSIvRdUnmBC",
        "outputId": "a3446c2b-399f-4cf0-9952-10395d1548eb",
        "colab": {
          "base_uri": "https://localhost:8080/",
          "height": 59
        }
      },
      "source": [
        "expand_trig(e)\n",
        "expand(e, trig=True)"
      ],
      "execution_count": 33,
      "outputs": [
        {
          "output_type": "execute_result",
          "data": {
            "image/png": "[encoded data removed]",
            "text/latex": "$\\displaystyle - \\left(- 4 \\sin^{3}{\\left(y \\right)} + 3 \\sin{\\left(y \\right)}\\right) \\sin{\\left(x \\right)} + \\left(4 \\cos^{3}{\\left(y \\right)} - 3 \\cos{\\left(y \\right)}\\right) \\cos{\\left(x \\right)}$",
            "text/plain": [
              "  ⎛       3              ⎞          ⎛     3              ⎞       \n",
              "- ⎝- 4⋅sin (y) + 3⋅sin(y)⎠⋅sin(x) + ⎝4⋅cos (y) - 3⋅cos(y)⎠⋅cos(x)"
            ]
          },
          "metadata": {
            "tags": []
          },
          "execution_count": 33
        },
        {
          "output_type": "execute_result",
          "data": {
            "image/png": "[encoded data removed]",
            "text/latex": "$\\displaystyle 4 \\sin{\\left(x \\right)} \\sin^{3}{\\left(y \\right)} - 3 \\sin{\\left(x \\right)} \\sin{\\left(y \\right)} + 4 \\cos{\\left(x \\right)} \\cos^{3}{\\left(y \\right)} - 3 \\cos{\\left(x \\right)} \\cos{\\left(y \\right)}$",
            "text/plain": [
              "            3                                    3                     \n",
              "4⋅sin(x)⋅sin (y) - 3⋅sin(x)⋅sin(y) + 4⋅cos(x)⋅cos (y) - 3⋅cos(x)⋅cos(y)"
            ]
          },
          "metadata": {
            "tags": []
          },
          "execution_count": 33
        }
      ]
    },
    {
      "cell_type": "markdown",
      "metadata": {
        "id": "LqGUvXC0pYAN"
      },
      "source": [
        "Simplifying rational expressions:"
      ]
    },
    {
      "cell_type": "code",
      "metadata": {
        "id": "LtPUrkRgpUll",
        "outputId": "3bfcfc6d-3c40-424a-d075-d74e68132035",
        "colab": {
          "base_uri": "https://localhost:8080/",
          "height": 55
        }
      },
      "source": [
        "e = ((x**2 + 2*x + 1)/(x+1) + 1/(4*x+3))\n",
        "e"
      ],
      "execution_count": 34,
      "outputs": [
        {
          "output_type": "execute_result",
          "data": {
            "image/png": "[encoded data removed]",
            "text/latex": "$\\displaystyle \\frac{1}{4 x + 3} + \\frac{x^{2} + 2 x + 1}{x + 1}$",
            "text/plain": [
              "           2          \n",
              "   1      x  + 2⋅x + 1\n",
              "─────── + ────────────\n",
              "4⋅x + 3      x + 1    "
            ]
          },
          "metadata": {
            "tags": []
          },
          "execution_count": 34
        }
      ]
    },
    {
      "cell_type": "code",
      "metadata": {
        "id": "rcukJnBOpg8n",
        "outputId": "6facc507-34b3-407e-9865-da88fd9be18a",
        "colab": {
          "base_uri": "https://localhost:8080/",
          "height": 60
        }
      },
      "source": [
        "Eq(e, together(e))"
      ],
      "execution_count": 35,
      "outputs": [
        {
          "output_type": "execute_result",
          "data": {
            "image/png": "[encoded data removed]",
            "text/latex": "$\\displaystyle \\frac{1}{4 x + 3} + \\frac{x^{2} + 2 x + 1}{x + 1} = \\frac{x + \\left(4 x + 3\\right) \\left(x^{2} + 2 x + 1\\right) + 1}{\\left(x + 1\\right) \\left(4 x + 3\\right)}$",
            "text/plain": [
              "           2                           ⎛ 2          ⎞    \n",
              "   1      x  + 2⋅x + 1   x + (4⋅x + 3)⋅⎝x  + 2⋅x + 1⎠ + 1\n",
              "─────── + ──────────── = ────────────────────────────────\n",
              "4⋅x + 3      x + 1              (x + 1)⋅(4⋅x + 3)        "
            ]
          },
          "metadata": {
            "tags": []
          },
          "execution_count": 35
        }
      ]
    },
    {
      "cell_type": "code",
      "metadata": {
        "id": "hfNawDcAqckh",
        "outputId": "4e9874bf-581c-4e17-a2c4-4bc94a9af230",
        "colab": {
          "base_uri": "https://localhost:8080/",
          "height": 55
        }
      },
      "source": [
        "Eq(e, cancel(e))"
      ],
      "execution_count": 36,
      "outputs": [
        {
          "output_type": "execute_result",
          "data": {
            "image/png": "[encoded data removed]",
            "text/latex": "$\\displaystyle \\frac{1}{4 x + 3} + \\frac{x^{2} + 2 x + 1}{x + 1} = \\frac{4 x^{2} + 7 x + 4}{4 x + 3}$",
            "text/plain": [
              "           2                2          \n",
              "   1      x  + 2⋅x + 1   4⋅x  + 7⋅x + 4\n",
              "─────── + ──────────── = ──────────────\n",
              "4⋅x + 3      x + 1          4⋅x + 3    "
            ]
          },
          "metadata": {
            "tags": []
          },
          "execution_count": 36
        }
      ]
    },
    {
      "cell_type": "code",
      "metadata": {
        "id": "SeXJ62ynqg5r",
        "outputId": "c4f56236-f156-45d0-dc60-5fa892f54ac0",
        "colab": {
          "base_uri": "https://localhost:8080/",
          "height": 55
        }
      },
      "source": [
        "Eq(e, apart(e))"
      ],
      "execution_count": 37,
      "outputs": [
        {
          "output_type": "execute_result",
          "data": {
            "image/png": "[encoded data removed]",
            "text/latex": "$\\displaystyle \\frac{1}{4 x + 3} + \\frac{x^{2} + 2 x + 1}{x + 1} = x + 1 + \\frac{1}{4 x + 3}$",
            "text/plain": [
              "           2                            \n",
              "   1      x  + 2⋅x + 1              1   \n",
              "─────── + ──────────── = x + 1 + ───────\n",
              "4⋅x + 3      x + 1               4⋅x + 3"
            ]
          },
          "metadata": {
            "tags": []
          },
          "execution_count": 37
        }
      ]
    },
    {
      "cell_type": "markdown",
      "metadata": {
        "id": "spGa1lXMq5TI"
      },
      "source": [
        "Expanding rational expressions:"
      ]
    },
    {
      "cell_type": "code",
      "metadata": {
        "id": "iyhAB4bnqj-z",
        "outputId": "f4afe919-8e80-4721-ad07-6115b951114d",
        "colab": {
          "base_uri": "https://localhost:8080/",
          "height": 55
        }
      },
      "source": [
        "e = (x**2-1)/(x+2)\n",
        "Eq(e, expand(e))"
      ],
      "execution_count": 38,
      "outputs": [
        {
          "output_type": "execute_result",
          "data": {
            "image/png": "[encoded data removed]",
            "text/latex": "$\\displaystyle \\frac{x^{2} - 1}{x + 2} = \\frac{x^{2}}{x + 2} - \\frac{1}{x + 2}$",
            "text/plain": [
              " 2          2         \n",
              "x  - 1     x       1  \n",
              "────── = ───── - ─────\n",
              "x + 2    x + 2   x + 2"
            ]
          },
          "metadata": {
            "tags": []
          },
          "execution_count": 38
        }
      ]
    },
    {
      "cell_type": "markdown",
      "metadata": {
        "id": "OdW7NgkWrYUS"
      },
      "source": [
        "Substitutions:"
      ]
    },
    {
      "cell_type": "code",
      "metadata": {
        "id": "5jZ9lhNLrHhN",
        "outputId": "fe866d4d-1114-47c0-f9a8-5f056f62b1c5",
        "colab": {
          "base_uri": "https://localhost:8080/",
          "height": 37
        }
      },
      "source": [
        "(x**2 + 1).subs(x, 2)"
      ],
      "execution_count": 39,
      "outputs": [
        {
          "output_type": "execute_result",
          "data": {
            "image/png": "[encoded data removed]",
            "text/latex": "$\\displaystyle 5$",
            "text/plain": [
              "5"
            ]
          },
          "metadata": {
            "tags": []
          },
          "execution_count": 39
        }
      ]
    },
    {
      "cell_type": "markdown",
      "metadata": {
        "id": "AcUn3D4Fr8EW"
      },
      "source": [
        "Substituting the Results of One Calculation Into Another:"
      ]
    },
    {
      "cell_type": "code",
      "metadata": {
        "id": "isDywNIeroA5",
        "outputId": "6cddb6b0-153d-43ed-d157-45b20e2ba83f",
        "colab": {
          "base_uri": "https://localhost:8080/",
          "height": 37
        }
      },
      "source": [
        "solveset(x**2-1, x)"
      ],
      "execution_count": 40,
      "outputs": [
        {
          "output_type": "execute_result",
          "data": {
            "image/png": "[encoded data removed]",
            "text/latex": "$\\displaystyle \\left\\{-1, 1\\right\\}$",
            "text/plain": [
              "{-1, 1}"
            ]
          },
          "metadata": {
            "tags": []
          },
          "execution_count": 40
        }
      ]
    },
    {
      "cell_type": "code",
      "metadata": {
        "id": "l7D2w1dIr_xp"
      },
      "source": [
        "s = [*solveset(x**2-1, x)]\n",
        "x_1 = {x: s[0]}\n",
        "x_2 = {x: s[1]}"
      ],
      "execution_count": 41,
      "outputs": []
    },
    {
      "cell_type": "code",
      "metadata": {
        "id": "pXqk0NmbsOfi",
        "outputId": "9a9fdf5e-3852-4e6b-8139-226b029a8012",
        "colab": {
          "base_uri": "https://localhost:8080/",
          "height": 38
        }
      },
      "source": [
        "e = Eq(y, 3*x-11)\n",
        "e"
      ],
      "execution_count": 42,
      "outputs": [
        {
          "output_type": "execute_result",
          "data": {
            "image/png": "[encoded data removed]",
            "text/latex": "$\\displaystyle y = 3 x - 11$",
            "text/plain": [
              "y = 3⋅x - 11"
            ]
          },
          "metadata": {
            "tags": []
          },
          "execution_count": 42
        }
      ]
    },
    {
      "cell_type": "code",
      "metadata": {
        "id": "5su9rq77slCK",
        "outputId": "bd2f9f20-bca7-48a2-efc5-a2146f3a62d4",
        "colab": {
          "base_uri": "https://localhost:8080/",
          "height": 59
        }
      },
      "source": [
        "e.subs(x_1)\n",
        "e.subs(x_2)"
      ],
      "execution_count": 43,
      "outputs": [
        {
          "output_type": "execute_result",
          "data": {
            "image/png": "[encoded data removed]",
            "text/latex": "$\\displaystyle y = -14$",
            "text/plain": [
              "y = -14"
            ]
          },
          "metadata": {
            "tags": []
          },
          "execution_count": 43
        },
        {
          "output_type": "execute_result",
          "data": {
            "image/png": "[encoded data removed]",
            "text/latex": "$\\displaystyle y = -8$",
            "text/plain": [
              "y = -8"
            ]
          },
          "metadata": {
            "tags": []
          },
          "execution_count": 43
        }
      ]
    },
    {
      "cell_type": "markdown",
      "metadata": {
        "id": "PSJ56G1LtVMG"
      },
      "source": [
        "Calculate a limit:"
      ]
    },
    {
      "cell_type": "code",
      "metadata": {
        "id": "UCgrj4z6spGB",
        "outputId": "c98cd5cc-aa9e-4700-86cf-46ae6a3f00af",
        "colab": {
          "base_uri": "https://localhost:8080/",
          "height": 37
        }
      },
      "source": [
        "f = sin(x)/x\n",
        "limit(f, x, 0)"
      ],
      "execution_count": 44,
      "outputs": [
        {
          "output_type": "execute_result",
          "data": {
            "image/png": "[encoded data removed]",
            "text/latex": "$\\displaystyle 1$",
            "text/plain": [
              "1"
            ]
          },
          "metadata": {
            "tags": []
          },
          "execution_count": 44
        }
      ]
    },
    {
      "cell_type": "markdown",
      "metadata": {
        "id": "HRv1UBNxtk9C"
      },
      "source": [
        "Calculate a limit as x approaches from dir=\"+\":"
      ]
    },
    {
      "cell_type": "code",
      "metadata": {
        "id": "-rh1y1uPtjfi",
        "outputId": "4a963747-1af6-43f7-a299-0abc53f8aca0",
        "colab": {
          "base_uri": "https://localhost:8080/",
          "height": 37
        }
      },
      "source": [
        "f = tan(x)\n",
        "limit(f, x, pi/2, dir='+')"
      ],
      "execution_count": 45,
      "outputs": [
        {
          "output_type": "execute_result",
          "data": {
            "image/png": "[encoded data removed]",
            "text/latex": "$\\displaystyle -\\infty$",
            "text/plain": [
              "-∞"
            ]
          },
          "metadata": {
            "tags": []
          },
          "execution_count": 45
        }
      ]
    },
    {
      "cell_type": "markdown",
      "metadata": {
        "id": "HeEmRzInuz3a"
      },
      "source": [
        "Calculate a limit as x approaches from dir=\"-\":"
      ]
    },
    {
      "cell_type": "code",
      "metadata": {
        "id": "AAw4HO90t6Wy",
        "outputId": "ee18ec52-0487-4b87-985a-f94f2374f8ef",
        "colab": {
          "base_uri": "https://localhost:8080/",
          "height": 37
        }
      },
      "source": [
        "f = tan(x)\n",
        "limit(f, x, pi/2, dir='-')"
      ],
      "execution_count": 46,
      "outputs": [
        {
          "output_type": "execute_result",
          "data": {
            "image/png": "[encoded data removed]",
            "text/latex": "$\\displaystyle \\infty$",
            "text/plain": [
              "∞"
            ]
          },
          "metadata": {
            "tags": []
          },
          "execution_count": 46
        }
      ]
    },
    {
      "cell_type": "markdown",
      "metadata": {
        "id": "pXwIZ6AnvM3m"
      },
      "source": [
        "Show the Limit Equation:"
      ]
    },
    {
      "cell_type": "code",
      "metadata": {
        "id": "FWI0gm3HuyyV",
        "outputId": "3d3bb000-58c8-485b-94e5-1d695c10d041",
        "colab": {
          "base_uri": "https://localhost:8080/",
          "height": 58
        }
      },
      "source": [
        "e = Limit(sin(x)/x, x, 0)\n",
        "Eq(e, e.doit())"
      ],
      "execution_count": 47,
      "outputs": [
        {
          "output_type": "execute_result",
          "data": {
            "image/png": "[encoded data removed]",
            "text/latex": "$\\displaystyle \\lim_{x \\to 0^+}\\left(\\frac{\\sin{\\left(x \\right)}}{x}\\right) = 1$",
            "text/plain": [
              "     ⎛sin(x)⎞    \n",
              " lim ⎜──────⎟ = 1\n",
              "x─→0⁺⎝  x   ⎠    "
            ]
          },
          "metadata": {
            "tags": []
          },
          "execution_count": 47
        }
      ]
    },
    {
      "cell_type": "markdown",
      "metadata": {
        "id": "9qpDYxePv5di"
      },
      "source": [
        "Simple Differentiation:"
      ]
    },
    {
      "cell_type": "code",
      "metadata": {
        "id": "S8kQ-GT-vsir",
        "outputId": "025f9321-46a0-4706-f8a5-cfcd5bf3d57e",
        "colab": {
          "base_uri": "https://localhost:8080/",
          "height": 38
        }
      },
      "source": [
        "f = c*x**2-sin(d*x)\n",
        "diff(f, x)"
      ],
      "execution_count": 48,
      "outputs": [
        {
          "output_type": "execute_result",
          "data": {
            "image/png": "[encoded data removed]",
            "text/latex": "$\\displaystyle 2 c x - d \\cos{\\left(d x \\right)}$",
            "text/plain": [
              "2⋅c⋅x - d⋅cos(d⋅x)"
            ]
          },
          "metadata": {
            "tags": []
          },
          "execution_count": 48
        }
      ]
    },
    {
      "cell_type": "markdown",
      "metadata": {
        "id": "TYJfNKLXwTc6"
      },
      "source": [
        "Higher Order Differentiation:"
      ]
    },
    {
      "cell_type": "code",
      "metadata": {
        "id": "FQCjQcRwwJdu",
        "outputId": "6aed5065-06dc-404b-bac0-dc0469d42246",
        "colab": {
          "base_uri": "https://localhost:8080/",
          "height": 38
        }
      },
      "source": [
        "diff(f, x, 3)"
      ],
      "execution_count": 49,
      "outputs": [
        {
          "output_type": "execute_result",
          "data": {
            "image/png": "[encoded data removed]",
            "text/latex": "$\\displaystyle d^{3} \\cos{\\left(d x \\right)}$",
            "text/plain": [
              " 3         \n",
              "d ⋅cos(d⋅x)"
            ]
          },
          "metadata": {
            "tags": []
          },
          "execution_count": 49
        }
      ]
    },
    {
      "cell_type": "markdown",
      "metadata": {
        "id": "10iHVpUzwZ48"
      },
      "source": [
        "Partial Differentiation:"
      ]
    },
    {
      "cell_type": "code",
      "metadata": {
        "id": "oorefp3TwX8l",
        "outputId": "2689cfad-bbde-49b2-eaa1-4073e2a76829",
        "colab": {
          "base_uri": "https://localhost:8080/",
          "height": 38
        }
      },
      "source": [
        "diff(f, d, 3)"
      ],
      "execution_count": 50,
      "outputs": [
        {
          "output_type": "execute_result",
          "data": {
            "image/png": "[encoded data removed]",
            "text/latex": "$\\displaystyle x^{3} \\cos{\\left(d x \\right)}$",
            "text/plain": [
              " 3         \n",
              "x ⋅cos(d⋅x)"
            ]
          },
          "metadata": {
            "tags": []
          },
          "execution_count": 50
        }
      ]
    },
    {
      "cell_type": "markdown",
      "metadata": {
        "id": "_mQa59-2wniR"
      },
      "source": [
        "Show Derivative Equation:"
      ]
    },
    {
      "cell_type": "code",
      "metadata": {
        "id": "FilpXHCnwfjG",
        "outputId": "4732e6ab-44d0-4598-cbfd-d5aec7955190",
        "colab": {
          "base_uri": "https://localhost:8080/",
          "height": 54
        }
      },
      "source": [
        "e = Derivative(c*x**2-sin(d*x), x, 2)\n",
        "Eq(e, e.doit())"
      ],
      "execution_count": 51,
      "outputs": [
        {
          "output_type": "execute_result",
          "data": {
            "image/png": "[encoded data removed]",
            "text/latex": "$\\displaystyle \\frac{\\partial^{2}}{\\partial x^{2}} \\left(c x^{2} - \\sin{\\left(d x \\right)}\\right) = 2 c + d^{2} \\sin{\\left(d x \\right)}$",
            "text/plain": [
              "  2                                     \n",
              " ∂ ⎛   2           ⎞          2         \n",
              "───⎝c⋅x  - sin(d⋅x)⎠ = 2⋅c + d ⋅sin(d⋅x)\n",
              "  2                                     \n",
              "∂x                                      "
            ]
          },
          "metadata": {
            "tags": []
          },
          "execution_count": 51
        }
      ]
    },
    {
      "cell_type": "markdown",
      "metadata": {
        "id": "IPvCyaHoxAgx"
      },
      "source": [
        "Simple Integration:"
      ]
    },
    {
      "cell_type": "code",
      "metadata": {
        "id": "FcxSwEmQw4ev",
        "outputId": "f4f4fd6b-1162-4447-c719-cd54c3f5f385",
        "colab": {
          "base_uri": "https://localhost:8080/",
          "height": 53
        }
      },
      "source": [
        "integrate(cos(3*x),x)"
      ],
      "execution_count": 52,
      "outputs": [
        {
          "output_type": "execute_result",
          "data": {
            "image/png": "[encoded data removed]",
            "text/latex": "$\\displaystyle \\frac{\\sin{\\left(3 x \\right)}}{3}$",
            "text/plain": [
              "sin(3⋅x)\n",
              "────────\n",
              "   3    "
            ]
          },
          "metadata": {
            "tags": []
          },
          "execution_count": 52
        }
      ]
    },
    {
      "cell_type": "markdown",
      "metadata": {
        "id": "sSjwlGvpxKQM"
      },
      "source": [
        "Definite Integration:"
      ]
    },
    {
      "cell_type": "code",
      "metadata": {
        "id": "CRgV3jfoxHdL",
        "outputId": "074e2a1c-e4d4-4623-ba78-4932f6d9acbf",
        "colab": {
          "base_uri": "https://localhost:8080/",
          "height": 51
        }
      },
      "source": [
        "integrate(cos(3*x),(x, 0, pi/2))"
      ],
      "execution_count": 53,
      "outputs": [
        {
          "output_type": "execute_result",
          "data": {
            "image/png": "[encoded data removed]",
            "text/latex": "$\\displaystyle - \\frac{1}{3}$",
            "text/plain": [
              "-1/3"
            ]
          },
          "metadata": {
            "tags": []
          },
          "execution_count": 53
        }
      ]
    },
    {
      "cell_type": "markdown",
      "metadata": {
        "id": "UwsTwBF0xcQg"
      },
      "source": [
        "Numeric Integration:"
      ]
    },
    {
      "cell_type": "code",
      "metadata": {
        "id": "wn9sgNdAxQjd",
        "outputId": "25f309b1-3d11-4f79-95dd-8284e1b36dec",
        "colab": {
          "base_uri": "https://localhost:8080/",
          "height": 80
        }
      },
      "source": [
        "integrate(sin(sin(x)),(x,0,1))"
      ],
      "execution_count": 54,
      "outputs": [
        {
          "output_type": "execute_result",
          "data": {
            "image/png": "[encoded data removed]",
            "text/latex": "$\\displaystyle \\int\\limits_{0}^{1} \\sin{\\left(\\sin{\\left(x \\right)} \\right)}\\, dx$",
            "text/plain": [
              "1               \n",
              "⌠               \n",
              "⎮ sin(sin(x)) dx\n",
              "⌡               \n",
              "0               "
            ]
          },
          "metadata": {
            "tags": []
          },
          "execution_count": 54
        }
      ]
    },
    {
      "cell_type": "code",
      "metadata": {
        "id": "w-MA-3MoxkEi",
        "outputId": "f34919ba-1a4b-43d0-d65c-e54a7088e7d2",
        "colab": {
          "base_uri": "https://localhost:8080/",
          "height": 37
        }
      },
      "source": [
        "N(_)"
      ],
      "execution_count": 55,
      "outputs": [
        {
          "output_type": "execute_result",
          "data": {
            "image/png": "[encoded data removed]",
            "text/latex": "$\\displaystyle 0.430606103120691$",
            "text/plain": [
              "0.430606103120691"
            ]
          },
          "metadata": {
            "tags": []
          },
          "execution_count": 55
        }
      ]
    },
    {
      "cell_type": "markdown",
      "metadata": {
        "id": "6PN1LxY2yWVT"
      },
      "source": [
        "Show a Integral Equation:"
      ]
    },
    {
      "cell_type": "code",
      "metadata": {
        "id": "wKR9oJvOx8gb",
        "outputId": "71ce94c5-43aa-415d-c8bb-ddfe1f6ff15b",
        "colab": {
          "base_uri": "https://localhost:8080/",
          "height": 77
        }
      },
      "source": [
        "e = Integral(sin(x),(x, 0, pi))\n",
        "Eq(e, e.doit())"
      ],
      "execution_count": 56,
      "outputs": [
        {
          "output_type": "execute_result",
          "data": {
            "image/png": "[encoded data removed]",
            "text/latex": "$\\displaystyle \\int\\limits_{0}^{\\pi} \\sin{\\left(x \\right)}\\, dx = 2$",
            "text/plain": [
              "π              \n",
              "⌠              \n",
              "⎮ sin(x) dx = 2\n",
              "⌡              \n",
              "0              "
            ]
          },
          "metadata": {
            "tags": []
          },
          "execution_count": 56
        }
      ]
    },
    {
      "cell_type": "markdown",
      "metadata": {
        "id": "_mYG0_YszMop"
      },
      "source": [
        "Multiple Integrals:"
      ]
    },
    {
      "cell_type": "code",
      "metadata": {
        "id": "O5hFFDg8yryw",
        "outputId": "05c79cfe-9e0e-444d-b07e-99364742860c",
        "colab": {
          "base_uri": "https://localhost:8080/",
          "height": 80
        }
      },
      "source": [
        "e = Integral(sin(x)+cos(y),(x, 0, pi), (y, 0, 2*pi))\n",
        "Eq(e, e.doit())"
      ],
      "execution_count": 57,
      "outputs": [
        {
          "output_type": "execute_result",
          "data": {
            "image/png": "[encoded data removed]",
            "text/latex": "$\\displaystyle \\int\\limits_{0}^{2 \\pi}\\int\\limits_{0}^{\\pi} \\left(\\sin{\\left(x \\right)} + \\cos{\\left(y \\right)}\\right)\\, dx\\, dy = 4 \\pi$",
            "text/plain": [
              "2⋅π π                              \n",
              " ⌠  ⌠                              \n",
              " ⎮  ⎮ (sin(x) + cos(y)) dx dy = 4⋅π\n",
              " ⌡  ⌡                              \n",
              " 0  0                              "
            ]
          },
          "metadata": {
            "tags": []
          },
          "execution_count": 57
        }
      ]
    },
    {
      "cell_type": "markdown",
      "metadata": {
        "id": "XJ67ZSN5znej"
      },
      "source": [
        "Summation:"
      ]
    },
    {
      "cell_type": "code",
      "metadata": {
        "id": "0Yo42YMszX73",
        "outputId": "1a1ceefc-c17e-4be3-817a-47d293f6f55a",
        "colab": {
          "base_uri": "https://localhost:8080/",
          "height": 66
        }
      },
      "source": [
        "Sum(1/n**2, (n, 1, oo))"
      ],
      "execution_count": 58,
      "outputs": [
        {
          "output_type": "execute_result",
          "data": {
            "image/png": "[encoded data removed]",
            "text/latex": "$\\displaystyle \\sum_{n=1}^{\\infty} \\frac{1}{n^{2}}$",
            "text/plain": [
              "  ∞     \n",
              " ____   \n",
              " ╲      \n",
              "  ╲   1 \n",
              "   ╲  ──\n",
              "   ╱   2\n",
              "  ╱   n \n",
              " ╱      \n",
              " ‾‾‾‾   \n",
              "n = 1   "
            ]
          },
          "metadata": {
            "tags": []
          },
          "execution_count": 58
        }
      ]
    },
    {
      "cell_type": "markdown",
      "metadata": {
        "id": "DcVb5_x1z6rr"
      },
      "source": [
        "Total of sum:"
      ]
    },
    {
      "cell_type": "code",
      "metadata": {
        "id": "p6siN_I4z1Nb",
        "outputId": "301902ef-d834-4f75-be9a-ebdc67faeb64",
        "colab": {
          "base_uri": "https://localhost:8080/",
          "height": 66
        }
      },
      "source": [
        "e = Sum(1/n**2, (n, 1, oo))\n",
        "Eq(e, e.doit())"
      ],
      "execution_count": 59,
      "outputs": [
        {
          "output_type": "execute_result",
          "data": {
            "image/png": "[encoded data removed]",
            "text/latex": "$\\displaystyle \\sum_{n=1}^{\\infty} \\frac{1}{n^{2}} = \\frac{\\pi^{2}}{6}$",
            "text/plain": [
              "  ∞          \n",
              " ____        \n",
              " ╲           \n",
              "  ╲   1     2\n",
              "   ╲  ──   π \n",
              "   ╱   2 = ──\n",
              "  ╱   n    6 \n",
              " ╱           \n",
              " ‾‾‾‾        \n",
              "n = 1        "
            ]
          },
          "metadata": {
            "tags": []
          },
          "execution_count": 59
        }
      ]
    },
    {
      "cell_type": "markdown",
      "metadata": {
        "id": "rFFy0Cyy0nXW"
      },
      "source": [
        "Products:"
      ]
    },
    {
      "cell_type": "code",
      "metadata": {
        "id": "SlzhZs9u0EFm",
        "outputId": "262dc5a3-21e3-4f7d-c6ae-6dd47ff02a0c",
        "colab": {
          "base_uri": "https://localhost:8080/",
          "height": 66
        }
      },
      "source": [
        "Product(1/n**2, (n, 1, oo))"
      ],
      "execution_count": 60,
      "outputs": [
        {
          "output_type": "execute_result",
          "data": {
            "image/png": "[encoded data removed]",
            "text/latex": "$\\displaystyle \\prod_{n=1}^{\\infty} \\frac{1}{n^{2}}$",
            "text/plain": [
              "    ∞        \n",
              "─┬──────┬─   \n",
              " │      │  1 \n",
              " │      │  ──\n",
              " │      │   2\n",
              " │      │  n \n",
              " │      │    \n",
              "  n = 1      "
            ]
          },
          "metadata": {
            "tags": []
          },
          "execution_count": 60
        }
      ]
    },
    {
      "cell_type": "markdown",
      "metadata": {
        "id": "APWO5-XT0vdl"
      },
      "source": [
        "Total of products:"
      ]
    },
    {
      "cell_type": "code",
      "metadata": {
        "id": "jvPL9KOA0to5",
        "outputId": "3dfcaf46-46c3-46ce-e5d2-43eba1ff4d29",
        "colab": {
          "base_uri": "https://localhost:8080/",
          "height": 51
        }
      },
      "source": [
        "product(1/n**2, (n, 1, 10))"
      ],
      "execution_count": 61,
      "outputs": [
        {
          "output_type": "execute_result",
          "data": {
            "image/png": "[encoded data removed]",
            "text/latex": "$\\displaystyle \\frac{1}{13168189440000}$",
            "text/plain": [
              "1/13168189440000"
            ]
          },
          "metadata": {
            "tags": []
          },
          "execution_count": 61
        }
      ]
    },
    {
      "cell_type": "markdown",
      "metadata": {
        "id": "K7pGECSZ1RvX"
      },
      "source": [
        "Show a product equation:"
      ]
    },
    {
      "cell_type": "code",
      "metadata": {
        "id": "R7ZXipe9012v",
        "outputId": "2fb76b4c-ab63-4078-cd62-a1b1032fdb81",
        "colab": {
          "base_uri": "https://localhost:8080/",
          "height": 69
        }
      },
      "source": [
        "e = Product(1/n**2, (n, 1, 10))\n",
        "Eq(e, e.doit())"
      ],
      "execution_count": 62,
      "outputs": [
        {
          "output_type": "execute_result",
          "data": {
            "image/png": "[encoded data removed]",
            "text/latex": "$\\displaystyle \\prod_{n=1}^{10} \\frac{1}{n^{2}} = \\frac{1}{13168189440000}$",
            "text/plain": [
              "    10                          \n",
              "─┬──────┬─                      \n",
              " │      │  1                    \n",
              " │      │  ──                   \n",
              " │      │   2 = 1/13168189440000\n",
              " │      │  n                    \n",
              " │      │                       \n",
              "  n = 1                         "
            ]
          },
          "metadata": {
            "tags": []
          },
          "execution_count": 62
        }
      ]
    },
    {
      "cell_type": "markdown",
      "metadata": {
        "id": "jx-K-OJ61WCJ"
      },
      "source": [
        "Series Expansion"
      ]
    },
    {
      "cell_type": "code",
      "metadata": {
        "id": "M3i_kAf51C1J",
        "outputId": "ac1a6040-e1b4-44e0-a783-6beb8121f48b",
        "colab": {
          "base_uri": "https://localhost:8080/",
          "height": 54
        }
      },
      "source": [
        "taylor_sin = series(sin(x),x, 0, 6)\n",
        "taylor_sin"
      ],
      "execution_count": 63,
      "outputs": [
        {
          "output_type": "execute_result",
          "data": {
            "image/png": "[encoded data removed]",
            "text/latex": "$\\displaystyle x - \\frac{x^{3}}{6} + \\frac{x^{5}}{120} + O\\left(x^{6}\\right)$",
            "text/plain": [
              "     3     5        \n",
              "    x     x     ⎛ 6⎞\n",
              "x - ── + ─── + O⎝x ⎠\n",
              "    6    120        "
            ]
          },
          "metadata": {
            "tags": []
          },
          "execution_count": 63
        }
      ]
    },
    {
      "cell_type": "markdown",
      "metadata": {
        "id": "Oh6428Y51ul5"
      },
      "source": [
        "Removes the additive O(...) symbol:"
      ]
    },
    {
      "cell_type": "code",
      "metadata": {
        "id": "GZLkpTvb1fEX"
      },
      "source": [
        "sin_approx = taylor_sin.removeO()"
      ],
      "execution_count": 64,
      "outputs": []
    },
    {
      "cell_type": "markdown",
      "metadata": {
        "id": "O_sUFX1K2B84"
      },
      "source": [
        "Compare series approximation to the original function:"
      ]
    },
    {
      "cell_type": "code",
      "metadata": {
        "id": "ijL-1MTy1ppu",
        "outputId": "0bab33f1-d556-491a-ec1d-66a33e35f563",
        "colab": {
          "base_uri": "https://localhost:8080/",
          "height": 296
        }
      },
      "source": [
        "p = plot(sin(x), sin_approx, (x, 0, pi), show=False);\n",
        "p[0].line_color = \"r\"\n",
        "p[1].line_color = \"g\"\n",
        "p[1].label = \"approximation\"\n",
        "p.legend = True\n",
        "p.show()"
      ],
      "execution_count": 65,
      "outputs": [
        {
          "output_type": "display_data",
          "data": {
            "image/png": "[encoded data removed]",
            "text/plain": [
              "<Figure size 432x288 with 1 Axes>"
            ]
          },
          "metadata": {
            "tags": [],
            "needs_background": "light"
          }
        }
      ]
    }
  ]
}