{
  "nbformat": 4,
  "nbformat_minor": 0,
  "metadata": {
    "colab": {
      "name": "s2_fracoes_decimais.ipynb",
      "provenance": [],
      "collapsed_sections": [
        "0VNeAtRh3Kj-"
      ],
      "authorship_tag": "ABX9TyO07/Pd1viFN4m1Tb/hQb/Z",
      "include_colab_link": true
    },
    "kernelspec": {
      "name": "python3",
      "display_name": "Python 3"
    },
    "language_info": {
      "name": "python"
    }
  },
  "cells": [
    {
      "cell_type": "markdown",
      "metadata": {
        "id": "view-in-github",
        "colab_type": "text"
      },
      "source": [
        "<a href=\"https://colab.research.google.com/github/dionipdl/sympy_mat_intro/blob/main/s2_fracoes_decimais.ipynb\" target=\"_parent\"><img src=\"https://colab.research.google.com/assets/colab-badge.svg\" alt=\"Open In Colab\"/></a>"
      ]
    },
    {
      "cell_type": "markdown",
      "metadata": {
        "id": "T5oRYwbdpZyO"
      },
      "source": [
        "# Sympy: Introdução Rápida para Matemática"
      ]
    },
    {
      "cell_type": "markdown",
      "metadata": {
        "id": "0VNeAtRh3Kj-"
      },
      "source": [
        "###### Configurando o Ambiente:"
      ]
    },
    {
      "cell_type": "code",
      "metadata": {
        "colab": {
          "base_uri": "https://localhost:8080/"
        },
        "id": "1A9q66SqqZSW",
        "outputId": "59ad98f2-d798-405f-ee01-1bec7043beb7"
      },
      "source": [
        "from sympy import *\n",
        "init_session()\n",
        "a, b, c, d = symbols('a, b, c, d')\n",
        "ue = UnevaluatedExpr"
      ],
      "execution_count": 1,
      "outputs": [
        {
          "output_type": "stream",
          "text": [
            "IPython console for SymPy 1.7.1 (Python 3.7.10-64-bit) (ground types: python)\n",
            "\n",
            "These commands were executed:\n",
            ">>> from __future__ import division\n",
            ">>> from sympy import *\n",
            ">>> x, y, z, t = symbols('x y z t')\n",
            ">>> k, m, n = symbols('k m n', integer=True)\n",
            ">>> f, g, h = symbols('f g h', cls=Function)\n",
            ">>> init_printing()\n",
            "\n",
            "Documentation can be found at https://docs.sympy.org/1.7.1/\n",
            "\n"
          ],
          "name": "stdout"
        }
      ]
    },
    {
      "cell_type": "code",
      "metadata": {
        "id": "YwiVPtFJqh_e"
      },
      "source": [
        "from seaborn import set_style as plot_style\n",
        "plot_style(\"whitegrid\")\n",
        "%matplotlib inline"
      ],
      "execution_count": 2,
      "outputs": []
    },
    {
      "cell_type": "code",
      "metadata": {
        "id": "UYhPisG2q25T"
      },
      "source": [
        "from IPython.core.interactiveshell import InteractiveShell\n",
        "InteractiveShell.ast_node_interactivity = \"all\""
      ],
      "execution_count": 3,
      "outputs": []
    },
    {
      "cell_type": "markdown",
      "metadata": {
        "id": "5feylSO8wNzt"
      },
      "source": [
        "## Frações e decimais"
      ]
    },
    {
      "cell_type": "markdown",
      "metadata": {
        "id": "d4MTfTXJF2YJ"
      },
      "source": [
        "---"
      ]
    },
    {
      "cell_type": "markdown",
      "metadata": {
        "id": "dtxVIMSjGbQ3"
      },
      "source": [
        "### Manipulação de Racionais"
      ]
    },
    {
      "cell_type": "markdown",
      "metadata": {
        "id": "iMCwLZfGFnM4"
      },
      "source": [
        "Objetos sympy resultarão em saídas exatas:"
      ]
    },
    {
      "cell_type": "code",
      "metadata": {
        "colab": {
          "base_uri": "https://localhost:8080/",
          "height": 51
        },
        "id": "5X3LPO3lAX00",
        "outputId": "73fe92f6-93da-48b5-8fb6-25b3f790084e"
      },
      "source": [
        "1/a + 1/b"
      ],
      "execution_count": 4,
      "outputs": [
        {
          "output_type": "execute_result",
          "data": {
            "image/png": "[encoded data removed]",
            "text/latex": "$\\displaystyle \\frac{1}{b} + \\frac{1}{a}$",
            "text/plain": [
              "1   1\n",
              "─ + ─\n",
              "b   a"
            ]
          },
          "metadata": {
            "tags": []
          },
          "execution_count": 4
        }
      ]
    },
    {
      "cell_type": "markdown",
      "metadata": {
        "id": "YxU8K1KwJPdX"
      },
      "source": [
        "Mínimo denominador comum:"
      ]
    },
    {
      "cell_type": "code",
      "metadata": {
        "colab": {
          "base_uri": "https://localhost:8080/",
          "height": 52
        },
        "id": "g8RrscLmJDto",
        "outputId": "d8cf08c4-bb45-4757-f0b0-9968f3dd76f9"
      },
      "source": [
        "_.together()"
      ],
      "execution_count": 5,
      "outputs": [
        {
          "output_type": "execute_result",
          "data": {
            "image/png": "[encoded data removed]",
            "text/latex": "$\\displaystyle \\frac{a + b}{a b}$",
            "text/plain": [
              "a + b\n",
              "─────\n",
              " a⋅b "
            ]
          },
          "metadata": {
            "tags": []
          },
          "execution_count": 5
        }
      ]
    },
    {
      "cell_type": "markdown",
      "metadata": {
        "id": "XZGeCTG3Jp__"
      },
      "source": [
        "Expandir em frações parciais:"
      ]
    },
    {
      "cell_type": "code",
      "metadata": {
        "colab": {
          "base_uri": "https://localhost:8080/",
          "height": 51
        },
        "id": "uDxrsi29Jjtb",
        "outputId": "abd9eaed-c156-4439-a6da-a8acee66e7a4"
      },
      "source": [
        "_.expand()"
      ],
      "execution_count": 6,
      "outputs": [
        {
          "output_type": "execute_result",
          "data": {
            "image/png": "[encoded data removed]",
            "text/latex": "$\\displaystyle \\frac{1}{b} + \\frac{1}{a}$",
            "text/plain": [
              "1   1\n",
              "─ + ─\n",
              "b   a"
            ]
          },
          "metadata": {
            "tags": []
          },
          "execution_count": 6
        }
      ]
    },
    {
      "cell_type": "markdown",
      "metadata": {
        "id": "ljB7kadoKFgp"
      },
      "source": [
        "---"
      ]
    },
    {
      "cell_type": "markdown",
      "metadata": {
        "id": "WlGxqQgXKHRZ"
      },
      "source": [
        "### Manipulação Decimais"
      ]
    },
    {
      "cell_type": "markdown",
      "metadata": {
        "id": "nSM2a5YiKYaf"
      },
      "source": [
        "Decimais geram resultados aproximados:"
      ]
    },
    {
      "cell_type": "code",
      "metadata": {
        "colab": {
          "base_uri": "https://localhost:8080/",
          "height": 38
        },
        "id": "XxPDZC7AJ3il",
        "outputId": "0e2de915-c057-4bc0-9e08-f6b17f2319d4"
      },
      "source": [
        "0.25 * x"
      ],
      "execution_count": 7,
      "outputs": [
        {
          "output_type": "execute_result",
          "data": {
            "image/png": "[encoded data removed]",
            "text/latex": "$\\displaystyle 0.25 x$",
            "text/plain": [
              "0.25⋅x"
            ]
          },
          "metadata": {
            "tags": []
          },
          "execution_count": 7
        }
      ]
    },
    {
      "cell_type": "markdown",
      "metadata": {
        "id": "Ds59HW0lKo8T"
      },
      "source": [
        "Forçar ou controlar a aproximação numérica:"
      ]
    },
    {
      "cell_type": "code",
      "metadata": {
        "colab": {
          "base_uri": "https://localhost:8080/",
          "height": 38
        },
        "id": "VE5PdvCGKfOP",
        "outputId": "00d51372-1467-486f-cf77-cf23fb9c420f"
      },
      "source": [
        "N(x/3, 3)"
      ],
      "execution_count": 8,
      "outputs": [
        {
          "output_type": "execute_result",
          "data": {
            "image/png": "[encoded data removed]",
            "text/latex": "$\\displaystyle 0.333 x$",
            "text/plain": [
              "0.333⋅x"
            ]
          },
          "metadata": {
            "tags": []
          },
          "execution_count": 8
        }
      ]
    },
    {
      "cell_type": "code",
      "metadata": {
        "colab": {
          "base_uri": "https://localhost:8080/",
          "height": 38
        },
        "id": "by36RfSQK6VC",
        "outputId": "da17fbcf-5e16-4d46-d949-6f308c38c263"
      },
      "source": [
        "(x/3).evalf(6)"
      ],
      "execution_count": 9,
      "outputs": [
        {
          "output_type": "execute_result",
          "data": {
            "image/png": "[encoded data removed]",
            "text/latex": "$\\displaystyle 0.333333 x$",
            "text/plain": [
              "0.333333⋅x"
            ]
          },
          "metadata": {
            "tags": []
          },
          "execution_count": 9
        }
      ]
    },
    {
      "cell_type": "markdown",
      "metadata": {
        "id": "d3j7UnMBMq54"
      },
      "source": [
        "Notação científica:"
      ]
    },
    {
      "cell_type": "code",
      "metadata": {
        "colab": {
          "base_uri": "https://localhost:8080/",
          "height": 37
        },
        "id": "ckr2fbeaLohi",
        "outputId": "8352de47-70f5-4f63-cbab-f7c9798c544b"
      },
      "source": [
        "1.23e-3"
      ],
      "execution_count": 10,
      "outputs": [
        {
          "output_type": "execute_result",
          "data": {
            "image/png": "[encoded data removed]",
            "text/latex": "$\\displaystyle 0.00123$",
            "text/plain": [
              "0.00123"
            ]
          },
          "metadata": {
            "tags": []
          },
          "execution_count": 10
        }
      ]
    },
    {
      "cell_type": "markdown",
      "metadata": {
        "id": "Ab7Qt3dYM4QJ"
      },
      "source": [
        "ScientificForm é aplicada de forma automática quando apropriada:"
      ]
    },
    {
      "cell_type": "code",
      "metadata": {
        "colab": {
          "base_uri": "https://localhost:8080/",
          "height": 37
        },
        "id": "KwVZJKoyM0ab",
        "outputId": "8207cf2a-0ad5-4bbe-fcbe-7281af54514c"
      },
      "source": [
        "N(factorial(100),6)"
      ],
      "execution_count": 11,
      "outputs": [
        {
          "output_type": "execute_result",
          "data": {
            "image/png": "[encoded data removed]",
            "text/latex": "$\\displaystyle 9.33262 \\cdot 10^{157}$",
            "text/plain": [
              "9.33262e+157"
            ]
          },
          "metadata": {
            "tags": []
          },
          "execution_count": 11
        }
      ]
    }
  ]
}