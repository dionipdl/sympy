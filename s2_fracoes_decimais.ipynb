{
  "nbformat": 4,
  "nbformat_minor": 0,
  "metadata": {
    "colab": {
      "name": "s2_fracoes_decimais.ipynb",
      "provenance": [],
      "collapsed_sections": [
        "0VNeAtRh3Kj-"
      ],
      "authorship_tag": "ABX9TyNSXY1s1g7aXdPOR/C68Ysj",
      "include_colab_link": true
    },
    "kernelspec": {
      "name": "python3",
      "display_name": "Python 3"
    },
    "language_info": {
      "name": "python"
    }
  },
  "cells": [
    {
      "cell_type": "markdown",
      "metadata": {
        "id": "view-in-github",
        "colab_type": "text"
      },
      "source": [
        "<a href=\"https://colab.research.google.com/github/dionipdl/sympy_mat_intro/blob/main/s2_fracoes_decimais.ipynb\" target=\"_parent\"><img src=\"https://colab.research.google.com/assets/colab-badge.svg\" alt=\"Open In Colab\"/></a>"
      ]
    },
    {
      "cell_type": "markdown",
      "metadata": {
        "id": "T5oRYwbdpZyO"
      },
      "source": [
        "# Sympy: Introdução Rápida para Matemática"
      ]
    },
    {
      "cell_type": "markdown",
      "metadata": {
        "id": "0VNeAtRh3Kj-"
      },
      "source": [
        "###### Configurando o Ambiente:"
      ]
    },
    {
      "cell_type": "code",
      "metadata": {
        "colab": {
          "base_uri": "https://localhost:8080/"
        },
        "id": "1A9q66SqqZSW",
        "outputId": "cf40edf7-d59f-449d-8e6f-a8f53e9db8a6"
      },
      "source": [
        "from sympy import *\n",
        "init_session()\n",
        "a, b, c, d = symbols('a, b, c, d')\n",
        "ue = UnevaluatedExpr"
      ],
      "execution_count": 1,
      "outputs": [
        {
          "output_type": "stream",
          "text": [
            "IPython console for SymPy 1.7.1 (Python 3.7.10-64-bit) (ground types: python)\n",
            "\n",
            "These commands were executed:\n",
            ">>> from __future__ import division\n",
            ">>> from sympy import *\n",
            ">>> x, y, z, t = symbols('x y z t')\n",
            ">>> k, m, n = symbols('k m n', integer=True)\n",
            ">>> f, g, h = symbols('f g h', cls=Function)\n",
            ">>> init_printing()\n",
            "\n",
            "Documentation can be found at https://docs.sympy.org/1.7.1/\n",
            "\n"
          ],
          "name": "stdout"
        }
      ]
    },
    {
      "cell_type": "code",
      "metadata": {
        "id": "YwiVPtFJqh_e"
      },
      "source": [
        "from seaborn import set_style as plot_style\n",
        "plot_style(\"whitegrid\")\n",
        "%matplotlib inline"
      ],
      "execution_count": 2,
      "outputs": []
    },
    {
      "cell_type": "code",
      "metadata": {
        "id": "UYhPisG2q25T"
      },
      "source": [
        "from IPython.core.interactiveshell import InteractiveShell\n",
        "InteractiveShell.ast_node_interactivity = \"all\""
      ],
      "execution_count": 3,
      "outputs": []
    },
    {
      "cell_type": "markdown",
      "metadata": {
        "id": "5feylSO8wNzt"
      },
      "source": [
        "## Frações e decimais"
      ]
    },
    {
      "cell_type": "markdown",
      "metadata": {
        "id": "d4MTfTXJF2YJ"
      },
      "source": [
        "---"
      ]
    },
    {
      "cell_type": "markdown",
      "metadata": {
        "id": "dtxVIMSjGbQ3"
      },
      "source": [
        "### Manipulação de Racionais"
      ]
    },
    {
      "cell_type": "markdown",
      "metadata": {
        "id": "iMCwLZfGFnM4"
      },
      "source": [
        "Objetos sympy resultarão em saídas exatas:"
      ]
    },
    {
      "cell_type": "code",
      "metadata": {
        "colab": {
          "base_uri": "https://localhost:8080/",
          "height": 51
        },
        "id": "5X3LPO3lAX00",
        "outputId": "3a7b68d3-a946-4a80-e522-53b19b93e900"
      },
      "source": [
        "1/a + 1/b"
      ],
      "execution_count": 4,
      "outputs": [
        {
          "output_type": "execute_result",
          "data": {
            "image/png": "[encoded data removed]",
            "text/latex": "$\\displaystyle \\frac{1}{b} + \\frac{1}{a}$",
            "text/plain": [
              "1   1\n",
              "─ + ─\n",
              "b   a"
            ]
          },
          "metadata": {
            "tags": []
          },
          "execution_count": 4
        }
      ]
    },
    {
      "cell_type": "markdown",
      "metadata": {
        "id": "YxU8K1KwJPdX"
      },
      "source": [
        "Mínimo denominador comum:"
      ]
    },
    {
      "cell_type": "code",
      "metadata": {
        "colab": {
          "base_uri": "https://localhost:8080/",
          "height": 52
        },
        "id": "g8RrscLmJDto",
        "outputId": "d9e2be0e-98bf-46c7-ffa0-550806a40bdf"
      },
      "source": [
        "_.together()"
      ],
      "execution_count": 5,
      "outputs": [
        {
          "output_type": "execute_result",
          "data": {
            "image/png": "[encoded data removed]",
            "text/latex": "$\\displaystyle \\frac{a + b}{a b}$",
            "text/plain": [
              "a + b\n",
              "─────\n",
              " a⋅b "
            ]
          },
          "metadata": {
            "tags": []
          },
          "execution_count": 5
        }
      ]
    },
    {
      "cell_type": "markdown",
      "metadata": {
        "id": "XZGeCTG3Jp__"
      },
      "source": [
        "Expandir em frações parciais:"
      ]
    },
    {
      "cell_type": "code",
      "metadata": {
        "colab": {
          "base_uri": "https://localhost:8080/",
          "height": 51
        },
        "id": "uDxrsi29Jjtb",
        "outputId": "c350701c-4aaa-4033-cfd7-07d8d581e811"
      },
      "source": [
        "_.expand()"
      ],
      "execution_count": 6,
      "outputs": [
        {
          "output_type": "execute_result",
          "data": {
            "image/png": "[encoded data removed]",
            "text/latex": "$\\displaystyle \\frac{1}{b} + \\frac{1}{a}$",
            "text/plain": [
              "1   1\n",
              "─ + ─\n",
              "b   a"
            ]
          },
          "metadata": {
            "tags": []
          },
          "execution_count": 6
        }
      ]
    },
    {
      "cell_type": "markdown",
      "metadata": {
        "id": "ljB7kadoKFgp"
      },
      "source": [
        "---"
      ]
    },
    {
      "cell_type": "markdown",
      "metadata": {
        "id": "WlGxqQgXKHRZ"
      },
      "source": [
        "### Manipulação Decimais"
      ]
    },
    {
      "cell_type": "markdown",
      "metadata": {
        "id": "nSM2a5YiKYaf"
      },
      "source": [
        "Decimais geram resultados aproximados:"
      ]
    },
    {
      "cell_type": "code",
      "metadata": {
        "colab": {
          "base_uri": "https://localhost:8080/",
          "height": 38
        },
        "id": "XxPDZC7AJ3il",
        "outputId": "3e05d5d1-4978-41d2-87c7-f3484619a25f"
      },
      "source": [
        "0.25 * x"
      ],
      "execution_count": 7,
      "outputs": [
        {
          "output_type": "execute_result",
          "data": {
            "image/png": "[encoded data removed]",
            "text/latex": "$\\displaystyle 0.25 x$",
            "text/plain": [
              "0.25⋅x"
            ]
          },
          "metadata": {
            "tags": []
          },
          "execution_count": 7
        }
      ]
    },
    {
      "cell_type": "markdown",
      "metadata": {
        "id": "Ds59HW0lKo8T"
      },
      "source": [
        "Forçar ou controlar a aproximação numérica:"
      ]
    },
    {
      "cell_type": "code",
      "metadata": {
        "colab": {
          "base_uri": "https://localhost:8080/",
          "height": 38
        },
        "id": "VE5PdvCGKfOP",
        "outputId": "e5e7add2-aa5a-4b84-f677-770b14bc4237"
      },
      "source": [
        "N(x/3, 3)"
      ],
      "execution_count": 8,
      "outputs": [
        {
          "output_type": "execute_result",
          "data": {
            "image/png": "[encoded data removed]",
            "text/latex": "$\\displaystyle 0.333 x$",
            "text/plain": [
              "0.333⋅x"
            ]
          },
          "metadata": {
            "tags": []
          },
          "execution_count": 8
        }
      ]
    },
    {
      "cell_type": "code",
      "metadata": {
        "colab": {
          "base_uri": "https://localhost:8080/",
          "height": 38
        },
        "id": "by36RfSQK6VC",
        "outputId": "e8fd1a55-bac2-45a8-ae74-ba0a2ed67697"
      },
      "source": [
        "(x/3).evalf(6)"
      ],
      "execution_count": 9,
      "outputs": [
        {
          "output_type": "execute_result",
          "data": {
            "image/png": "[encoded data removed]",
            "text/latex": "$\\displaystyle 0.333333 x$",
            "text/plain": [
              "0.333333⋅x"
            ]
          },
          "metadata": {
            "tags": []
          },
          "execution_count": 9
        }
      ]
    },
    {
      "cell_type": "markdown",
      "metadata": {
        "id": "d3j7UnMBMq54"
      },
      "source": [
        "Notação científica:"
      ]
    },
    {
      "cell_type": "code",
      "metadata": {
        "colab": {
          "base_uri": "https://localhost:8080/",
          "height": 37
        },
        "id": "ckr2fbeaLohi",
        "outputId": "66b11535-9566-4c91-ff8b-1ab5d99ec59b"
      },
      "source": [
        "1.23e-3"
      ],
      "execution_count": 10,
      "outputs": [
        {
          "output_type": "execute_result",
          "data": {
            "image/png": "[encoded data removed]",
            "text/latex": "$\\displaystyle 0.00123$",
            "text/plain": [
              "0.00123"
            ]
          },
          "metadata": {
            "tags": []
          },
          "execution_count": 10
        }
      ]
    },
    {
      "cell_type": "markdown",
      "metadata": {
        "id": "Ab7Qt3dYM4QJ"
      },
      "source": [
        "Notação científica é automática quando apropriada:"
      ]
    },
    {
      "cell_type": "code",
      "metadata": {
        "colab": {
          "base_uri": "https://localhost:8080/",
          "height": 37
        },
        "id": "KwVZJKoyM0ab",
        "outputId": "ba60978a-3bf3-4947-df4d-b18731478e51"
      },
      "source": [
        "N(factorial(100),6)"
      ],
      "execution_count": 11,
      "outputs": [
        {
          "output_type": "execute_result",
          "data": {
            "image/png": "[encoded data removed]",
            "text/latex": "$\\displaystyle 9.33262 \\cdot 10^{157}$",
            "text/plain": [
              "9.33262e+157"
            ]
          },
          "metadata": {
            "tags": []
          },
          "execution_count": 11
        }
      ]
    },
    {
      "cell_type": "markdown",
      "metadata": {
        "id": "RHryP3h5483q"
      },
      "source": [
        "Converter decimal para fração:"
      ]
    },
    {
      "cell_type": "code",
      "metadata": {
        "colab": {
          "base_uri": "https://localhost:8080/",
          "height": 51
        },
        "id": "kkZJGeCb5LsE",
        "outputId": "46038b09-6e40-422a-a738-c84fbe7e4f6a"
      },
      "source": [
        "nsimplify(0.25)"
      ],
      "execution_count": 12,
      "outputs": [
        {
          "output_type": "execute_result",
          "data": {
            "image/png": "[encoded data removed]",
            "text/latex": "$\\displaystyle \\frac{1}{4}$",
            "text/plain": [
              "1/4"
            ]
          },
          "metadata": {
            "tags": []
          },
          "execution_count": 12
        }
      ]
    }
  ]
}