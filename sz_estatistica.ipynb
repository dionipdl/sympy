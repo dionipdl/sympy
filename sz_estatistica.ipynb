{
  "nbformat": 4,
  "nbformat_minor": 0,
  "metadata": {
    "colab": {
      "name": "s3_variaveis_funcoes.ipynb",
      "provenance": [],
      "collapsed_sections": [],
      "include_colab_link": true
    },
    "kernelspec": {
      "name": "python3",
      "display_name": "Python 3"
    },
    "language_info": {
      "name": "python"
    }
  },
  "cells": [
    {
      "cell_type": "markdown",
      "metadata": {
        "id": "view-in-github",
        "colab_type": "text"
      },
      "source": [
        "<a href=\"https://colab.research.google.com/github/dionipdl/sympy_mat_intro/blob/main/sz_estatistica.ipynb\" target=\"_parent\"><img src=\"https://colab.research.google.com/assets/colab-badge.svg\" alt=\"Open In Colab\"/></a>"
      ]
    },
    {
      "cell_type": "markdown",
      "metadata": {
        "id": "T5oRYwbdpZyO"
      },
      "source": [
        "# Sympy: Introdução Rápida para Matemática"
      ]
    },
    {
      "cell_type": "markdown",
      "metadata": {
        "id": "5feylSO8wNzt"
      },
      "source": [
        "## Estatística"
      ]
    },
    {
      "cell_type": "markdown",
      "metadata": {
        "id": "0VNeAtRh3Kj-"
      },
      "source": [
        "---\n",
        "### Configurando o Ambiente:\n",
        "---"
      ]
    },
    {
      "cell_type": "code",
      "metadata": {
        "colab": {
          "base_uri": "https://localhost:8080/"
        },
        "id": "1A9q66SqqZSW",
        "outputId": "168573d0-0482-4e77-fb8f-e05e73267aff"
      },
      "source": [
        "from sympy import *\n",
        "init_session()\n",
        "a, b, c, d = symbols('a, b, c, d')\n",
        "ue = UnevaluatedExpr"
      ],
      "execution_count": null,
      "outputs": [
        {
          "output_type": "stream",
          "text": [
            "IPython console for SymPy 1.7.1 (Python 3.7.10-64-bit) (ground types: python)\n",
            "\n",
            "These commands were executed:\n",
            ">>> from __future__ import division\n",
            ">>> from sympy import *\n",
            ">>> x, y, z, t = symbols('x y z t')\n",
            ">>> k, m, n = symbols('k m n', integer=True)\n",
            ">>> f, g, h = symbols('f g h', cls=Function)\n",
            ">>> init_printing()\n",
            "\n",
            "Documentation can be found at https://docs.sympy.org/1.7.1/\n",
            "\n"
          ],
          "name": "stdout"
        }
      ]
    },
    {
      "cell_type": "code",
      "metadata": {
        "id": "YwiVPtFJqh_e"
      },
      "source": [
        "from seaborn import set_style as plot_style\n",
        "plot_style(\"whitegrid\")\n",
        "%matplotlib inline"
      ],
      "execution_count": null,
      "outputs": []
    },
    {
      "cell_type": "code",
      "metadata": {
        "id": "UYhPisG2q25T"
      },
      "source": [
        "from IPython.core.interactiveshell import InteractiveShell\n",
        "InteractiveShell.ast_node_interactivity = \"all\""
      ],
      "execution_count": null,
      "outputs": []
    },
    {
      "cell_type": "markdown",
      "metadata": {
        "id": "C7d_JR5qntqp"
      },
      "source": [
        "---\n",
        "### Medidas de tendência\n",
        "---"
      ]
    },
    {
      "cell_type": "markdown",
      "metadata": {
        "id": "u2Mnc_X70DB_"
      },
      "source": [
        "Calcular a média de uma lista de números:"
      ]
    },
    {
      "cell_type": "code",
      "metadata": {
        "colab": {
          "base_uri": "https://localhost:8080/",
          "height": 37
        },
        "id": "5IUJtoN20I1n",
        "outputId": "95719b7b-e991-4ba7-d237-47b06a8cec38"
      },
      "source": [
        "numbers_list = [1,2,4,5]\n",
        "mean = Add(*numbers_list)/len(numbers_list)\n",
        "mean"
      ],
      "execution_count": null,
      "outputs": [
        {
          "output_type": "execute_result",
          "data": {
            "image/png": "[encoded data removed]",
            "text/latex": "$\\displaystyle 3$",
            "text/plain": [
              "3"
            ]
          },
          "metadata": {
            "tags": []
          },
          "execution_count": 4
        }
      ]
    },
    {
      "cell_type": "markdown",
      "metadata": {
        "id": "G80GO9V_4_24"
      },
      "source": [
        "Mediana de uma distribuição:"
      ]
    },
    {
      "cell_type": "code",
      "metadata": {
        "id": "7huD1gFOvhTz",
        "colab": {
          "base_uri": "https://localhost:8080/",
          "height": 37
        },
        "outputId": "974844ff-89c5-419f-942f-f7baf2229f57"
      },
      "source": [
        "from sympy.stats import median, Normal\n",
        "X = Normal('x', 0, 1)\n",
        "median(X)"
      ],
      "execution_count": null,
      "outputs": [
        {
          "output_type": "execute_result",
          "data": {
            "image/png": "[encoded data removed]",
            "text/latex": "$\\displaystyle \\left\\{0\\right\\}$",
            "text/plain": [
              "{0}"
            ]
          },
          "metadata": {
            "tags": []
          },
          "execution_count": 5
        }
      ]
    },
    {
      "cell_type": "markdown",
      "metadata": {
        "id": "sNHf1AGM82EZ"
      },
      "source": [
        "Desvio padrão de uma distribuição:"
      ]
    },
    {
      "cell_type": "code",
      "metadata": {
        "id": "--OzAjSX8-QV",
        "colab": {
          "base_uri": "https://localhost:8080/",
          "height": 38
        },
        "outputId": "ee9fd261-28ca-4f62-ca1d-8d856935e62c"
      },
      "source": [
        "from sympy.stats import std, Poisson\n",
        "X = Poisson(\"x\", 2)\n",
        "std(X)"
      ],
      "execution_count": null,
      "outputs": [
        {
          "output_type": "execute_result",
          "data": {
            "image/png": "[encoded data removed]",
            "text/latex": "$\\displaystyle \\sqrt{2}$",
            "text/plain": [
              "√2"
            ]
          },
          "metadata": {
            "tags": []
          },
          "execution_count": 6
        }
      ]
    },
    {
      "cell_type": "markdown",
      "metadata": {
        "id": "QepMt_Wt54iP"
      },
      "source": [
        "Correlação entre distribuições:"
      ]
    },
    {
      "cell_type": "code",
      "metadata": {
        "id": "gdzE3BTx2PcJ",
        "colab": {
          "base_uri": "https://localhost:8080/",
          "height": 56
        },
        "outputId": "c83bfe3a-c91a-44fa-a6d1-cd46239a76bb"
      },
      "source": [
        "from sympy.stats import correlation, Normal\n",
        "rate = Symbol('lambda', positive=True, real=True, finite=True)\n",
        "X = Normal('X', 0, 1)\n",
        "Y = Normal('Y', 0, 1)\n",
        "correlation(X, Y + rate*X)"
      ],
      "execution_count": null,
      "outputs": [
        {
          "output_type": "execute_result",
          "data": {
            "image/png": "[encoded data removed]",
            "text/latex": "$\\displaystyle \\frac{\\lambda}{\\sqrt{\\lambda^{2} + 1}}$",
            "text/plain": [
              "     λ     \n",
              "───────────\n",
              "   ________\n",
              "  ╱  2     \n",
              "╲╱  λ  + 1 "
            ]
          },
          "metadata": {
            "tags": []
          },
          "execution_count": 7
        }
      ]
    },
    {
      "cell_type": "markdown",
      "metadata": {
        "id": "Du9iRPj7_EuU"
      },
      "source": [
        "---\n",
        "### Propriedades da distribuição\n",
        "---"
      ]
    },
    {
      "cell_type": "markdown",
      "metadata": {
        "id": "AxdZbLXV_Mqw"
      },
      "source": [
        "Calcular o momento:"
      ]
    },
    {
      "cell_type": "code",
      "metadata": {
        "id": "CctgbWPS_HS-",
        "colab": {
          "base_uri": "https://localhost:8080/",
          "height": 38
        },
        "outputId": "2ebd5803-6ceb-4a80-92f6-d96a4e05d216"
      },
      "source": [
        "from sympy.stats import Normal, moment\n",
        "mu = Symbol('mu', real=True)\n",
        "sigma = Symbol('sigma', real=True, positive=True)\n",
        "X = Normal('X', mu, sigma)\n",
        "moment(X, 3)"
      ],
      "execution_count": null,
      "outputs": [
        {
          "output_type": "execute_result",
          "data": {
            "image/png": "[encoded data removed]",
            "text/latex": "$\\displaystyle \\mu^{3} + 3 \\mu \\sigma^{2}$",
            "text/plain": [
              " 3        2\n",
              "μ  + 3⋅μ⋅σ "
            ]
          },
          "metadata": {
            "tags": []
          },
          "execution_count": 8
        }
      ]
    },
    {
      "cell_type": "code",
      "metadata": {
        "id": "VlA9JHtDAF1W",
        "colab": {
          "base_uri": "https://localhost:8080/",
          "height": 48
        },
        "outputId": "709e247f-8803-4a71-9d03-0ed03c7940ef"
      },
      "source": [
        "from sympy.stats import moment_generating_function, Normal\n",
        "mu = Symbol('mu', real=True)\n",
        "sigma = Symbol('sigma', real=True, positive=True)\n",
        "X = Normal('X', mu, sigma)\n",
        "moment_generating_function(X, t)"
      ],
      "execution_count": null,
      "outputs": [
        {
          "output_type": "execute_result",
          "data": {
            "image/png": "[encoded data removed]",
            "text/latex": "$\\displaystyle \\left( t \\mapsto e^{\\frac{t^{2} \\sigma^{2}}{2} + t \\mu} \\right)$",
            "text/plain": [
              "      2  2      \n",
              "     t ⋅σ       \n",
              "     ───── + t⋅μ\n",
              "       2        \n",
              "t ↦ ℯ           "
            ]
          },
          "metadata": {
            "tags": []
          },
          "execution_count": 9
        }
      ]
    },
    {
      "cell_type": "markdown",
      "metadata": {
        "id": "It50NbgxCo1O"
      },
      "source": [
        "---\n",
        "### Geração de dados estatísticos\n",
        "---"
      ]
    },
    {
      "cell_type": "markdown",
      "metadata": {
        "id": "FZLZQOllCr-F"
      },
      "source": [
        "Gerar dados estatísticos com ramdômicos:"
      ]
    },
    {
      "cell_type": "code",
      "metadata": {
        "id": "siPsgWEuCcql",
        "colab": {
          "base_uri": "https://localhost:8080/"
        },
        "outputId": "e83fd96c-d43f-439e-ae73-31928c14ac35"
      },
      "source": [
        "from numpy import random\n",
        "sample = random.normal(loc=0, scale=1, size=(500,1))\n",
        "sample[:5]"
      ],
      "execution_count": null,
      "outputs": [
        {
          "output_type": "execute_result",
          "data": {
            "text/plain": [
              "array([[ 0.01598612],\n",
              "       [-0.16186767],\n",
              "       [-0.51816991],\n",
              "       [-0.23846956],\n",
              "       [ 0.38178621]])"
            ]
          },
          "metadata": {
            "tags": []
          },
          "execution_count": 10
        }
      ]
    },
    {
      "cell_type": "markdown",
      "metadata": {
        "id": "r91NG-vFHaD5"
      },
      "source": [
        "Visualizar os dados de uma distribuição randômica:"
      ]
    },
    {
      "cell_type": "code",
      "metadata": {
        "id": "OjNIiMQwDHTq",
        "colab": {
          "base_uri": "https://localhost:8080/",
          "height": 369
        },
        "outputId": "d988efba-fa74-4e4d-e2da-c7a8cb069f62"
      },
      "source": [
        "from seaborn import displot\n",
        "displot(sample, kde=True);"
      ],
      "execution_count": null,
      "outputs": [
        {
          "output_type": "display_data",
          "data": {
            "image/png": "[encoded data removed]",
            "text/plain": [
              "<Figure size 402.25x360 with 1 Axes>"
            ]
          },
          "metadata": {
            "tags": [],
            "needs_background": "light"
          }
        }
      ]
    }
  ]
}