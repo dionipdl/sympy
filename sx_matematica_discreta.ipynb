{
  "nbformat": 4,
  "nbformat_minor": 0,
  "metadata": {
    "colab": {
      "name": "s3_variaveis_funcoes.ipynb",
      "provenance": [],
      "collapsed_sections": [],
      "include_colab_link": true
    },
    "kernelspec": {
      "name": "python3",
      "display_name": "Python 3"
    },
    "language_info": {
      "name": "python"
    }
  },
  "cells": [
    {
      "cell_type": "markdown",
      "metadata": {
        "id": "view-in-github",
        "colab_type": "text"
      },
      "source": [
        "<a href=\"https://colab.research.google.com/github/dionipdl/sympy_mat_intro/blob/main/sx_matematica_discreta.ipynb\" target=\"_parent\"><img src=\"https://colab.research.google.com/assets/colab-badge.svg\" alt=\"Open In Colab\"/></a>"
      ]
    },
    {
      "cell_type": "markdown",
      "metadata": {
        "id": "T5oRYwbdpZyO"
      },
      "source": [
        "# Sympy: Introdução Rápida para Matemática"
      ]
    },
    {
      "cell_type": "markdown",
      "metadata": {
        "id": "5feylSO8wNzt"
      },
      "source": [
        "## Matemática discreta"
      ]
    },
    {
      "cell_type": "markdown",
      "metadata": {
        "id": "0VNeAtRh3Kj-"
      },
      "source": [
        "---\n",
        "### Configurando o Ambiente:"
      ]
    },
    {
      "cell_type": "code",
      "metadata": {
        "colab": {
          "base_uri": "https://localhost:8080/"
        },
        "id": "1A9q66SqqZSW",
        "outputId": "4622f53e-2df4-4a5b-e1bd-112aabfb1a19"
      },
      "source": [
        "from sympy import *\n",
        "init_session()\n",
        "a, b, c, d = symbols('a, b, c, d')\n",
        "ue = UnevaluatedExpr"
      ],
      "execution_count": 1,
      "outputs": [
        {
          "output_type": "stream",
          "text": [
            "IPython console for SymPy 1.7.1 (Python 3.7.10-64-bit) (ground types: python)\n",
            "\n",
            "These commands were executed:\n",
            ">>> from __future__ import division\n",
            ">>> from sympy import *\n",
            ">>> x, y, z, t = symbols('x y z t')\n",
            ">>> k, m, n = symbols('k m n', integer=True)\n",
            ">>> f, g, h = symbols('f g h', cls=Function)\n",
            ">>> init_printing()\n",
            "\n",
            "Documentation can be found at https://docs.sympy.org/1.7.1/\n",
            "\n"
          ],
          "name": "stdout"
        }
      ]
    },
    {
      "cell_type": "code",
      "metadata": {
        "id": "YwiVPtFJqh_e"
      },
      "source": [
        "from seaborn import set_style as plot_style\n",
        "plot_style(\"whitegrid\")\n",
        "%matplotlib inline"
      ],
      "execution_count": 2,
      "outputs": []
    },
    {
      "cell_type": "code",
      "metadata": {
        "id": "UYhPisG2q25T"
      },
      "source": [
        "from IPython.core.interactiveshell import InteractiveShell\n",
        "InteractiveShell.ast_node_interactivity = \"all\""
      ],
      "execution_count": 3,
      "outputs": []
    },
    {
      "cell_type": "markdown",
      "metadata": {
        "id": "C7d_JR5qntqp"
      },
      "source": [
        "---\n",
        "### Divisores"
      ]
    },
    {
      "cell_type": "markdown",
      "metadata": {
        "id": "u2Mnc_X70DB_"
      },
      "source": [
        "Obter os divisores de um número:"
      ]
    },
    {
      "cell_type": "code",
      "metadata": {
        "id": "5IUJtoN20I1n",
        "outputId": "0ee30d33-0b19-4a4e-b82f-8f37dfce0ac4",
        "colab": {
          "base_uri": "https://localhost:8080/",
          "height": 37
        }
      },
      "source": [
        "divisors(12)"
      ],
      "execution_count": 4,
      "outputs": [
        {
          "output_type": "execute_result",
          "data": {
            "image/png": "[encoded data removed]",
            "text/latex": "$\\displaystyle \\left[ 1, \\  2, \\  3, \\  4, \\  6, \\  12\\right]$",
            "text/plain": [
              "[1, 2, 3, 4, 6, 12]"
            ]
          },
          "metadata": {
            "tags": []
          },
          "execution_count": 4
        }
      ]
    },
    {
      "cell_type": "markdown",
      "metadata": {
        "id": "PQRQ7CYO0PVD"
      },
      "source": [
        "Obter o quociente de uma divisão:"
      ]
    },
    {
      "cell_type": "code",
      "metadata": {
        "id": "drfN5syWn5fT",
        "outputId": "9ae6a754-f97a-4552-e49d-9aab99a3bb4a",
        "colab": {
          "base_uri": "https://localhost:8080/",
          "height": 37
        }
      },
      "source": [
        "17 // 5"
      ],
      "execution_count": 5,
      "outputs": [
        {
          "output_type": "execute_result",
          "data": {
            "image/png": "[encoded data removed]",
            "text/latex": "$\\displaystyle 3$",
            "text/plain": [
              "3"
            ]
          },
          "metadata": {
            "tags": []
          },
          "execution_count": 5
        }
      ]
    },
    {
      "cell_type": "markdown",
      "metadata": {
        "id": "PSKJxOQlnvxZ"
      },
      "source": [
        "Obter o resto de uma divisão:"
      ]
    },
    {
      "cell_type": "code",
      "metadata": {
        "id": "FFLHoY2cnq1H",
        "outputId": "7abd04dd-2d9a-42e0-a401-c6de8d3dc3ea",
        "colab": {
          "base_uri": "https://localhost:8080/",
          "height": 37
        }
      },
      "source": [
        "Mod(17, 5)"
      ],
      "execution_count": 6,
      "outputs": [
        {
          "output_type": "execute_result",
          "data": {
            "image/png": "[encoded data removed]",
            "text/latex": "$\\displaystyle 2$",
            "text/plain": [
              "2"
            ]
          },
          "metadata": {
            "tags": []
          },
          "execution_count": 6
        }
      ]
    },
    {
      "cell_type": "markdown",
      "metadata": {
        "id": "ojKtO6DdlHdc"
      },
      "source": [
        "---\n",
        "### Números primos:"
      ]
    },
    {
      "cell_type": "markdown",
      "metadata": {
        "id": "I3FFly-ElPzK"
      },
      "source": [
        "Obter o enésimo número primo:"
      ]
    },
    {
      "cell_type": "code",
      "metadata": {
        "id": "ourHEEPkk6sC",
        "outputId": "28c8b4d9-bb9c-4455-c56a-a20c83eca5e3",
        "colab": {
          "base_uri": "https://localhost:8080/",
          "height": 37
        }
      },
      "source": [
        "prime(4)"
      ],
      "execution_count": 7,
      "outputs": [
        {
          "output_type": "execute_result",
          "data": {
            "image/png": "[encoded data removed]",
            "text/latex": "$\\displaystyle 7$",
            "text/plain": [
              "7"
            ]
          },
          "metadata": {
            "tags": []
          },
          "execution_count": 7
        }
      ]
    },
    {
      "cell_type": "markdown",
      "metadata": {
        "id": "ucdZGg3wldEQ"
      },
      "source": [
        "Testar a primalidade de um número:"
      ]
    },
    {
      "cell_type": "code",
      "metadata": {
        "id": "5b_8ot4hlY-E",
        "outputId": "82f3856a-1eb5-4208-c768-2467b3f13408",
        "colab": {
          "base_uri": "https://localhost:8080/"
        }
      },
      "source": [
        "ask(Q.prime(7))"
      ],
      "execution_count": 8,
      "outputs": [
        {
          "output_type": "execute_result",
          "data": {
            "text/plain": [
              "True"
            ]
          },
          "metadata": {
            "tags": []
          },
          "execution_count": 8
        }
      ]
    },
    {
      "cell_type": "markdown",
      "metadata": {
        "id": "dtxVIMSjGbQ3"
      },
      "source": [
        "---\n",
        "### Operações básicas de teoria de números"
      ]
    },
    {
      "cell_type": "markdown",
      "metadata": {
        "id": "iMCwLZfGFnM4"
      },
      "source": [
        "Fatoração em fatores primos:"
      ]
    },
    {
      "cell_type": "code",
      "metadata": {
        "colab": {
          "base_uri": "https://localhost:8080/",
          "height": 37
        },
        "id": "5X3LPO3lAX00",
        "outputId": "b59d379f-0573-4829-c476-7a5550a63a89"
      },
      "source": [
        "factorint(30)"
      ],
      "execution_count": 9,
      "outputs": [
        {
          "output_type": "execute_result",
          "data": {
            "image/png": "[encoded data removed]",
            "text/latex": "$\\displaystyle \\left\\{ 2 : 1, \\  3 : 1, \\  5 : 1\\right\\}$",
            "text/plain": [
              "{2: 1, 3: 1, 5: 1}"
            ]
          },
          "metadata": {
            "tags": []
          },
          "execution_count": 9
        }
      ]
    },
    {
      "cell_type": "markdown",
      "metadata": {
        "id": "3R0nmYzIjxIh"
      },
      "source": [
        "Calcular mínimo múltiplo comum (MMC):"
      ]
    },
    {
      "cell_type": "code",
      "metadata": {
        "id": "2GiZM6imjuo3",
        "outputId": "99727fdf-a56e-4f1e-a365-bedac526d901",
        "colab": {
          "base_uri": "https://localhost:8080/",
          "height": 37
        }
      },
      "source": [
        "lcm(2, 3)"
      ],
      "execution_count": 10,
      "outputs": [
        {
          "output_type": "execute_result",
          "data": {
            "image/png": "[encoded data removed]",
            "text/latex": "$\\displaystyle 6$",
            "text/plain": [
              "6"
            ]
          },
          "metadata": {
            "tags": []
          },
          "execution_count": 10
        }
      ]
    },
    {
      "cell_type": "markdown",
      "metadata": {
        "id": "_ud8huhEkb8D"
      },
      "source": [
        "Calcular máximo divisor comum (MDC):"
      ]
    },
    {
      "cell_type": "code",
      "metadata": {
        "id": "ibSU3E60j3Kk",
        "outputId": "e9c92dab-8466-446b-d4e9-2a4edea4473e",
        "colab": {
          "base_uri": "https://localhost:8080/",
          "height": 37
        }
      },
      "source": [
        "gcd(24, 60)"
      ],
      "execution_count": 11,
      "outputs": [
        {
          "output_type": "execute_result",
          "data": {
            "image/png": "[encoded data removed]",
            "text/latex": "$\\displaystyle 12$",
            "text/plain": [
              "12"
            ]
          },
          "metadata": {
            "tags": []
          },
          "execution_count": 11
        }
      ]
    },
    {
      "cell_type": "markdown",
      "metadata": {
        "id": "jRtukYbxn69F"
      },
      "source": [
        "---\n",
        "### Variações"
      ]
    },
    {
      "cell_type": "markdown",
      "metadata": {
        "id": "lzz_HGmzn-It"
      },
      "source": [
        "Obter todas as permutações possíveis:"
      ]
    },
    {
      "cell_type": "code",
      "metadata": {
        "id": "7Sa97YUSn9ZQ",
        "outputId": "0af0bb24-91d3-4b43-b73e-e605dbab66df",
        "colab": {
          "base_uri": "https://localhost:8080/",
          "height": 38
        }
      },
      "source": [
        "itens = [a,b,c]\n",
        "[*variations(itens, len(itens))]"
      ],
      "execution_count": 12,
      "outputs": [
        {
          "output_type": "execute_result",
          "data": {
            "image/png": "[encoded data removed]",
            "text/latex": "$\\displaystyle \\left[ \\left( a, \\  b, \\  c\\right), \\  \\left( a, \\  c, \\  b\\right), \\  \\left( b, \\  a, \\  c\\right), \\  \\left( b, \\  c, \\  a\\right), \\  \\left( c, \\  a, \\  b\\right), \\  \\left( c, \\  b, \\  a\\right)\\right]$",
            "text/plain": [
              "[(a, b, c), (a, c, b), (b, a, c), (b, c, a), (c, a, b), (c, b, a)]"
            ]
          },
          "metadata": {
            "tags": []
          },
          "execution_count": 12
        }
      ]
    },
    {
      "cell_type": "markdown",
      "metadata": {
        "id": "I2TQbi5Btxkw"
      },
      "source": [
        "Obter todas as variações especificando o tamanho:"
      ]
    },
    {
      "cell_type": "code",
      "metadata": {
        "id": "Z-4mzYust-0V",
        "outputId": "857b52f3-a7fa-4485-8d01-9a5b680f17c9",
        "colab": {
          "base_uri": "https://localhost:8080/",
          "height": 38
        }
      },
      "source": [
        "[*variations([a,b,c], 2)]"
      ],
      "execution_count": 13,
      "outputs": [
        {
          "output_type": "execute_result",
          "data": {
            "image/png": "[encoded data removed]",
            "text/latex": "$\\displaystyle \\left[ \\left( a, \\  b\\right), \\  \\left( a, \\  c\\right), \\  \\left( b, \\  a\\right), \\  \\left( b, \\  c\\right), \\  \\left( c, \\  a\\right), \\  \\left( c, \\  b\\right)\\right]$",
            "text/plain": [
              "[(a, b), (a, c), (b, a), (b, c), (c, a), (c, b)]"
            ]
          },
          "metadata": {
            "tags": []
          },
          "execution_count": 13
        }
      ]
    },
    {
      "cell_type": "markdown",
      "metadata": {
        "id": "VOO1aFMJtW-M"
      },
      "source": [
        "Obter produto cartesiano de duas sequencias:"
      ]
    },
    {
      "cell_type": "code",
      "metadata": {
        "id": "9krBHKAYrNtF",
        "outputId": "8e3ebc14-01bb-443d-a235-f20aef4a1f6e",
        "colab": {
          "base_uri": "https://localhost:8080/",
          "height": 38
        }
      },
      "source": [
        "[*cartes([1,2,3], [a,b,c])]"
      ],
      "execution_count": 14,
      "outputs": [
        {
          "output_type": "execute_result",
          "data": {
            "image/png": "[encoded data removed]",
            "text/latex": "$\\displaystyle \\left[ \\left( 1, \\  a\\right), \\  \\left( 1, \\  b\\right), \\  \\left( 1, \\  c\\right), \\  \\left( 2, \\  a\\right), \\  \\left( 2, \\  b\\right), \\  \\left( 2, \\  c\\right), \\  \\left( 3, \\  a\\right), \\  \\left( 3, \\  b\\right), \\  \\left( 3, \\  c\\right)\\right]$",
            "text/plain": [
              "[(1, a), (1, b), (1, c), (2, a), (2, b), (2, c), (3, a), (3, b), (3, c)]"
            ]
          },
          "metadata": {
            "tags": []
          },
          "execution_count": 14
        }
      ]
    }
  ]
}