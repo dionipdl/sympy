{
  "nbformat": 4,
  "nbformat_minor": 0,
  "metadata": {
    "colab": {
      "name": "n0_configuracoes_iniciais.ipynb",
      "provenance": [],
      "collapsed_sections": [],
      "include_colab_link": true
    },
    "kernelspec": {
      "name": "python3",
      "display_name": "Python 3"
    },
    "language_info": {
      "name": "python"
    }
  },
  "cells": [
    {
      "cell_type": "markdown",
      "metadata": {
        "id": "view-in-github",
        "colab_type": "text"
      },
      "source": [
        "<a href=\"https://colab.research.google.com/github/dionipdl/sympy_mat_intro/blob/main/tut_maxima_typeset.ipynb\" target=\"_parent\"><img src=\"https://colab.research.google.com/assets/colab-badge.svg\" alt=\"Open In Colab\"/></a>"
      ]
    },
    {
      "cell_type": "markdown",
      "metadata": {
        "id": "T5oRYwbdpZyO"
      },
      "source": [
        "# Symbolic Math - A Workflow"
      ]
    },
    {
      "cell_type": "markdown",
      "metadata": {
        "id": "1lwK8vNuH7C5"
      },
      "source": [
        "http://www.hippasus.com/resources/symmath/maximacalc.html"
      ]
    },
    {
      "cell_type": "markdown",
      "metadata": {
        "id": "K0dGx_EDHze8"
      },
      "source": [
        "## Sympy - Using it to typeset mathematical expressions:"
      ]
    },
    {
      "cell_type": "markdown",
      "metadata": {
        "id": "5feylSO8wNzt"
      },
      "source": [
        "---\n",
        "### Configurações Ambiente"
      ]
    },
    {
      "cell_type": "code",
      "metadata": {
        "colab": {
          "base_uri": "https://localhost:8080/"
        },
        "id": "1A9q66SqqZSW",
        "outputId": "3d667ba8-c276-408c-a017-9951570587be"
      },
      "source": [
        "from sympy import *\n",
        "init_session()\n",
        "a, b, c, d = symbols('a, b, c, d')\n",
        "ue = UnevaluatedExpr"
      ],
      "execution_count": 1,
      "outputs": [
        {
          "output_type": "stream",
          "text": [
            "IPython console for SymPy 1.7.1 (Python 3.7.10-64-bit) (ground types: python)\n",
            "\n",
            "These commands were executed:\n",
            ">>> from __future__ import division\n",
            ">>> from sympy import *\n",
            ">>> x, y, z, t = symbols('x y z t')\n",
            ">>> k, m, n = symbols('k m n', integer=True)\n",
            ">>> f, g, h = symbols('f g h', cls=Function)\n",
            ">>> init_printing()\n",
            "\n",
            "Documentation can be found at https://docs.sympy.org/1.7.1/\n",
            "\n"
          ],
          "name": "stdout"
        }
      ]
    },
    {
      "cell_type": "code",
      "metadata": {
        "id": "YwiVPtFJqh_e"
      },
      "source": [
        "from seaborn import set_style as plot_style\n",
        "plot_style(\"whitegrid\")\n",
        "%matplotlib inline"
      ],
      "execution_count": 2,
      "outputs": []
    },
    {
      "cell_type": "code",
      "metadata": {
        "id": "UYhPisG2q25T"
      },
      "source": [
        "from IPython.core.interactiveshell import InteractiveShell\n",
        "InteractiveShell.ast_node_interactivity = \"all\""
      ],
      "execution_count": 3,
      "outputs": []
    },
    {
      "cell_type": "markdown",
      "metadata": {
        "id": "a-Nb6cscyGqH"
      },
      "source": [
        "---\n",
        "### Typeset mathematical expressions:\n"
      ]
    },
    {
      "cell_type": "markdown",
      "metadata": {
        "id": "cUatDJMgU7F9"
      },
      "source": [
        "Sympy Parser:"
      ]
    },
    {
      "cell_type": "code",
      "metadata": {
        "id": "s6vtBtEJUw5j",
        "outputId": "5e19983e-ab14-479b-df9b-0cde469ff973",
        "colab": {
          "base_uri": "https://localhost:8080/",
          "height": 39
        }
      },
      "source": [
        "S(\"factor(x^2+2*x+1)\")"
      ],
      "execution_count": 4,
      "outputs": [
        {
          "output_type": "execute_result",
          "data": {
            "image/png": "[encoded data removed]",
            "text/latex": "$\\displaystyle \\left(x + 1\\right)^{2}$",
            "text/plain": [
              "       2\n",
              "(x + 1) "
            ]
          },
          "metadata": {
            "tags": []
          },
          "execution_count": 4
        }
      ]
    },
    {
      "cell_type": "markdown",
      "metadata": {
        "id": "ZJleuxjqVYOj"
      },
      "source": [
        "Typesetting a result:"
      ]
    },
    {
      "cell_type": "code",
      "metadata": {
        "id": "4QVTYyk8U5t4",
        "outputId": "851e4c93-4fcf-40f4-e689-818b2ef2977f",
        "colab": {
          "base_uri": "https://localhost:8080/",
          "height": 35
        }
      },
      "source": [
        "latex(_)"
      ],
      "execution_count": 5,
      "outputs": [
        {
          "output_type": "execute_result",
          "data": {
            "application/vnd.google.colaboratory.intrinsic+json": {
              "type": "string"
            },
            "text/plain": [
              "'\\\\left(x + 1\\\\right)^{2}'"
            ]
          },
          "metadata": {
            "tags": []
          },
          "execution_count": 5
        }
      ]
    },
    {
      "cell_type": "markdown",
      "metadata": {
        "id": "DbRbRyXBVlYQ"
      },
      "source": [
        "Typeset a equation:"
      ]
    },
    {
      "cell_type": "code",
      "metadata": {
        "id": "7LPLPqLRVGYM",
        "outputId": "2e262109-de11-4d3a-ff35-a3ff9507d56e",
        "colab": {
          "base_uri": "https://localhost:8080/",
          "height": 56
        }
      },
      "source": [
        "S(\"Eq(f(x,y),sin(x^2+y^2))\")\n",
        "latex(_)"
      ],
      "execution_count": 6,
      "outputs": [
        {
          "output_type": "execute_result",
          "data": {
            "image/png": "[encoded data removed]",
            "text/latex": "$\\displaystyle f{\\left(x,y \\right)} = \\sin{\\left(x^{2} + y^{2} \\right)}$",
            "text/plain": [
              "             ⎛ 2    2⎞\n",
              "f(x, y) = sin⎝x  + y ⎠"
            ]
          },
          "metadata": {
            "tags": []
          },
          "execution_count": 6
        },
        {
          "output_type": "execute_result",
          "data": {
            "application/vnd.google.colaboratory.intrinsic+json": {
              "type": "string"
            },
            "text/plain": [
              "'f{\\\\left(x,y \\\\right)} = \\\\sin{\\\\left(x^{2} + y^{2} \\\\right)}'"
            ]
          },
          "metadata": {
            "tags": []
          },
          "execution_count": 6
        }
      ]
    },
    {
      "cell_type": "markdown",
      "metadata": {
        "id": "9M4l04rjW8N5"
      },
      "source": [
        "Typeset a unevaluated expression:"
      ]
    },
    {
      "cell_type": "code",
      "metadata": {
        "id": "juCkKpSMWIYS",
        "outputId": "79273249-7695-4ebc-8f4c-76d0e4e55823",
        "colab": {
          "base_uri": "https://localhost:8080/",
          "height": 55
        }
      },
      "source": [
        "S(\"2^3\", evaluate=False)\n",
        "latex(_)"
      ],
      "execution_count": 7,
      "outputs": [
        {
          "output_type": "execute_result",
          "data": {
            "image/png": "[encoded data removed]",
            "text/latex": "$\\displaystyle 2^{3}$",
            "text/plain": [
              " 3\n",
              "2 "
            ]
          },
          "metadata": {
            "tags": []
          },
          "execution_count": 7
        },
        {
          "output_type": "execute_result",
          "data": {
            "application/vnd.google.colaboratory.intrinsic+json": {
              "type": "string"
            },
            "text/plain": [
              "'2^{3}'"
            ]
          },
          "metadata": {
            "tags": []
          },
          "execution_count": 7
        }
      ]
    },
    {
      "cell_type": "markdown",
      "metadata": {
        "id": "g4kpL5_fXeGg"
      },
      "source": [
        "Processing the output:"
      ]
    },
    {
      "cell_type": "code",
      "metadata": {
        "id": "swoL97JnXIxE",
        "outputId": "5db94c4d-7710-494e-e449-db529c476f1f",
        "colab": {
          "base_uri": "https://localhost:8080/"
        }
      },
      "source": [
        "init_printing(pretty_print=False)\n",
        "S(\"Eq(f(x,y),sin(x^2+y^2))\")"
      ],
      "execution_count": 8,
      "outputs": [
        {
          "output_type": "execute_result",
          "data": {
            "text/plain": [
              "Eq(f(x, y), sin(x**2 + y**2))"
            ]
          },
          "metadata": {
            "tags": []
          },
          "execution_count": 8
        }
      ]
    },
    {
      "cell_type": "code",
      "metadata": {
        "id": "As3Qo_JFXhC1",
        "outputId": "89db8122-744d-4d18-feeb-5218fff8d967",
        "colab": {
          "base_uri": "https://localhost:8080/",
          "height": 38
        }
      },
      "source": [
        "init_printing()\n",
        "Eq(f(x,y),sin(x**2+y**2))"
      ],
      "execution_count": 9,
      "outputs": [
        {
          "output_type": "execute_result",
          "data": {
            "image/png": "[encoded data removed]",
            "text/latex": "$\\displaystyle f{\\left(x,y \\right)} = \\sin{\\left(x^{2} + y^{2} \\right)}$",
            "text/plain": [
              "             ⎛ 2    2⎞\n",
              "f(x, y) = sin⎝x  + y ⎠"
            ]
          },
          "metadata": {
            "tags": []
          },
          "execution_count": 9
        }
      ]
    },
    {
      "cell_type": "markdown",
      "metadata": {
        "id": "6iorj3vyYwhL"
      },
      "source": [
        "Typesetting graphs:"
      ]
    },
    {
      "cell_type": "code",
      "metadata": {
        "id": "Wm6zE8QMXkgD",
        "outputId": "33a1a7c5-fd03-4567-ec79-ec7272b5e284",
        "colab": {
          "base_uri": "https://localhost:8080/",
          "height": 297
        }
      },
      "source": [
        "plot(sin(1/x));"
      ],
      "execution_count": 10,
      "outputs": [
        {
          "output_type": "display_data",
          "data": {
            "image/png": "[encoded data removed]",
            "text/plain": [
              "<Figure size 432x288 with 1 Axes>"
            ]
          },
          "metadata": {
            "tags": [],
            "needs_background": "light"
          }
        }
      ]
    },
    {
      "cell_type": "markdown",
      "metadata": {
        "id": "YOet2q86Y_07"
      },
      "source": [
        "Plot options:"
      ]
    },
    {
      "cell_type": "code",
      "metadata": {
        "id": "KL92H3NYY1EL",
        "outputId": "ca9e9ae3-f38e-4644-e7c8-f19e59423259",
        "colab": {
          "base_uri": "https://localhost:8080/",
          "height": 123
        }
      },
      "source": [
        "plot(sin(1/x), (x, -1, 1), legend=True, aspect_ratio=(5,1));"
      ],
      "execution_count": 11,
      "outputs": [
        {
          "output_type": "display_data",
          "data": {
            "image/png": "[encoded data removed]",
            "text/plain": [
              "<Figure size 432x288 with 1 Axes>"
            ]
          },
          "metadata": {
            "tags": [],
            "needs_background": "light"
          }
        }
      ]
    }
  ]
}