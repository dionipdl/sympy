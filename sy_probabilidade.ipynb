{
  "nbformat": 4,
  "nbformat_minor": 0,
  "metadata": {
    "colab": {
      "name": "s3_variaveis_funcoes.ipynb",
      "provenance": [],
      "collapsed_sections": [],
      "include_colab_link": true
    },
    "kernelspec": {
      "name": "python3",
      "display_name": "Python 3"
    },
    "language_info": {
      "name": "python"
    }
  },
  "cells": [
    {
      "cell_type": "markdown",
      "metadata": {
        "id": "view-in-github",
        "colab_type": "text"
      },
      "source": [
        "<a href=\"https://colab.research.google.com/github/dionipdl/sympy_mat_intro/blob/main/sy_probabilidade.ipynb\" target=\"_parent\"><img src=\"https://colab.research.google.com/assets/colab-badge.svg\" alt=\"Open In Colab\"/></a>"
      ]
    },
    {
      "cell_type": "markdown",
      "metadata": {
        "id": "T5oRYwbdpZyO"
      },
      "source": [
        "# Sympy: Introdução Rápida para Matemática"
      ]
    },
    {
      "cell_type": "markdown",
      "metadata": {
        "id": "5feylSO8wNzt"
      },
      "source": [
        "## Probabilidade"
      ]
    },
    {
      "cell_type": "markdown",
      "metadata": {
        "id": "0VNeAtRh3Kj-"
      },
      "source": [
        "---\n",
        "### Configurando o Ambiente:"
      ]
    },
    {
      "cell_type": "code",
      "metadata": {
        "colab": {
          "base_uri": "https://localhost:8080/"
        },
        "id": "1A9q66SqqZSW",
        "outputId": "6d10bc2d-a81e-478b-da53-cd309b6d10b0"
      },
      "source": [
        "from sympy import *\n",
        "init_session()\n",
        "a, b, c, d = symbols('a, b, c, d')\n",
        "ue = UnevaluatedExpr"
      ],
      "execution_count": 1,
      "outputs": [
        {
          "output_type": "stream",
          "text": [
            "IPython console for SymPy 1.7.1 (Python 3.7.10-64-bit) (ground types: python)\n",
            "\n",
            "These commands were executed:\n",
            ">>> from __future__ import division\n",
            ">>> from sympy import *\n",
            ">>> x, y, z, t = symbols('x y z t')\n",
            ">>> k, m, n = symbols('k m n', integer=True)\n",
            ">>> f, g, h = symbols('f g h', cls=Function)\n",
            ">>> init_printing()\n",
            "\n",
            "Documentation can be found at https://docs.sympy.org/1.7.1/\n",
            "\n"
          ],
          "name": "stdout"
        }
      ]
    },
    {
      "cell_type": "code",
      "metadata": {
        "id": "YwiVPtFJqh_e"
      },
      "source": [
        "from seaborn import set_style as plot_style\n",
        "plot_style(\"whitegrid\")\n",
        "%matplotlib inline"
      ],
      "execution_count": 2,
      "outputs": []
    },
    {
      "cell_type": "code",
      "metadata": {
        "id": "UYhPisG2q25T"
      },
      "source": [
        "from IPython.core.interactiveshell import InteractiveShell\n",
        "InteractiveShell.ast_node_interactivity = \"all\""
      ],
      "execution_count": 3,
      "outputs": []
    },
    {
      "cell_type": "markdown",
      "metadata": {
        "id": "C7d_JR5qntqp"
      },
      "source": [
        "---\n",
        "### Funções para probabilidade"
      ]
    },
    {
      "cell_type": "markdown",
      "metadata": {
        "id": "u2Mnc_X70DB_"
      },
      "source": [
        "Calcular fatoriais:"
      ]
    },
    {
      "cell_type": "code",
      "metadata": {
        "colab": {
          "base_uri": "https://localhost:8080/",
          "height": 37
        },
        "id": "5IUJtoN20I1n",
        "outputId": "e21addbb-c1a7-4774-d65f-fbed76cf3bf3"
      },
      "source": [
        "factorial(5)"
      ],
      "execution_count": 4,
      "outputs": [
        {
          "output_type": "execute_result",
          "data": {
            "image/png": "[encoded data removed]",
            "text/latex": "$\\displaystyle 120$",
            "text/plain": [
              "120"
            ]
          },
          "metadata": {
            "tags": []
          },
          "execution_count": 4
        }
      ]
    },
    {
      "cell_type": "markdown",
      "metadata": {
        "id": "8932pLFx2oMU"
      },
      "source": [
        "Calcular combinações com binomial:"
      ]
    },
    {
      "cell_type": "code",
      "metadata": {
        "colab": {
          "base_uri": "https://localhost:8080/",
          "height": 37
        },
        "id": "EIzZQpYo2l8u",
        "outputId": "1910ac27-f129-4113-ac51-1e760f7aae98"
      },
      "source": [
        "binomial(4,3)"
      ],
      "execution_count": 5,
      "outputs": [
        {
          "output_type": "execute_result",
          "data": {
            "image/png": "[encoded data removed]",
            "text/latex": "$\\displaystyle 4$",
            "text/plain": [
              "4"
            ]
          },
          "metadata": {
            "tags": []
          },
          "execution_count": 5
        }
      ]
    },
    {
      "cell_type": "markdown",
      "metadata": {
        "id": "T8Mz9CiNYeN6"
      },
      "source": [
        "---\n",
        "### Probabilidades para uma distribuição:"
      ]
    },
    {
      "cell_type": "markdown",
      "metadata": {
        "id": "oAK_JujoYnL7"
      },
      "source": [
        "Calcular probabilidades para uma distribuição binomial:"
      ]
    },
    {
      "cell_type": "code",
      "metadata": {
        "id": "Su2miU8cYnyw",
        "outputId": "5ce33c9d-0212-4a67-bb8f-7fe7e4a4f014",
        "colab": {
          "base_uri": "https://localhost:8080/",
          "height": 37
        }
      },
      "source": [
        "from sympy.stats import Binomial, P\n",
        "X = Binomial(\"x\", 1, 1/2)\n",
        "P(Eq(X, 1))"
      ],
      "execution_count": 6,
      "outputs": [
        {
          "output_type": "execute_result",
          "data": {
            "image/png": "[encoded data removed]",
            "text/latex": "$\\displaystyle 0.5$",
            "text/plain": [
              "0.500000000000000"
            ]
          },
          "metadata": {
            "tags": []
          },
          "execution_count": 6
        }
      ]
    },
    {
      "cell_type": "markdown",
      "metadata": {
        "id": "ztafgFinYol_"
      },
      "source": [
        "Calcular a expectativa de uma expressão polinomial:"
      ]
    },
    {
      "cell_type": "code",
      "metadata": {
        "id": "0Td7WHKKYo_Y",
        "outputId": "13f58e5d-a57f-44ec-98f4-050438b8cb79",
        "colab": {
          "base_uri": "https://localhost:8080/",
          "height": 37
        }
      },
      "source": [
        "from sympy.stats import Normal, E\n",
        "X = Normal(\"x\", 0, 1)\n",
        "E(2*X + 3)"
      ],
      "execution_count": 7,
      "outputs": [
        {
          "output_type": "execute_result",
          "data": {
            "image/png": "[encoded data removed]",
            "text/latex": "$\\displaystyle 3$",
            "text/plain": [
              "3"
            ]
          },
          "metadata": {
            "tags": []
          },
          "execution_count": 7
        }
      ]
    },
    {
      "cell_type": "markdown",
      "metadata": {
        "id": "OnPrNk5U20bT"
      },
      "source": [
        "---\n",
        "### Distribuição symbólica"
      ]
    },
    {
      "cell_type": "markdown",
      "metadata": {
        "id": "r6VJR48dOyVG"
      },
      "source": [
        "Obter a uma distribuição normal em forma simbólica:"
      ]
    },
    {
      "cell_type": "code",
      "metadata": {
        "id": "eD4KzXnVPEnj",
        "outputId": "a58b9674-1f1f-42e3-ee54-26415812053a",
        "colab": {
          "base_uri": "https://localhost:8080/",
          "height": 38
        }
      },
      "source": [
        "from sympy.stats import Normal, density\n",
        "normal_distribution = density(Normal(\"x\", 0, 1))\n",
        "normal_distribution"
      ],
      "execution_count": 8,
      "outputs": [
        {
          "output_type": "execute_result",
          "data": {
            "image/png": "[encoded data removed]",
            "text/latex": "$\\displaystyle NormalDistribution\\left(0, 1\\right)$",
            "text/plain": [
              "NormalDistribution(0, 1)"
            ]
          },
          "metadata": {
            "tags": []
          },
          "execution_count": 8
        }
      ]
    },
    {
      "cell_type": "markdown",
      "metadata": {
        "id": "S1jIt-z7TYau"
      },
      "source": [
        "Obter a função densidade de probabilidade(PDF):"
      ]
    },
    {
      "cell_type": "code",
      "metadata": {
        "id": "wkhTLvCDS61L",
        "outputId": "8bb0bc74-29a4-4e22-d7c1-de354adafe26",
        "colab": {
          "base_uri": "https://localhost:8080/",
          "height": 64
        }
      },
      "source": [
        "normal_distribution.pdf(x)"
      ],
      "execution_count": 9,
      "outputs": [
        {
          "output_type": "execute_result",
          "data": {
            "image/png": "[encoded data removed]",
            "text/latex": "$\\displaystyle \\frac{\\sqrt{2} e^{- \\frac{x^{2}}{2}}}{2 \\sqrt{\\pi}}$",
            "text/plain": [
              "      2 \n",
              "    -x  \n",
              "    ────\n",
              "     2  \n",
              "√2⋅ℯ    \n",
              "────────\n",
              "  2⋅√π  "
            ]
          },
          "metadata": {
            "tags": []
          },
          "execution_count": 9
        }
      ]
    },
    {
      "cell_type": "markdown",
      "metadata": {
        "id": "HVTT1FvaRm0y"
      },
      "source": [
        "Gráfico da distribuição:"
      ]
    },
    {
      "cell_type": "code",
      "metadata": {
        "id": "wULmF7obRuxJ",
        "outputId": "8a33ffdc-5f83-40b4-ad29-74194908d2c3",
        "colab": {
          "base_uri": "https://localhost:8080/",
          "height": 296
        }
      },
      "source": [
        "plot(normal_distribution.pdf(x), (x, -5, 5));"
      ],
      "execution_count": 10,
      "outputs": [
        {
          "output_type": "display_data",
          "data": {
            "image/png": "[encoded data removed]",
            "text/plain": [
              "<Figure size 432x288 with 1 Axes>"
            ]
          },
          "metadata": {
            "tags": [],
            "needs_background": "light"
          }
        }
      ]
    },
    {
      "cell_type": "markdown",
      "metadata": {
        "id": "_4wTbGvyRgn-"
      },
      "source": [
        "---\n",
        "### Distribuição por amostragem:\n",
        "\n"
      ]
    },
    {
      "cell_type": "markdown",
      "metadata": {
        "id": "vPZkTxDB22aC"
      },
      "source": [
        "Gerar uma distribuição binomial aleatória:"
      ]
    },
    {
      "cell_type": "code",
      "metadata": {
        "colab": {
          "base_uri": "https://localhost:8080/"
        },
        "id": "NsEPvzMr2win",
        "outputId": "1f004f02-0042-4a19-9cf1-668b8fc4f335"
      },
      "source": [
        "from numpy import random\n",
        "sample = random.binomial(n=10, size=1000, p=0.5)\n",
        "sample[:10]"
      ],
      "execution_count": 11,
      "outputs": [
        {
          "output_type": "execute_result",
          "data": {
            "text/plain": [
              "array([4, 6, 7, 6, 4, 4, 6, 3, 8, 4])"
            ]
          },
          "metadata": {
            "tags": []
          },
          "execution_count": 11
        }
      ]
    },
    {
      "cell_type": "markdown",
      "metadata": {
        "id": "fRQt3ViVDez2"
      },
      "source": [
        "Visualizar uma distribuição normal:"
      ]
    },
    {
      "cell_type": "code",
      "metadata": {
        "colab": {
          "base_uri": "https://localhost:8080/",
          "height": 369
        },
        "id": "jXGLrIgQCO4K",
        "outputId": "67779fa8-12f3-48a7-88cd-6c89d62519f7"
      },
      "source": [
        "from seaborn import displot\n",
        "displot(sample, kde=True);"
      ],
      "execution_count": 12,
      "outputs": [
        {
          "output_type": "display_data",
          "data": {
            "image/png": "[encoded data removed]",
            "text/plain": [
              "<Figure size 360x360 with 1 Axes>"
            ]
          },
          "metadata": {
            "tags": [],
            "needs_background": "light"
          }
        }
      ]
    }
  ]
}