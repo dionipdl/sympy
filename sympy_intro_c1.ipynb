{
  "nbformat": 4,
  "nbformat_minor": 0,
  "metadata": {
    "colab": {
      "name": "sympy_intro_c1.ipynb",
      "provenance": [],
      "collapsed_sections": [],
      "authorship_tag": "ABX9TyMooMMqmWpQd65hid4yqGET",
      "include_colab_link": true
    },
    "kernelspec": {
      "name": "python3",
      "display_name": "Python 3"
    },
    "language_info": {
      "name": "python"
    }
  },
  "cells": [
    {
      "cell_type": "markdown",
      "metadata": {
        "id": "view-in-github",
        "colab_type": "text"
      },
      "source": [
        "<a href=\"https://colab.research.google.com/github/dionipdl/sympy_mat_intro/blob/main/sympy_intro_c1.ipynb\" target=\"_parent\"><img src=\"https://colab.research.google.com/assets/colab-badge.svg\" alt=\"Open In Colab\"/></a>"
      ]
    },
    {
      "cell_type": "markdown",
      "source": [
        "#Sympy: Introdução Rápida"
      ],
      "metadata": {
        "id": "hD6LozVhO3Xu"
      }
    },
    {
      "cell_type": "markdown",
      "source": [
        "---\n",
        "##Configurando o Ambiente:"
      ],
      "metadata": {
        "id": "M_R_XRjjJQEU"
      }
    },
    {
      "cell_type": "code",
      "execution_count": 1,
      "metadata": {
        "colab": {
          "base_uri": "https://localhost:8080/"
        },
        "id": "2FBOLVJmIl7E",
        "outputId": "f4860a7f-d712-414f-fea0-98fd229f3b9f"
      },
      "outputs": [
        {
          "output_type": "stream",
          "name": "stdout",
          "text": [
            "IPython console for SymPy 1.7.1 (Python 3.7.13-64-bit) (ground types: python)\n",
            "\n",
            "These commands were executed:\n",
            ">>> from __future__ import division\n",
            ">>> from sympy import *\n",
            ">>> x, y, z, t = symbols('x y z t')\n",
            ">>> k, m, n = symbols('k m n', integer=True)\n",
            ">>> f, g, h = symbols('f g h', cls=Function)\n",
            ">>> init_printing()\n",
            "\n",
            "Documentation can be found at https://docs.sympy.org/1.7.1/\n",
            "\n"
          ]
        }
      ],
      "source": [
        "from sympy import *\n",
        "init_session()\n",
        "a, b, c, d = symbols('a, b, c, d')\n",
        "ue = UnevaluatedExpr"
      ]
    },
    {
      "cell_type": "code",
      "source": [
        "from seaborn import set_style as plot_style\n",
        "plot_style(\"whitegrid\")\n",
        "%matplotlib inline"
      ],
      "metadata": {
        "id": "VyfbMw0OJEZJ"
      },
      "execution_count": 2,
      "outputs": []
    },
    {
      "cell_type": "code",
      "source": [
        "from IPython.core.interactiveshell import InteractiveShell\n",
        "InteractiveShell.ast_node_interactivity = \"all\""
      ],
      "metadata": {
        "id": "YXdK7aZ2JH4K"
      },
      "execution_count": 3,
      "outputs": []
    },
    {
      "cell_type": "markdown",
      "source": [
        "---\n",
        "##Testando o Ambiente:"
      ],
      "metadata": {
        "id": "6SKyyKSDJORs"
      }
    },
    {
      "cell_type": "code",
      "source": [
        "a*x**2 + b*x + c"
      ],
      "metadata": {
        "colab": {
          "base_uri": "https://localhost:8080/",
          "height": 38
        },
        "id": "jqGwSdYRJKUB",
        "outputId": "6b939fd4-2464-4a37-ce66-ddbafd2befd6"
      },
      "execution_count": 4,
      "outputs": [
        {
          "output_type": "execute_result",
          "data": {
            "text/plain": [
              "   2          \n",
              "a⋅x  + b⋅x + c"
            ],
            "image/png": "[encoded data removed]",
            "text/latex": "$\\displaystyle a x^{2} + b x + c$"
          },
          "metadata": {},
          "execution_count": 4
        }
      ]
    },
    {
      "cell_type": "code",
      "source": [
        "plot(sin(x),(x,0,2*pi));"
      ],
      "metadata": {
        "colab": {
          "base_uri": "https://localhost:8080/",
          "height": 297
        },
        "id": "CnpLPXkKJTw3",
        "outputId": "da4781a2-0ea7-470f-ec81-a0a27a659ab0"
      },
      "execution_count": 5,
      "outputs": [
        {
          "output_type": "display_data",
          "data": {
            "text/plain": [
              "<Figure size 432x288 with 1 Axes>"
            ],
            "image/png": "[encoded data removed]"
          },
          "metadata": {
            "needs_background": "light"
          }
        }
      ]
    },
    {
      "cell_type": "code",
      "source": [
        "1+1\n",
        "2+2"
      ],
      "metadata": {
        "colab": {
          "base_uri": "https://localhost:8080/",
          "height": 57
        },
        "id": "w4VYH6LpJZLU",
        "outputId": "d3f71f87-6a8c-4aaf-f65f-bc15ba8c8171"
      },
      "execution_count": 6,
      "outputs": [
        {
          "output_type": "execute_result",
          "data": {
            "text/plain": [
              "2"
            ],
            "image/png": "[encoded data removed]",
            "text/latex": "$\\displaystyle 2$"
          },
          "metadata": {},
          "execution_count": 6
        },
        {
          "output_type": "execute_result",
          "data": {
            "text/plain": [
              "4"
            ],
            "image/png": "[encoded data removed]",
            "text/latex": "$\\displaystyle 4$"
          },
          "metadata": {},
          "execution_count": 6
        }
      ]
    },
    {
      "cell_type": "markdown",
      "source": [
        "---\n",
        "##Fazendo cálculos em notebooks"
      ],
      "metadata": {
        "id": "VhgztHM1KQr5"
      }
    },
    {
      "cell_type": "markdown",
      "source": [
        "Pressione SHIFT+ENTER para calcular:"
      ],
      "metadata": {
        "id": "spTTuZrpNiTq"
      }
    },
    {
      "cell_type": "code",
      "source": [
        "2+2"
      ],
      "metadata": {
        "colab": {
          "base_uri": "https://localhost:8080/",
          "height": 37
        },
        "id": "JMSwFpvLNiuW",
        "outputId": "5ffea6d7-0a96-4bc5-9c02-0c904c24e63d"
      },
      "execution_count": 7,
      "outputs": [
        {
          "output_type": "execute_result",
          "data": {
            "text/plain": [
              "4"
            ],
            "image/png": "[encoded data removed]",
            "text/latex": "$\\displaystyle 4$"
          },
          "metadata": {},
          "execution_count": 7
        }
      ]
    },
    {
      "cell_type": "markdown",
      "source": [
        "In e Out identificam entradas e saídas sucessivas de dados:"
      ],
      "metadata": {
        "id": "kW0J5lWyPh0_"
      }
    },
    {
      "cell_type": "code",
      "source": [
        "1+2+3"
      ],
      "metadata": {
        "colab": {
          "base_uri": "https://localhost:8080/",
          "height": 37
        },
        "id": "n_2WjuJZNi8e",
        "outputId": "cc1cc403-4568-4b29-9de3-7110e63f6130"
      },
      "execution_count": 8,
      "outputs": [
        {
          "output_type": "execute_result",
          "data": {
            "text/plain": [
              "6"
            ],
            "image/png": "[encoded data removed]",
            "text/latex": "$\\displaystyle 6$"
          },
          "metadata": {},
          "execution_count": 8
        }
      ]
    },
    {
      "cell_type": "markdown",
      "source": [
        "O símbolo _ refere-se à saída mais recente:"
      ],
      "metadata": {
        "id": "I7QPXK02PiZe"
      }
    },
    {
      "cell_type": "code",
      "source": [
        "_+4"
      ],
      "metadata": {
        "colab": {
          "base_uri": "https://localhost:8080/",
          "height": 37
        },
        "id": "8X4swvAqNkxG",
        "outputId": "a91a1bdd-37e2-454b-ede7-e3aba7ea9078"
      },
      "execution_count": 9,
      "outputs": [
        {
          "output_type": "execute_result",
          "data": {
            "text/plain": [
              "10"
            ],
            "image/png": "[encoded data removed]",
            "text/latex": "$\\displaystyle 10$"
          },
          "metadata": {},
          "execution_count": 9
        }
      ]
    },
    {
      "cell_type": "markdown",
      "source": [
        "---\n",
        "##Funçoes matemáticas básicas"
      ],
      "metadata": {
        "id": "CxFj9dkvPps4"
      }
    },
    {
      "cell_type": "markdown",
      "source": [
        "Operações matemáticas básicas:"
      ],
      "metadata": {
        "id": "_P2OWfQ7P3_q"
      }
    },
    {
      "cell_type": "code",
      "source": [
        "5 + 2*3 - 7"
      ],
      "metadata": {
        "colab": {
          "base_uri": "https://localhost:8080/",
          "height": 37
        },
        "id": "6W-JYkiONk2_",
        "outputId": "cc43df1f-1614-4146-de47-9677b3ab070e"
      },
      "execution_count": 10,
      "outputs": [
        {
          "output_type": "execute_result",
          "data": {
            "text/plain": [
              "4"
            ],
            "image/png": "[encoded data removed]",
            "text/latex": "$\\displaystyle 4$"
          },
          "metadata": {},
          "execution_count": 10
        }
      ]
    },
    {
      "cell_type": "code",
      "source": [
        "5 + 2*3 - 7.5"
      ],
      "metadata": {
        "colab": {
          "base_uri": "https://localhost:8080/",
          "height": 37
        },
        "id": "Ae8Kj3BYNk8_",
        "outputId": "68cda15b-b468-431c-b7dc-1321661c2e3f"
      },
      "execution_count": 11,
      "outputs": [
        {
          "output_type": "execute_result",
          "data": {
            "text/plain": [
              "3.5"
            ],
            "image/png": "[encoded data removed]",
            "text/latex": "$\\displaystyle 3.5$"
          },
          "metadata": {},
          "execution_count": 11
        }
      ]
    },
    {
      "cell_type": "markdown",
      "source": [
        "Níveis de agrupamento:"
      ],
      "metadata": {
        "id": "19_fzCpDP7SY"
      }
    },
    {
      "cell_type": "code",
      "source": [
        "((5 - 3)**(1 + 2))/4"
      ],
      "metadata": {
        "colab": {
          "base_uri": "https://localhost:8080/",
          "height": 37
        },
        "id": "32Kc7Hb7NlCm",
        "outputId": "75a76f7e-e484-4990-efca-1a8846a68e9d"
      },
      "execution_count": 12,
      "outputs": [
        {
          "output_type": "execute_result",
          "data": {
            "text/plain": [
              "2.0"
            ],
            "image/png": "[encoded data removed]",
            "text/latex": "$\\displaystyle 2.0$"
          },
          "metadata": {},
          "execution_count": 12
        }
      ]
    },
    {
      "cell_type": "markdown",
      "source": [
        "Funções incorporadas:"
      ],
      "metadata": {
        "id": "mAlcTG26P_yo"
      }
    },
    {
      "cell_type": "code",
      "source": [
        "gcd(12, 15)"
      ],
      "metadata": {
        "colab": {
          "base_uri": "https://localhost:8080/",
          "height": 37
        },
        "id": "sou8l0s_NlJW",
        "outputId": "8aef44d6-91d4-44e6-8942-4b0e58b9adaf"
      },
      "execution_count": 13,
      "outputs": [
        {
          "output_type": "execute_result",
          "data": {
            "text/plain": [
              "3"
            ],
            "image/png": "[encoded data removed]",
            "text/latex": "$\\displaystyle 3$"
          },
          "metadata": {},
          "execution_count": 13
        }
      ]
    },
    {
      "cell_type": "markdown",
      "source": [
        "Gerador de gráficos básicos imcorporado:"
      ],
      "metadata": {
        "id": "a8vqgM-fQES-"
      }
    },
    {
      "cell_type": "code",
      "source": [
        "plot(sin(x),(x,-2*pi,2*pi));"
      ],
      "metadata": {
        "colab": {
          "base_uri": "https://localhost:8080/",
          "height": 297
        },
        "id": "I3J_tHrbNlPO",
        "outputId": "e8c6c2e7-9c03-4f84-8371-51e1d5e32c2c"
      },
      "execution_count": 14,
      "outputs": [
        {
          "output_type": "display_data",
          "data": {
            "text/plain": [
              "<Figure size 432x288 with 1 Axes>"
            ],
            "image/png": "[encoded data removed]"
          },
          "metadata": {
            "needs_background": "light"
          }
        }
      ]
    },
    {
      "cell_type": "markdown",
      "source": [
        "---\n",
        "##Introdução sobre listas"
      ],
      "metadata": {
        "id": "B784gFgzQSh1"
      }
    },
    {
      "cell_type": "markdown",
      "source": [
        "Listas representam coleções de itens:"
      ],
      "metadata": {
        "id": "DZ8LgoD_Qhpn"
      }
    },
    {
      "cell_type": "code",
      "source": [
        "[1,2,3]"
      ],
      "metadata": {
        "colab": {
          "base_uri": "https://localhost:8080/",
          "height": 37
        },
        "id": "eCX74MEvNlU1",
        "outputId": "783c18dc-2709-4487-dccd-f2d4fd3ca2f5"
      },
      "execution_count": 15,
      "outputs": [
        {
          "output_type": "execute_result",
          "data": {
            "text/plain": [
              "[1, 2, 3]"
            ],
            "image/png": "[encoded data removed]",
            "text/latex": "$\\displaystyle \\left[ 1, \\  2, \\  3\\right]$"
          },
          "metadata": {},
          "execution_count": 15
        }
      ]
    },
    {
      "cell_type": "markdown",
      "source": [
        "Listas podem conter números, variáveis ou mesmo outras listas:"
      ],
      "metadata": {
        "id": "Iotq2K5XQmGH"
      }
    },
    {
      "cell_type": "code",
      "source": [
        "[[1,b,x], [y,2,z**2]]"
      ],
      "metadata": {
        "colab": {
          "base_uri": "https://localhost:8080/",
          "height": 38
        },
        "id": "t5XRPFsANlZ-",
        "outputId": "7a737ba3-0d41-4454-f108-e070d6ed6d6e"
      },
      "execution_count": 16,
      "outputs": [
        {
          "output_type": "execute_result",
          "data": {
            "text/plain": [
              "⎡           ⎡       2⎤⎤\n",
              "⎣[1, b, x], ⎣y, 2, z ⎦⎦"
            ],
            "image/png": "[encoded data removed]",
            "text/latex": "$\\displaystyle \\left[ \\left[ 1, \\  b, \\  x\\right], \\  \\left[ y, \\  2, \\  z^{2}\\right]\\right]$"
          },
          "metadata": {},
          "execution_count": 16
        }
      ]
    },
    {
      "cell_type": "markdown",
      "source": [
        "Construir listas com funções como Range:"
      ],
      "metadata": {
        "id": "U30t5RteRjmr"
      }
    },
    {
      "cell_type": "code",
      "source": [
        "[*Range(10)]"
      ],
      "metadata": {
        "colab": {
          "base_uri": "https://localhost:8080/",
          "height": 37
        },
        "id": "xNGUNTs5RoNx",
        "outputId": "cf720288-634c-4ff2-a196-57dbe58412fd"
      },
      "execution_count": 17,
      "outputs": [
        {
          "output_type": "execute_result",
          "data": {
            "text/plain": [
              "[0, 1, 2, 3, 4, 5, 6, 7, 8, 9]"
            ],
            "image/png": "[encoded data removed]",
            "text/latex": "$\\displaystyle \\left[ 0, \\  1, \\  2, \\  3, \\  4, \\  5, \\  6, \\  7, \\  8, \\  9\\right]$"
          },
          "metadata": {},
          "execution_count": 17
        }
      ]
    },
    {
      "cell_type": "markdown",
      "source": [
        "Partes de listas podem ser extraídas:"
      ],
      "metadata": {
        "id": "SkT5Ft12Qsmh"
      }
    },
    {
      "cell_type": "code",
      "source": [
        "[a,b,c,d][0]"
      ],
      "metadata": {
        "colab": {
          "base_uri": "https://localhost:8080/",
          "height": 38
        },
        "id": "W15HnSx5Nleo",
        "outputId": "b2bc76c6-8080-4fdc-df1c-8eb450d5f058"
      },
      "execution_count": 18,
      "outputs": [
        {
          "output_type": "execute_result",
          "data": {
            "text/plain": [
              "a"
            ],
            "image/png": "[encoded data removed]",
            "text/latex": "$\\displaystyle a$"
          },
          "metadata": {},
          "execution_count": 18
        }
      ]
    },
    {
      "cell_type": "code",
      "source": [
        "[a,b,c,d][-1]"
      ],
      "metadata": {
        "colab": {
          "base_uri": "https://localhost:8080/",
          "height": 38
        },
        "id": "DEL-Ph4LNlie",
        "outputId": "9482b3ac-a55f-4429-ccb6-6f3ead7ac980"
      },
      "execution_count": 19,
      "outputs": [
        {
          "output_type": "execute_result",
          "data": {
            "text/plain": [
              "d"
            ],
            "image/png": "[encoded data removed]",
            "text/latex": "$\\displaystyle d$"
          },
          "metadata": {},
          "execution_count": 19
        }
      ]
    },
    {
      "cell_type": "code",
      "source": [
        "[a,b,c,d][1:3]"
      ],
      "metadata": {
        "colab": {
          "base_uri": "https://localhost:8080/",
          "height": 38
        },
        "id": "uQcz8-qQNlm1",
        "outputId": "bd1b8fba-be40-46fa-b8f5-8f38cd1fcc6d"
      },
      "execution_count": 20,
      "outputs": [
        {
          "output_type": "execute_result",
          "data": {
            "text/plain": [
              "[b, c]"
            ],
            "image/png": "[encoded data removed]",
            "text/latex": "$\\displaystyle \\left[ b, \\  c\\right]$"
          },
          "metadata": {},
          "execution_count": 20
        }
      ]
    },
    {
      "cell_type": "markdown",
      "source": [
        "Listas podem aplicar operações elemento a elemento:"
      ],
      "metadata": {
        "id": "6ksbuNEbR2eT"
      }
    },
    {
      "cell_type": "code",
      "source": [
        "[(n**2) for n in Range(10)]"
      ],
      "metadata": {
        "colab": {
          "base_uri": "https://localhost:8080/",
          "height": 37
        },
        "id": "EtvL8JXtNlqd",
        "outputId": "c5b229e6-19ab-4c65-eda1-859f91764bec"
      },
      "execution_count": 21,
      "outputs": [
        {
          "output_type": "execute_result",
          "data": {
            "text/plain": [
              "[0, 1, 4, 9, 16, 25, 36, 49, 64, 81]"
            ],
            "image/png": "[encoded data removed]",
            "text/latex": "$\\displaystyle \\left[ 0, \\  1, \\  4, \\  9, \\  16, \\  25, \\  36, \\  49, \\  64, \\  81\\right]$"
          },
          "metadata": {},
          "execution_count": 21
        }
      ]
    },
    {
      "cell_type": "code",
      "source": [
        "[(n**2) for n in Range(1, 11)]"
      ],
      "metadata": {
        "colab": {
          "base_uri": "https://localhost:8080/",
          "height": 37
        },
        "id": "v9saHqZYTJr6",
        "outputId": "b809445a-e8b6-4e8a-ce5c-2b488c9e44d4"
      },
      "execution_count": 22,
      "outputs": [
        {
          "output_type": "execute_result",
          "data": {
            "text/plain": [
              "[1, 4, 9, 16, 25, 36, 49, 64, 81, 100]"
            ],
            "image/png": "[encoded data removed]",
            "text/latex": "$\\displaystyle \\left[ 1, \\  4, \\  9, \\  16, \\  25, \\  36, \\  49, \\  64, \\  81, \\  100\\right]$"
          },
          "metadata": {},
          "execution_count": 22
        }
      ]
    },
    {
      "cell_type": "code",
      "source": [
        "[(n**2) for n in Range(10, 22, 2)]"
      ],
      "metadata": {
        "colab": {
          "base_uri": "https://localhost:8080/",
          "height": 37
        },
        "id": "MR_7p7BtTL0g",
        "outputId": "6161c325-3ba9-4950-defc-b530a47aa740"
      },
      "execution_count": 23,
      "outputs": [
        {
          "output_type": "execute_result",
          "data": {
            "text/plain": [
              "[100, 144, 196, 256, 324, 400]"
            ],
            "image/png": "[encoded data removed]",
            "text/latex": "$\\displaystyle \\left[ 100, \\  144, \\  196, \\  256, \\  324, \\  400\\right]$"
          },
          "metadata": {},
          "execution_count": 23
        }
      ]
    }
  ]
}