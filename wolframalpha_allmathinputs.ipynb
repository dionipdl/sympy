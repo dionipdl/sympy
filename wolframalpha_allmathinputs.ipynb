{
  "nbformat": 4,
  "nbformat_minor": 0,
  "metadata": {
    "colab": {
      "name": "n0_configuracoes_iniciais.ipynb",
      "provenance": [],
      "collapsed_sections": [],
      "include_colab_link": true
    },
    "kernelspec": {
      "name": "python3",
      "display_name": "Python 3"
    },
    "language_info": {
      "name": "python"
    }
  },
  "cells": [
    {
      "cell_type": "markdown",
      "metadata": {
        "id": "view-in-github",
        "colab_type": "text"
      },
      "source": [
        "<a href=\"https://colab.research.google.com/github/dionipdl/sympy_mat_intro/blob/main/wolframalpha_allmathinputs.ipynb\" target=\"_parent\"><img src=\"https://colab.research.google.com/assets/colab-badge.svg\" alt=\"Open In Colab\"/></a>"
      ]
    },
    {
      "cell_type": "markdown",
      "metadata": {
        "id": "T5oRYwbdpZyO"
      },
      "source": [
        "# WolframAlpha - All Math Inputs"
      ]
    },
    {
      "cell_type": "markdown",
      "metadata": {
        "id": "0VNeAtRh3Kj-"
      },
      "source": [
        "---\n",
        "#### WORKPLACE"
      ]
    },
    {
      "cell_type": "code",
      "metadata": {
        "colab": {
          "base_uri": "https://localhost:8080/"
        },
        "id": "1A9q66SqqZSW",
        "outputId": "646e6132-1dcd-43d1-8a7f-46327bacc540"
      },
      "source": [
        "from sympy import *\n",
        "init_session()\n",
        "a, b, c, d, s = symbols('a, b, c, d, s')"
      ],
      "execution_count": 1,
      "outputs": [
        {
          "output_type": "stream",
          "name": "stdout",
          "text": [
            "IPython console for SymPy 1.7.1 (Python 3.7.12-64-bit) (ground types: python)\n",
            "\n",
            "These commands were executed:\n",
            ">>> from __future__ import division\n",
            ">>> from sympy import *\n",
            ">>> x, y, z, t = symbols('x y z t')\n",
            ">>> k, m, n = symbols('k m n', integer=True)\n",
            ">>> f, g, h = symbols('f g h', cls=Function)\n",
            ">>> init_printing()\n",
            "\n",
            "Documentation can be found at https://docs.sympy.org/1.7.1/\n",
            "\n"
          ]
        }
      ]
    },
    {
      "cell_type": "code",
      "metadata": {
        "id": "YwiVPtFJqh_e"
      },
      "source": [
        "from seaborn import set_style as plot_style\n",
        "plot_style(\"whitegrid\")\n",
        "%matplotlib inline"
      ],
      "execution_count": 2,
      "outputs": []
    },
    {
      "cell_type": "code",
      "metadata": {
        "id": "UYhPisG2q25T"
      },
      "source": [
        "from IPython.core.interactiveshell import InteractiveShell\n",
        "InteractiveShell.ast_node_interactivity = \"all\""
      ],
      "execution_count": 3,
      "outputs": []
    },
    {
      "cell_type": "markdown",
      "metadata": {
        "id": "a-Nb6cscyGqH"
      },
      "source": [
        "---\n",
        "#### BASIC MATH\n"
      ]
    },
    {
      "cell_type": "code",
      "metadata": {
        "id": "sfYcQoJ-Lj4c",
        "outputId": "d479b23d-8d6c-43cc-ee6b-321cb0ab861a",
        "colab": {
          "base_uri": "https://localhost:8080/",
          "height": 51
        }
      },
      "source": [
        "#fraction\n",
        "x/y"
      ],
      "execution_count": 4,
      "outputs": [
        {
          "output_type": "execute_result",
          "data": {
            "image/png": "[encoded data removed]",
            "text/latex": "$\\displaystyle \\frac{x}{y}$",
            "text/plain": [
              "x\n",
              "─\n",
              "y"
            ]
          },
          "metadata": {},
          "execution_count": 4
        }
      ]
    },
    {
      "cell_type": "code",
      "metadata": {
        "id": "v7QRwmOhLib1",
        "outputId": "98d585c3-a853-44b8-9f61-a2f84d6df8f5",
        "colab": {
          "base_uri": "https://localhost:8080/",
          "height": 38
        }
      },
      "source": [
        "#square\n",
        "x**2"
      ],
      "execution_count": 5,
      "outputs": [
        {
          "output_type": "execute_result",
          "data": {
            "image/png": "[encoded data removed]",
            "text/latex": "$\\displaystyle x^{2}$",
            "text/plain": [
              " 2\n",
              "x "
            ]
          },
          "metadata": {},
          "execution_count": 5
        }
      ]
    },
    {
      "cell_type": "code",
      "metadata": {
        "id": "sdfC0yEMLa8l",
        "outputId": "bce8b7ff-b9e8-48d9-9600-47d857a40252",
        "colab": {
          "base_uri": "https://localhost:8080/",
          "height": 38
        }
      },
      "source": [
        "#power\n",
        "x**y"
      ],
      "execution_count": 6,
      "outputs": [
        {
          "output_type": "execute_result",
          "data": {
            "image/png": "[encoded data removed]",
            "text/latex": "$\\displaystyle x^{y}$",
            "text/plain": [
              " y\n",
              "x "
            ]
          },
          "metadata": {},
          "execution_count": 6
        }
      ]
    },
    {
      "cell_type": "code",
      "metadata": {
        "id": "WyeXExpFL1Vt",
        "outputId": "292bfc60-4b2d-4ed9-eff3-555b98d2ba2b",
        "colab": {
          "base_uri": "https://localhost:8080/",
          "height": 37
        }
      },
      "source": [
        "#square root\n",
        "sqrt(x)"
      ],
      "execution_count": 7,
      "outputs": [
        {
          "output_type": "execute_result",
          "data": {
            "image/png": "[encoded data removed]",
            "text/latex": "$\\displaystyle \\sqrt{x}$",
            "text/plain": [
              "√x"
            ]
          },
          "metadata": {},
          "execution_count": 7
        }
      ]
    },
    {
      "cell_type": "code",
      "metadata": {
        "id": "pG4voNJYL9KP",
        "outputId": "c51d8eba-e5b6-4527-f551-74c5fac8a6cd",
        "colab": {
          "base_uri": "https://localhost:8080/",
          "height": 37
        }
      },
      "source": [
        "#cube root\n",
        "root(x, 3)"
      ],
      "execution_count": 8,
      "outputs": [
        {
          "output_type": "execute_result",
          "data": {
            "image/png": "[encoded data removed]",
            "text/latex": "$\\displaystyle \\sqrt[3]{x}$",
            "text/plain": [
              "3 ___\n",
              "╲╱ x "
            ]
          },
          "metadata": {},
          "execution_count": 8
        }
      ]
    },
    {
      "cell_type": "code",
      "metadata": {
        "id": "h9I8xeOhMD_x",
        "outputId": "5d07b8d7-96ab-4ae6-f1c5-b06054625d0b",
        "colab": {
          "base_uri": "https://localhost:8080/",
          "height": 40
        }
      },
      "source": [
        "#nth root\n",
        "root(x, n)"
      ],
      "execution_count": 9,
      "outputs": [
        {
          "output_type": "execute_result",
          "data": {
            "image/png": "[encoded data removed]",
            "text/latex": "$\\displaystyle x^{\\frac{1}{n}}$",
            "text/plain": [
              "n ___\n",
              "╲╱ x "
            ]
          },
          "metadata": {},
          "execution_count": 9
        }
      ]
    },
    {
      "cell_type": "code",
      "metadata": {
        "id": "tg7BvDBOMYzw",
        "outputId": "d72a7fe7-18b5-42dc-b1b9-030b1fb75195",
        "colab": {
          "base_uri": "https://localhost:8080/",
          "height": 37
        }
      },
      "source": [
        "#infinity\n",
        "oo"
      ],
      "execution_count": 10,
      "outputs": [
        {
          "output_type": "execute_result",
          "data": {
            "image/png": "[encoded data removed]",
            "text/latex": "$\\displaystyle \\infty$",
            "text/plain": [
              "∞"
            ]
          },
          "metadata": {},
          "execution_count": 10
        }
      ]
    },
    {
      "cell_type": "code",
      "metadata": {
        "id": "mH3jWF4aMgqt",
        "outputId": "3f306316-c93b-45da-8a60-b73481a031b8",
        "colab": {
          "base_uri": "https://localhost:8080/",
          "height": 37
        }
      },
      "source": [
        "#negative infinity\n",
        "-oo"
      ],
      "execution_count": 11,
      "outputs": [
        {
          "output_type": "execute_result",
          "data": {
            "image/png": "[encoded data removed]",
            "text/latex": "$\\displaystyle -\\infty$",
            "text/plain": [
              "-∞"
            ]
          },
          "metadata": {},
          "execution_count": 11
        }
      ]
    },
    {
      "cell_type": "code",
      "metadata": {
        "id": "KPrE0msVMizt",
        "outputId": "9473b96e-bf9b-4a60-95ae-9fdd7a4509c1",
        "colab": {
          "base_uri": "https://localhost:8080/",
          "height": 38
        }
      },
      "source": [
        "#capital pi\n",
        "pi"
      ],
      "execution_count": 12,
      "outputs": [
        {
          "output_type": "execute_result",
          "data": {
            "image/png": "[encoded data removed]",
            "text/latex": "$\\displaystyle \\pi$",
            "text/plain": [
              "π"
            ]
          },
          "metadata": {},
          "execution_count": 12
        }
      ]
    },
    {
      "cell_type": "code",
      "metadata": {
        "id": "c_8J_7jtMoeb",
        "outputId": "572c8a13-94c7-4e33-98c4-06e914f58131",
        "colab": {
          "base_uri": "https://localhost:8080/",
          "height": 38
        }
      },
      "source": [
        "#Euler's number\n",
        "E"
      ],
      "execution_count": 13,
      "outputs": [
        {
          "output_type": "execute_result",
          "data": {
            "image/png": "[encoded data removed]",
            "text/latex": "$\\displaystyle e$",
            "text/plain": [
              "ℯ"
            ]
          },
          "metadata": {},
          "execution_count": 13
        }
      ]
    },
    {
      "cell_type": "code",
      "metadata": {
        "id": "7uyqdywOMu_Z",
        "outputId": "2345a446-aeb9-47cb-ae86-854521e6ca15",
        "colab": {
          "base_uri": "https://localhost:8080/",
          "height": 38
        }
      },
      "source": [
        "#exponential function\n",
        "exp(x)"
      ],
      "execution_count": 14,
      "outputs": [
        {
          "output_type": "execute_result",
          "data": {
            "image/png": "[encoded data removed]",
            "text/latex": "$\\displaystyle e^{x}$",
            "text/plain": [
              " x\n",
              "ℯ "
            ]
          },
          "metadata": {},
          "execution_count": 14
        }
      ]
    },
    {
      "cell_type": "code",
      "metadata": {
        "id": "TPP7N1Q5M27F",
        "outputId": "8e0121e1-2f31-42f7-cee2-c4bb7c0be6b3",
        "colab": {
          "base_uri": "https://localhost:8080/",
          "height": 38
        }
      },
      "source": [
        "#natural logarithm\n",
        "ln(x)"
      ],
      "execution_count": 15,
      "outputs": [
        {
          "output_type": "execute_result",
          "data": {
            "image/png": "[encoded data removed]",
            "text/latex": "$\\displaystyle \\log{\\left(x \\right)}$",
            "text/plain": [
              "log(x)"
            ]
          },
          "metadata": {},
          "execution_count": 15
        }
      ]
    },
    {
      "cell_type": "code",
      "metadata": {
        "id": "3olsZ42cM_Xw",
        "outputId": "5ecae930-576d-4c33-aba4-1120817fb840",
        "colab": {
          "base_uri": "https://localhost:8080/",
          "height": 57
        }
      },
      "source": [
        "#logarithm\n",
        "log(x, b)"
      ],
      "execution_count": 16,
      "outputs": [
        {
          "output_type": "execute_result",
          "data": {
            "image/png": "[encoded data removed]",
            "text/latex": "$\\displaystyle \\frac{\\log{\\left(x \\right)}}{\\log{\\left(b \\right)}}$",
            "text/plain": [
              "log(x)\n",
              "──────\n",
              "log(b)"
            ]
          },
          "metadata": {},
          "execution_count": 16
        }
      ]
    },
    {
      "cell_type": "code",
      "metadata": {
        "id": "2mwpaOE8NJ8V",
        "outputId": "099f02b8-c3e7-4e7c-832c-8126950b26c2",
        "colab": {
          "base_uri": "https://localhost:8080/",
          "height": 57
        }
      },
      "source": [
        "#common logarithm\n",
        "log(x, 10)"
      ],
      "execution_count": 17,
      "outputs": [
        {
          "output_type": "execute_result",
          "data": {
            "image/png": "[encoded data removed]",
            "text/latex": "$\\displaystyle \\frac{\\log{\\left(x \\right)}}{\\log{\\left(10 \\right)}}$",
            "text/plain": [
              " log(x)\n",
              "───────\n",
              "log(10)"
            ]
          },
          "metadata": {},
          "execution_count": 17
        }
      ]
    },
    {
      "cell_type": "code",
      "metadata": {
        "id": "vWmQGnf6NPqs",
        "outputId": "f43d7c9e-7f3a-4d7d-a8f3-a2813582be77",
        "colab": {
          "base_uri": "https://localhost:8080/",
          "height": 38
        }
      },
      "source": [
        "#absolute value\n",
        "Abs(x)"
      ],
      "execution_count": 18,
      "outputs": [
        {
          "output_type": "execute_result",
          "data": {
            "image/png": "[encoded data removed]",
            "text/latex": "$\\displaystyle \\left|{x}\\right|$",
            "text/plain": [
              "│x│"
            ]
          },
          "metadata": {},
          "execution_count": 18
        }
      ]
    },
    {
      "cell_type": "code",
      "metadata": {
        "id": "w_uP7SySNW3i",
        "outputId": "afe2ce44-9fae-4796-9a07-56d81b58f33a",
        "colab": {
          "base_uri": "https://localhost:8080/",
          "height": 38
        }
      },
      "source": [
        "#less than or equal to\n",
        "x <= y"
      ],
      "execution_count": 19,
      "outputs": [
        {
          "output_type": "execute_result",
          "data": {
            "image/png": "[encoded data removed]",
            "text/latex": "$\\displaystyle x \\leq y$",
            "text/plain": [
              "x ≤ y"
            ]
          },
          "metadata": {},
          "execution_count": 19
        }
      ]
    },
    {
      "cell_type": "code",
      "metadata": {
        "id": "jTLddwzfNjDi",
        "outputId": "a5df7a8e-58b7-4d92-837c-eb19541b64ee",
        "colab": {
          "base_uri": "https://localhost:8080/",
          "height": 38
        }
      },
      "source": [
        "#greater than or equal to\n",
        "x >= y"
      ],
      "execution_count": 20,
      "outputs": [
        {
          "output_type": "execute_result",
          "data": {
            "image/png": "[encoded data removed]",
            "text/latex": "$\\displaystyle x \\geq y$",
            "text/plain": [
              "x ≥ y"
            ]
          },
          "metadata": {},
          "execution_count": 20
        }
      ]
    },
    {
      "cell_type": "code",
      "metadata": {
        "id": "5YeIOhL6NoEq",
        "outputId": "1c7b3194-7ee3-4526-85e3-d3d7f289340d",
        "colab": {
          "base_uri": "https://localhost:8080/"
        }
      },
      "source": [
        "#not equal\n",
        "x != y"
      ],
      "execution_count": 21,
      "outputs": [
        {
          "output_type": "execute_result",
          "data": {
            "text/plain": [
              "True"
            ]
          },
          "metadata": {},
          "execution_count": 21
        }
      ]
    },
    {
      "cell_type": "markdown",
      "metadata": {
        "id": "CTU5rVP4OcYK"
      },
      "source": [
        "---\n",
        "#### CALCULUS & SUMS"
      ]
    },
    {
      "cell_type": "code",
      "metadata": {
        "id": "xe5dgjkBOIWi",
        "outputId": "b12357f8-5e31-4ca4-e7b3-35b6908f4533",
        "colab": {
          "base_uri": "https://localhost:8080/",
          "height": 52
        }
      },
      "source": [
        "#derivative\n",
        "Derivative(f(x), x)"
      ],
      "execution_count": 22,
      "outputs": [
        {
          "output_type": "execute_result",
          "data": {
            "image/png": "[encoded data removed]",
            "text/latex": "$\\displaystyle \\frac{d}{d x} f{\\left(x \\right)}$",
            "text/plain": [
              "d       \n",
              "──(f(x))\n",
              "dx      "
            ]
          },
          "metadata": {},
          "execution_count": 22
        }
      ]
    },
    {
      "cell_type": "code",
      "metadata": {
        "id": "0xs0W8Y_OqyO",
        "outputId": "cbe45b9d-6fc6-4896-bbd9-e13bbb653340",
        "colab": {
          "base_uri": "https://localhost:8080/",
          "height": 54
        }
      },
      "source": [
        "#second-order derivative\n",
        "Derivative(f(x), x, 2)"
      ],
      "execution_count": 23,
      "outputs": [
        {
          "output_type": "execute_result",
          "data": {
            "image/png": "[encoded data removed]",
            "text/latex": "$\\displaystyle \\frac{d^{2}}{d x^{2}} f{\\left(x \\right)}$",
            "text/plain": [
              "  2      \n",
              " d       \n",
              "───(f(x))\n",
              "  2      \n",
              "dx       "
            ]
          },
          "metadata": {},
          "execution_count": 23
        }
      ]
    },
    {
      "cell_type": "code",
      "metadata": {
        "id": "7427WabEO0eh",
        "outputId": "3aa3de38-2caa-42b2-853f-d8b0ad4fc69d",
        "colab": {
          "base_uri": "https://localhost:8080/",
          "height": 52
        }
      },
      "source": [
        "#partial derivative\n",
        "Derivative(f(x,y), x)"
      ],
      "execution_count": 24,
      "outputs": [
        {
          "output_type": "execute_result",
          "data": {
            "image/png": "[encoded data removed]",
            "text/latex": "$\\displaystyle \\frac{\\partial}{\\partial x} f{\\left(x,y \\right)}$",
            "text/plain": [
              "∂          \n",
              "──(f(x, y))\n",
              "∂x         "
            ]
          },
          "metadata": {},
          "execution_count": 24
        }
      ]
    },
    {
      "cell_type": "code",
      "metadata": {
        "id": "OYCDF32FO-kn",
        "outputId": "1f4f88bf-d978-4d07-c9cb-1da8c435d408",
        "colab": {
          "base_uri": "https://localhost:8080/",
          "height": 54
        }
      },
      "source": [
        "#second-order partial derivative\n",
        "Derivative(f(x,y), x, 2)"
      ],
      "execution_count": 25,
      "outputs": [
        {
          "output_type": "execute_result",
          "data": {
            "image/png": "[encoded data removed]",
            "text/latex": "$\\displaystyle \\frac{\\partial^{2}}{\\partial x^{2}} f{\\left(x,y \\right)}$",
            "text/plain": [
              "  2         \n",
              " ∂          \n",
              "───(f(x, y))\n",
              "  2         \n",
              "∂x          "
            ]
          },
          "metadata": {},
          "execution_count": 25
        }
      ]
    },
    {
      "cell_type": "code",
      "metadata": {
        "id": "QHmjw4DwPYFf",
        "outputId": "00dcda59-4985-43f4-8b11-9c009e008d7f",
        "colab": {
          "base_uri": "https://localhost:8080/",
          "height": 57
        }
      },
      "source": [
        "#mixed partial derivative\n",
        "Derivative(f(x,y), x, y)"
      ],
      "execution_count": 26,
      "outputs": [
        {
          "output_type": "execute_result",
          "data": {
            "image/png": "[encoded data removed]",
            "text/latex": "$\\displaystyle \\frac{\\partial^{2}}{\\partial y\\partial x} f{\\left(x,y \\right)}$",
            "text/plain": [
              "   2          \n",
              "  ∂           \n",
              "─────(f(x, y))\n",
              "∂y ∂x         "
            ]
          },
          "metadata": {},
          "execution_count": 26
        }
      ]
    },
    {
      "cell_type": "code",
      "metadata": {
        "id": "QbJDa9UiPhhN",
        "outputId": "5bfc9d3d-e2a5-4718-8242-1ef8d608fac8",
        "colab": {
          "base_uri": "https://localhost:8080/",
          "height": 55
        }
      },
      "source": [
        "#integral\n",
        "Integral(f(x), x)"
      ],
      "execution_count": 27,
      "outputs": [
        {
          "output_type": "execute_result",
          "data": {
            "image/png": "[encoded data removed]",
            "text/latex": "$\\displaystyle \\int f{\\left(x \\right)}\\, dx$",
            "text/plain": [
              "⌠        \n",
              "⎮ f(x) dx\n",
              "⌡        "
            ]
          },
          "metadata": {},
          "execution_count": 27
        }
      ]
    },
    {
      "cell_type": "code",
      "metadata": {
        "id": "bPuifDF0QY8z",
        "outputId": "ef8e6adb-2b08-49d9-c350-7f267f2797bc",
        "colab": {
          "base_uri": "https://localhost:8080/",
          "height": 55
        }
      },
      "source": [
        "#double integral\n",
        "Integral(f(x, y), x, y)"
      ],
      "execution_count": 28,
      "outputs": [
        {
          "output_type": "execute_result",
          "data": {
            "image/png": "[encoded data removed]",
            "text/latex": "$\\displaystyle \\iint f{\\left(x,y \\right)}\\, dx\\, dy$",
            "text/plain": [
              "⌠ ⌠              \n",
              "⎮ ⎮ f(x, y) dx dy\n",
              "⌡ ⌡              "
            ]
          },
          "metadata": {},
          "execution_count": 28
        }
      ]
    },
    {
      "cell_type": "code",
      "metadata": {
        "id": "7bFhc-r3QgcG",
        "outputId": "08615bbd-5714-41b8-b22c-3acc5f6f2ca1",
        "colab": {
          "base_uri": "https://localhost:8080/",
          "height": 55
        }
      },
      "source": [
        "#triple integral\n",
        "Integral(f(x, y, z), x, y, z)"
      ],
      "execution_count": 29,
      "outputs": [
        {
          "output_type": "execute_result",
          "data": {
            "image/png": "[encoded data removed]",
            "text/latex": "$\\displaystyle \\iiint f{\\left(x,y,z \\right)}\\, dx\\, dy\\, dz$",
            "text/plain": [
              "⌠ ⌠ ⌠                    \n",
              "⎮ ⎮ ⎮ f(x, y, z) dx dy dz\n",
              "⌡ ⌡ ⌡                    "
            ]
          },
          "metadata": {},
          "execution_count": 29
        }
      ]
    },
    {
      "cell_type": "code",
      "metadata": {
        "id": "U1nTd_34Qydw",
        "outputId": "1bf1694c-a1fb-4604-b922-10e4368f245f",
        "colab": {
          "base_uri": "https://localhost:8080/",
          "height": 80
        }
      },
      "source": [
        "#definite integral\n",
        "Integral(f(x), (x, a, b))"
      ],
      "execution_count": 30,
      "outputs": [
        {
          "output_type": "execute_result",
          "data": {
            "image/png": "[encoded data removed]",
            "text/latex": "$\\displaystyle \\int\\limits_{a}^{b} f{\\left(x \\right)}\\, dx$",
            "text/plain": [
              "b        \n",
              "⌠        \n",
              "⎮ f(x) dx\n",
              "⌡        \n",
              "a        "
            ]
          },
          "metadata": {},
          "execution_count": 30
        }
      ]
    },
    {
      "cell_type": "code",
      "metadata": {
        "id": "9Q4yRT9pQ8ea",
        "outputId": "4834593e-a4ac-4603-d0e8-fa312847584c",
        "colab": {
          "base_uri": "https://localhost:8080/",
          "height": 80
        }
      },
      "source": [
        "#definite double integral\n",
        "Integral(f(x, y), (x, a, b), (y, c, d))"
      ],
      "execution_count": 31,
      "outputs": [
        {
          "output_type": "execute_result",
          "data": {
            "image/png": "[encoded data removed]",
            "text/latex": "$\\displaystyle \\int\\limits_{c}^{d}\\int\\limits_{a}^{b} f{\\left(x,y \\right)}\\, dx\\, dy$",
            "text/plain": [
              "d b              \n",
              "⌠ ⌠              \n",
              "⎮ ⎮ f(x, y) dx dy\n",
              "⌡ ⌡              \n",
              "c a              "
            ]
          },
          "metadata": {},
          "execution_count": 31
        }
      ]
    },
    {
      "cell_type": "code",
      "metadata": {
        "id": "qo7RkPgKRH76",
        "outputId": "ac8f42cf-32e6-4e02-c038-ad60de52e8dc",
        "colab": {
          "base_uri": "https://localhost:8080/",
          "height": 80
        }
      },
      "source": [
        "#definite triple integral\n",
        "Integral(f(x, y, z), (x, a, b), (y, c, d), (z, m, n))"
      ],
      "execution_count": 32,
      "outputs": [
        {
          "output_type": "execute_result",
          "data": {
            "image/png": "[encoded data removed]",
            "text/latex": "$\\displaystyle \\int\\limits_{m}^{n}\\int\\limits_{c}^{d}\\int\\limits_{a}^{b} f{\\left(x,y,z \\right)}\\, dx\\, dy\\, dz$",
            "text/plain": [
              "n d b                    \n",
              "⌠ ⌠ ⌠                    \n",
              "⎮ ⎮ ⎮ f(x, y, z) dx dy dz\n",
              "⌡ ⌡ ⌡                    \n",
              "m c a                    "
            ]
          },
          "metadata": {},
          "execution_count": 32
        }
      ]
    },
    {
      "cell_type": "code",
      "metadata": {
        "id": "NO0pjsLpRZk2",
        "outputId": "bf7db097-e1f2-48b9-a5f2-ecb2f9b46596",
        "colab": {
          "base_uri": "https://localhost:8080/",
          "height": 70
        }
      },
      "source": [
        "#summation\n",
        "Sum(k, (k, a, b))"
      ],
      "execution_count": 33,
      "outputs": [
        {
          "output_type": "execute_result",
          "data": {
            "image/png": "[encoded data removed]",
            "text/latex": "$\\displaystyle \\sum_{k=a}^{b} k$",
            "text/plain": [
              "  b    \n",
              " ___   \n",
              " ╲     \n",
              "  ╲    \n",
              "  ╱   k\n",
              " ╱     \n",
              " ‾‾‾   \n",
              "k = a  "
            ]
          },
          "metadata": {},
          "execution_count": 33
        }
      ]
    },
    {
      "cell_type": "code",
      "metadata": {
        "id": "3G1oBv99RopG",
        "outputId": "0b9ac70f-a2a7-46db-8f39-8e05d7d2086b",
        "colab": {
          "base_uri": "https://localhost:8080/",
          "height": 70
        }
      },
      "source": [
        "#product\n",
        "Product(k, (k, a, b))"
      ],
      "execution_count": 34,
      "outputs": [
        {
          "output_type": "execute_result",
          "data": {
            "image/png": "[encoded data removed]",
            "text/latex": "$\\displaystyle \\prod_{k=a}^{b} k$",
            "text/plain": [
              "  b    \n",
              "─┬─┬─  \n",
              " │ │  k\n",
              " │ │   \n",
              "k = a  "
            ]
          },
          "metadata": {},
          "execution_count": 34
        }
      ]
    },
    {
      "cell_type": "code",
      "metadata": {
        "id": "53YA75jvR-eD",
        "outputId": "3e301f5c-3ab1-4e7c-b340-a22a990bac74",
        "colab": {
          "base_uri": "https://localhost:8080/",
          "height": 45
        }
      },
      "source": [
        "#limit\n",
        "Limit(f(x), x, a)"
      ],
      "execution_count": 35,
      "outputs": [
        {
          "output_type": "execute_result",
          "data": {
            "image/png": "[encoded data removed]",
            "text/latex": "$\\displaystyle \\lim_{x \\to a^+} f{\\left(x \\right)}$",
            "text/plain": [
              " lim f(x)\n",
              "x─→a⁺    "
            ]
          },
          "metadata": {},
          "execution_count": 35
        }
      ]
    },
    {
      "cell_type": "code",
      "metadata": {
        "id": "1G76EzAxSIRp",
        "outputId": "111ad8af-c65d-4776-afc1-12541b50c6ff",
        "colab": {
          "base_uri": "https://localhost:8080/",
          "height": 45
        }
      },
      "source": [
        "#limit from the left\n",
        "Limit(f(x), x, a, dir='-')"
      ],
      "execution_count": 36,
      "outputs": [
        {
          "output_type": "execute_result",
          "data": {
            "image/png": "[encoded data removed]",
            "text/latex": "$\\displaystyle \\lim_{x \\to a^-} f{\\left(x \\right)}$",
            "text/plain": [
              " lim f(x)\n",
              "x─→a⁻    "
            ]
          },
          "metadata": {},
          "execution_count": 36
        }
      ]
    },
    {
      "cell_type": "code",
      "metadata": {
        "id": "SRp88SYJSadz",
        "outputId": "83c1c0af-a097-4f83-e89e-646f3f3f69fb",
        "colab": {
          "base_uri": "https://localhost:8080/",
          "height": 45
        }
      },
      "source": [
        "#limit from the right\n",
        "Limit(f(x), x, a, dir='+')"
      ],
      "execution_count": 37,
      "outputs": [
        {
          "output_type": "execute_result",
          "data": {
            "image/png": "[encoded data removed]",
            "text/latex": "$\\displaystyle \\lim_{x \\to a^+} f{\\left(x \\right)}$",
            "text/plain": [
              " lim f(x)\n",
              "x─→a⁺    "
            ]
          },
          "metadata": {},
          "execution_count": 37
        }
      ]
    },
    {
      "cell_type": "code",
      "metadata": {
        "id": "aOz2yWqMSnEh",
        "outputId": "c84224da-6646-40bc-ae95-22af2fdb4c20",
        "colab": {
          "base_uri": "https://localhost:8080/",
          "height": 49
        }
      },
      "source": [
        "#2D limit\n",
        "Limit(f(x, y), (x, y), (a, b))"
      ],
      "execution_count": 38,
      "outputs": [
        {
          "output_type": "execute_result",
          "data": {
            "image/png": "[encoded data removed]",
            "text/latex": "$\\displaystyle \\lim_{\\left( x, \\  y\\right) \\to \\left( a, \\  b\\right)^+} f{\\left(x,y \\right)}$",
            "text/plain": [
              "      lim      f(x, y)\n",
              "(x, y)─→(a, b)⁺       "
            ]
          },
          "metadata": {},
          "execution_count": 38
        }
      ]
    },
    {
      "cell_type": "code",
      "metadata": {
        "id": "PkWVXxFaTNrp",
        "outputId": "b8909f1f-5b48-476e-c85b-f7db7dd5ffa9",
        "colab": {
          "base_uri": "https://localhost:8080/",
          "height": 38
        }
      },
      "source": [
        "#unit step\n",
        "Heaviside(x)"
      ],
      "execution_count": 39,
      "outputs": [
        {
          "output_type": "execute_result",
          "data": {
            "image/png": "[encoded data removed]",
            "text/latex": "$\\displaystyle \\theta\\left(x\\right)$",
            "text/plain": [
              "θ(x)"
            ]
          },
          "metadata": {},
          "execution_count": 39
        }
      ]
    },
    {
      "cell_type": "code",
      "metadata": {
        "id": "kF5TS4t7UMZe",
        "outputId": "b1fee28f-06b3-4bb0-c96c-51081fb3ab69",
        "colab": {
          "base_uri": "https://localhost:8080/",
          "height": 38
        }
      },
      "source": [
        "#Dirac Delta\n",
        "DiracDelta(x)"
      ],
      "execution_count": 40,
      "outputs": [
        {
          "output_type": "execute_result",
          "data": {
            "image/png": "[encoded data removed]",
            "text/latex": "$\\displaystyle \\delta\\left(x\\right)$",
            "text/plain": [
              "δ(x)"
            ]
          },
          "metadata": {},
          "execution_count": 40
        }
      ]
    },
    {
      "cell_type": "code",
      "metadata": {
        "id": "gNQ_4B9HUYkK",
        "outputId": "bd56a80d-83e1-4f79-b391-4b0d81289ec9",
        "colab": {
          "base_uri": "https://localhost:8080/",
          "height": 68
        }
      },
      "source": [
        "#piecewise function\n",
        "Piecewise((0, x < 0), (1, x >= 0))"
      ],
      "execution_count": 41,
      "outputs": [
        {
          "output_type": "execute_result",
          "data": {
            "text/latex": "$\\displaystyle \\begin{cases} 0 & \\text{for}\\: x < 0 \\\\1 & \\text{otherwise} \\end{cases}$",
            "text/plain": [
              "⎧0  for x < 0\n",
              "⎨            \n",
              "⎩1  otherwise"
            ]
          },
          "metadata": {},
          "execution_count": 41
        }
      ]
    },
    {
      "cell_type": "code",
      "metadata": {
        "id": "ostLk7M2VKyT",
        "outputId": "b84bc748-3979-4e37-dc94-0d4ba282355e",
        "colab": {
          "base_uri": "https://localhost:8080/",
          "height": 90
        }
      },
      "source": [
        "#multivalue piecewise\n",
        "Piecewise((0, x < 0), (1, x >= 1), (2, true))"
      ],
      "execution_count": 42,
      "outputs": [
        {
          "output_type": "execute_result",
          "data": {
            "text/latex": "$\\displaystyle \\begin{cases} 0 & \\text{for}\\: x < 0 \\\\1 & \\text{for}\\: x \\geq 1 \\\\2 & \\text{otherwise} \\end{cases}$",
            "text/plain": [
              "⎧0  for x < 0\n",
              "⎪            \n",
              "⎨1  for x ≥ 1\n",
              "⎪            \n",
              "⎩2  otherwise"
            ]
          },
          "metadata": {},
          "execution_count": 42
        }
      ]
    },
    {
      "cell_type": "code",
      "metadata": {
        "id": "40VrM_rrVzaa",
        "outputId": "2c804691-73a1-4ca6-9ce2-a48735d60321",
        "colab": {
          "base_uri": "https://localhost:8080/",
          "height": 38
        }
      },
      "source": [
        "#Laplace transform\n",
        "laplace_transform(f(t), t, s)"
      ],
      "execution_count": 43,
      "outputs": [
        {
          "output_type": "execute_result",
          "data": {
            "image/png": "[encoded data removed]",
            "text/latex": "$\\displaystyle \\mathcal{L}_{t}\\left[f{\\left(t \\right)}\\right]\\left(s\\right)$",
            "text/plain": [
              "LaplaceTransform(f(t), t, s)"
            ]
          },
          "metadata": {},
          "execution_count": 43
        }
      ]
    },
    {
      "cell_type": "code",
      "metadata": {
        "id": "mvb_B4WdXLSb",
        "outputId": "4e995314-4ca6-4126-efe9-41f467573ba7",
        "colab": {
          "base_uri": "https://localhost:8080/",
          "height": 38
        }
      },
      "source": [
        "#inverse Laplace transform\n",
        "inverse_laplace_transform(f(s), s, t)"
      ],
      "execution_count": 44,
      "outputs": [
        {
          "output_type": "execute_result",
          "data": {
            "image/png": "[encoded data removed]",
            "text/latex": "$\\displaystyle \\mathcal{L}^{-1}_{s}\\left[f{\\left(s \\right)}\\right]\\left(t\\right)$",
            "text/plain": [
              "InverseLaplaceTransform(f(s), s, t, None)"
            ]
          },
          "metadata": {},
          "execution_count": 44
        }
      ]
    },
    {
      "cell_type": "code",
      "metadata": {
        "id": "K3wNhatUYApz",
        "outputId": "69d9ec8f-656e-4d79-ee2b-1c4c742a7dfc",
        "colab": {
          "base_uri": "https://localhost:8080/",
          "height": 38
        }
      },
      "source": [
        "#Fourier transform\n",
        "fourier_transform(f(t), t, s)"
      ],
      "execution_count": 45,
      "outputs": [
        {
          "output_type": "execute_result",
          "data": {
            "image/png": "[encoded data removed]",
            "text/latex": "$\\displaystyle \\mathcal{F}_{t}\\left[f{\\left(t \\right)}\\right]\\left(s\\right)$",
            "text/plain": [
              "FourierTransform(f(t), t, s)"
            ]
          },
          "metadata": {},
          "execution_count": 45
        }
      ]
    },
    {
      "cell_type": "code",
      "metadata": {
        "id": "C8MOG_FAYa7k",
        "outputId": "1dd173b8-2b54-4fc0-eb81-271e360144eb",
        "colab": {
          "base_uri": "https://localhost:8080/",
          "height": 38
        }
      },
      "source": [
        "#inverse Fourier transform\n",
        "inverse_fourier_transform(f(s), s, t)"
      ],
      "execution_count": 46,
      "outputs": [
        {
          "output_type": "execute_result",
          "data": {
            "image/png": "[encoded data removed]",
            "text/latex": "$\\displaystyle \\mathcal{F}^{-1}_{s}\\left[f{\\left(s \\right)}\\right]\\left(t\\right)$",
            "text/plain": [
              "InverseFourierTransform(f(s), s, t)"
            ]
          },
          "metadata": {},
          "execution_count": 46
        }
      ]
    },
    {
      "cell_type": "markdown",
      "metadata": {
        "id": "8OPu9a7CYuKh"
      },
      "source": [
        "---\n",
        "#### VECTORS & MATRICES"
      ]
    },
    {
      "cell_type": "code",
      "metadata": {
        "id": "3RHt2FUJa1fg",
        "outputId": "a9b75d29-c51c-4f9f-bdaa-d42a46648a35",
        "colab": {
          "base_uri": "https://localhost:8080/",
          "height": 38
        }
      },
      "source": [
        "#2-vector\n",
        "Matrix([[a, b]])"
      ],
      "execution_count": 47,
      "outputs": [
        {
          "output_type": "execute_result",
          "data": {
            "text/latex": "$\\displaystyle \\left[\\begin{matrix}a & b\\end{matrix}\\right]$",
            "text/plain": [
              "[a  b]"
            ]
          },
          "metadata": {},
          "execution_count": 47
        }
      ]
    },
    {
      "cell_type": "code",
      "metadata": {
        "id": "d9RhTI7Qa1QQ",
        "outputId": "753952d3-878d-4368-dd14-70869f96fb7e",
        "colab": {
          "base_uri": "https://localhost:8080/",
          "height": 38
        }
      },
      "source": [
        "#3-vector\n",
        "Matrix([[a, b, c]])"
      ],
      "execution_count": 48,
      "outputs": [
        {
          "output_type": "execute_result",
          "data": {
            "text/latex": "$\\displaystyle \\left[\\begin{matrix}a & b & c\\end{matrix}\\right]$",
            "text/plain": [
              "[a  b  c]"
            ]
          },
          "metadata": {},
          "execution_count": 48
        }
      ]
    },
    {
      "cell_type": "code",
      "metadata": {
        "id": "AifTaVH_0MRp",
        "outputId": "bdbcef37-e846-41a1-c3ee-846209c631c3",
        "colab": {
          "base_uri": "https://localhost:8080/",
          "height": 38
        }
      },
      "source": [
        "#4-vector\n",
        "Matrix([[a, b, c, d]])"
      ],
      "execution_count": 49,
      "outputs": [
        {
          "output_type": "execute_result",
          "data": {
            "text/latex": "$\\displaystyle \\left[\\begin{matrix}a & b & c & d\\end{matrix}\\right]$",
            "text/plain": [
              "[a  b  c  d]"
            ]
          },
          "metadata": {},
          "execution_count": 49
        }
      ]
    },
    {
      "cell_type": "code",
      "metadata": {
        "id": "7by5lT6faz8T",
        "outputId": "b8140b0a-d21d-413e-8a91-b45f754c68fe",
        "colab": {
          "base_uri": "https://localhost:8080/",
          "height": 58
        }
      },
      "source": [
        "#2x2 matrix\n",
        "Matrix([[a, b], [c, d]])"
      ],
      "execution_count": 50,
      "outputs": [
        {
          "output_type": "execute_result",
          "data": {
            "text/latex": "$\\displaystyle \\left[\\begin{matrix}a & b\\\\c & d\\end{matrix}\\right]$",
            "text/plain": [
              "⎡a  b⎤\n",
              "⎢    ⎥\n",
              "⎣c  d⎦"
            ]
          },
          "metadata": {},
          "execution_count": 50
        }
      ]
    },
    {
      "cell_type": "code",
      "metadata": {
        "id": "a_VXXTfBazyZ",
        "outputId": "ae448f2b-809b-41f5-fdce-14902c208b4a",
        "colab": {
          "base_uri": "https://localhost:8080/",
          "height": 78
        }
      },
      "source": [
        "#3x3 matrix\n",
        "Matrix([[a, b, c], [a, b, c], [a, b, c]])"
      ],
      "execution_count": 51,
      "outputs": [
        {
          "output_type": "execute_result",
          "data": {
            "text/latex": "$\\displaystyle \\left[\\begin{matrix}a & b & c\\\\a & b & c\\\\a & b & c\\end{matrix}\\right]$",
            "text/plain": [
              "⎡a  b  c⎤\n",
              "⎢       ⎥\n",
              "⎢a  b  c⎥\n",
              "⎢       ⎥\n",
              "⎣a  b  c⎦"
            ]
          },
          "metadata": {},
          "execution_count": 51
        }
      ]
    },
    {
      "cell_type": "code",
      "metadata": {
        "id": "Xr7ju_y7azn4",
        "outputId": "9cb1c283-5d0b-46c6-dbee-ec37bbf2e178",
        "colab": {
          "base_uri": "https://localhost:8080/",
          "height": 98
        }
      },
      "source": [
        "#4x4 matrix\n",
        "Matrix([[a, b, c, d], [a, b, c, d], \n",
        "        [a, b, c, d], [a, b, c, d]])"
      ],
      "execution_count": 52,
      "outputs": [
        {
          "output_type": "execute_result",
          "data": {
            "text/latex": "$\\displaystyle \\left[\\begin{matrix}a & b & c & d\\\\a & b & c & d\\\\a & b & c & d\\\\a & b & c & d\\end{matrix}\\right]$",
            "text/plain": [
              "⎡a  b  c  d⎤\n",
              "⎢          ⎥\n",
              "⎢a  b  c  d⎥\n",
              "⎢          ⎥\n",
              "⎢a  b  c  d⎥\n",
              "⎢          ⎥\n",
              "⎣a  b  c  d⎦"
            ]
          },
          "metadata": {},
          "execution_count": 52
        }
      ]
    },
    {
      "cell_type": "code",
      "metadata": {
        "id": "v5D1Eq0wazOQ",
        "outputId": "6020e2ab-7830-44d6-d22c-a472d70c7f52",
        "colab": {
          "base_uri": "https://localhost:8080/",
          "height": 119
        }
      },
      "source": [
        "#5x5 matrix\n",
        "Matrix([[a, b, c, d, x],\n",
        "        [a, b, c, d, x],\n",
        "        [a, b, c, d, x],\n",
        "        [a, b, c, d, x],\n",
        "        [a, b, c, d, x]\n",
        "])"
      ],
      "execution_count": 53,
      "outputs": [
        {
          "output_type": "execute_result",
          "data": {
            "text/latex": "$\\displaystyle \\left[\\begin{matrix}a & b & c & d & x\\\\a & b & c & d & x\\\\a & b & c & d & x\\\\a & b & c & d & x\\\\a & b & c & d & x\\end{matrix}\\right]$",
            "text/plain": [
              "⎡a  b  c  d  x⎤\n",
              "⎢             ⎥\n",
              "⎢a  b  c  d  x⎥\n",
              "⎢             ⎥\n",
              "⎢a  b  c  d  x⎥\n",
              "⎢             ⎥\n",
              "⎢a  b  c  d  x⎥\n",
              "⎢             ⎥\n",
              "⎣a  b  c  d  x⎦"
            ]
          },
          "metadata": {},
          "execution_count": 53
        }
      ]
    },
    {
      "cell_type": "markdown",
      "metadata": {
        "id": "vw_zdTrAZhm0"
      },
      "source": [
        "---\n",
        "#### TRIGONOMETRY"
      ]
    },
    {
      "cell_type": "code",
      "metadata": {
        "id": "aV8SLmM8ZqeB",
        "outputId": "15cf0d98-c885-4f01-f6a2-0e8db0b63a89",
        "colab": {
          "base_uri": "https://localhost:8080/",
          "height": 38
        }
      },
      "source": [
        "#capital pi\n",
        "pi"
      ],
      "execution_count": 54,
      "outputs": [
        {
          "output_type": "execute_result",
          "data": {
            "image/png": "[encoded data removed]",
            "text/latex": "$\\displaystyle \\pi$",
            "text/plain": [
              "π"
            ]
          },
          "metadata": {},
          "execution_count": 54
        }
      ]
    },
    {
      "cell_type": "code",
      "metadata": {
        "id": "6rdTZtCbZuox"
      },
      "source": [
        "#degree"
      ],
      "execution_count": 55,
      "outputs": []
    },
    {
      "cell_type": "code",
      "metadata": {
        "id": "fc8drKNXZzYs"
      },
      "source": [
        "#radian"
      ],
      "execution_count": 56,
      "outputs": []
    },
    {
      "cell_type": "code",
      "metadata": {
        "id": "7NWoZ1claZK-",
        "outputId": "4d4f4968-c29d-4c68-e839-e53f22aa6b50",
        "colab": {
          "base_uri": "https://localhost:8080/",
          "height": 38
        }
      },
      "source": [
        "#sine, cosine, tangent\n",
        "sin(x), cos(x), tan(x)"
      ],
      "execution_count": 57,
      "outputs": [
        {
          "output_type": "execute_result",
          "data": {
            "image/png": "[encoded data removed]",
            "text/latex": "$\\displaystyle \\left( \\sin{\\left(x \\right)}, \\  \\cos{\\left(x \\right)}, \\  \\tan{\\left(x \\right)}\\right)$",
            "text/plain": [
              "(sin(x), cos(x), tan(x))"
            ]
          },
          "metadata": {},
          "execution_count": 57
        }
      ]
    },
    {
      "cell_type": "code",
      "metadata": {
        "id": "jl-YJshXaipq",
        "outputId": "35319e4e-19ae-4627-f1a2-5177ee099436",
        "colab": {
          "base_uri": "https://localhost:8080/",
          "height": 38
        }
      },
      "source": [
        "#secante, cosecant, cotangent\n",
        "sec(x), csc(x), cot(x)"
      ],
      "execution_count": 58,
      "outputs": [
        {
          "output_type": "execute_result",
          "data": {
            "image/png": "[encoded data removed]",
            "text/latex": "$\\displaystyle \\left( \\sec{\\left(x \\right)}, \\  \\csc{\\left(x \\right)}, \\  \\cot{\\left(x \\right)}\\right)$",
            "text/plain": [
              "(sec(x), csc(x), cot(x))"
            ]
          },
          "metadata": {},
          "execution_count": 58
        }
      ]
    },
    {
      "cell_type": "code",
      "metadata": {
        "id": "pjMTX-LWan6w",
        "outputId": "a1fa9ef7-8246-4892-bef2-894e582aab99",
        "colab": {
          "base_uri": "https://localhost:8080/",
          "height": 38
        }
      },
      "source": [
        "#arcsine, arccosine, arctangent\n",
        "asin(x), acos(x), atan(x)"
      ],
      "execution_count": 59,
      "outputs": [
        {
          "output_type": "execute_result",
          "data": {
            "image/png": "[encoded data removed]",
            "text/latex": "$\\displaystyle \\left( \\operatorname{asin}{\\left(x \\right)}, \\  \\operatorname{acos}{\\left(x \\right)}, \\  \\operatorname{atan}{\\left(x \\right)}\\right)$",
            "text/plain": [
              "(asin(x), acos(x), atan(x))"
            ]
          },
          "metadata": {},
          "execution_count": 59
        }
      ]
    },
    {
      "cell_type": "code",
      "metadata": {
        "id": "DNZU3zWxasOP",
        "outputId": "06bcdd25-f5eb-4f16-cdca-7329c8ae580e",
        "colab": {
          "base_uri": "https://localhost:8080/",
          "height": 38
        }
      },
      "source": [
        "#hyperbolic: sine, cosine, tangent\n",
        "sinh(x), cosh(x), tanh(x)"
      ],
      "execution_count": 60,
      "outputs": [
        {
          "output_type": "execute_result",
          "data": {
            "image/png": "[encoded data removed]",
            "text/latex": "$\\displaystyle \\left( \\sinh{\\left(x \\right)}, \\  \\cosh{\\left(x \\right)}, \\  \\tanh{\\left(x \\right)}\\right)$",
            "text/plain": [
              "(sinh(x), cosh(x), tanh(x))"
            ]
          },
          "metadata": {},
          "execution_count": 60
        }
      ]
    },
    {
      "cell_type": "code",
      "metadata": {
        "id": "jxc4QSj0h1Pn",
        "outputId": "0bf99f49-1635-4129-8df1-05b03a56c7bd",
        "colab": {
          "base_uri": "https://localhost:8080/",
          "height": 38
        }
      },
      "source": [
        "#hyperbolic: secante, cosecant, cotangent\n",
        "sech(x), csch(x), coth(x)"
      ],
      "execution_count": 61,
      "outputs": [
        {
          "output_type": "execute_result",
          "data": {
            "image/png": "[encoded data removed]",
            "text/latex": "$\\displaystyle \\left( \\operatorname{sech}{\\left(x \\right)}, \\  \\operatorname{csch}{\\left(x \\right)}, \\  \\coth{\\left(x \\right)}\\right)$",
            "text/plain": [
              "(sech(x), csch(x), coth(x))"
            ]
          },
          "metadata": {},
          "execution_count": 61
        }
      ]
    },
    {
      "cell_type": "code",
      "metadata": {
        "id": "YmZGfygSiBZM",
        "outputId": "e6ef69f3-1550-4acd-97eb-466bba681b6c",
        "colab": {
          "base_uri": "https://localhost:8080/",
          "height": 38
        }
      },
      "source": [
        "#hyperbolic: arcsine, arccosine, arctangent\n",
        "asinh(x), acosh(x), atanh(x)"
      ],
      "execution_count": 62,
      "outputs": [
        {
          "output_type": "execute_result",
          "data": {
            "image/png": "[encoded data removed]",
            "text/latex": "$\\displaystyle \\left( \\operatorname{asinh}{\\left(x \\right)}, \\  \\operatorname{acosh}{\\left(x \\right)}, \\  \\operatorname{atanh}{\\left(x \\right)}\\right)$",
            "text/plain": [
              "(asinh(x), acosh(x), atanh(x))"
            ]
          },
          "metadata": {},
          "execution_count": 62
        }
      ]
    },
    {
      "cell_type": "markdown",
      "metadata": {
        "id": "4OGaHw--iMD1"
      },
      "source": [
        "---\n",
        "#### SYMBOLS"
      ]
    },
    {
      "cell_type": "code",
      "metadata": {
        "id": "_YXy7ySmiJZi",
        "outputId": "167f64c5-6f73-4c44-afcf-f5222b58295b",
        "colab": {
          "base_uri": "https://localhost:8080/",
          "height": 38
        }
      },
      "source": [
        "#capital pi\n",
        "pi"
      ],
      "execution_count": 63,
      "outputs": [
        {
          "output_type": "execute_result",
          "data": {
            "image/png": "[encoded data removed]",
            "text/latex": "$\\displaystyle \\pi$",
            "text/plain": [
              "π"
            ]
          },
          "metadata": {},
          "execution_count": 63
        }
      ]
    },
    {
      "cell_type": "code",
      "metadata": {
        "id": "OdWID_qNiRqH"
      },
      "source": [
        "#degree"
      ],
      "execution_count": 64,
      "outputs": []
    },
    {
      "cell_type": "code",
      "metadata": {
        "id": "mQ8x2RaBilAi",
        "outputId": "34e7881c-c0a1-4787-cf77-3250efcc833e",
        "colab": {
          "base_uri": "https://localhost:8080/",
          "height": 37
        }
      },
      "source": [
        "#infinity\n",
        "oo"
      ],
      "execution_count": 65,
      "outputs": [
        {
          "output_type": "execute_result",
          "data": {
            "image/png": "[encoded data removed]",
            "text/latex": "$\\displaystyle \\infty$",
            "text/plain": [
              "∞"
            ]
          },
          "metadata": {},
          "execution_count": 65
        }
      ]
    },
    {
      "cell_type": "code",
      "metadata": {
        "id": "3BY_xMajinxh"
      },
      "source": [
        "#for all"
      ],
      "execution_count": 66,
      "outputs": []
    },
    {
      "cell_type": "code",
      "metadata": {
        "id": "GDi6FdX4kbtL"
      },
      "source": [
        "#there exists"
      ],
      "execution_count": 67,
      "outputs": []
    },
    {
      "cell_type": "code",
      "metadata": {
        "id": "p4Ol7zrJkgyv",
        "outputId": "591321c8-fc40-4a71-c501-2913f846aaf4",
        "colab": {
          "base_uri": "https://localhost:8080/",
          "height": 38
        }
      },
      "source": [
        "#union\n",
        "Union(Interval(a, b), Interval(c, d))"
      ],
      "execution_count": 68,
      "outputs": [
        {
          "output_type": "execute_result",
          "data": {
            "image/png": "[encoded data removed]",
            "text/latex": "$\\displaystyle \\left[a, b\\right] \\cup \\left[c, d\\right]$",
            "text/plain": [
              "[a, b] ∪ [c, d]"
            ]
          },
          "metadata": {},
          "execution_count": 68
        }
      ]
    },
    {
      "cell_type": "code",
      "metadata": {
        "id": "sSTtDphZkqmx",
        "outputId": "5b85c270-289a-4e7a-d9f7-d062a857fa20",
        "colab": {
          "base_uri": "https://localhost:8080/",
          "height": 38
        }
      },
      "source": [
        "#intersection\n",
        "Intersection(Interval(a, b), Interval(c, d))"
      ],
      "execution_count": 69,
      "outputs": [
        {
          "output_type": "execute_result",
          "data": {
            "image/png": "[encoded data removed]",
            "text/latex": "$\\displaystyle \\left[a, b\\right] \\cap \\left[c, d\\right]$",
            "text/plain": [
              "[a, b] ∩ [c, d]"
            ]
          },
          "metadata": {},
          "execution_count": 69
        }
      ]
    },
    {
      "cell_type": "code",
      "metadata": {
        "id": "gj26HjBplwpi",
        "outputId": "1c8bc83a-e75b-4c2c-f560-b01973e88e54",
        "colab": {
          "base_uri": "https://localhost:8080/",
          "height": 38
        }
      },
      "source": [
        "#delta, Delta, nabla\n",
        "[Symbol(i) for i in ['delta', 'Delta', 'nabla']]"
      ],
      "execution_count": 70,
      "outputs": [
        {
          "output_type": "execute_result",
          "data": {
            "image/png": "[encoded data removed]",
            "text/latex": "$\\displaystyle \\left[ \\delta, \\  \\Delta, \\  nabla\\right]$",
            "text/plain": [
              "[δ, Δ, nabla]"
            ]
          },
          "metadata": {},
          "execution_count": 70
        }
      ]
    },
    {
      "cell_type": "code",
      "metadata": {
        "id": "FDlUxjY4l2hA",
        "outputId": "a5291b21-5930-4a0f-c4fb-31912cab005f",
        "colab": {
          "base_uri": "https://localhost:8080/",
          "height": 38
        }
      },
      "source": [
        "#alpha, beta, gamma, delta, epsilon\n",
        "[Symbol(i) for i in ['alpha', 'beta', 'gamma', 'delta', 'epsilon']]"
      ],
      "execution_count": 71,
      "outputs": [
        {
          "output_type": "execute_result",
          "data": {
            "image/png": "[encoded data removed]",
            "text/latex": "$\\displaystyle \\left[ \\alpha, \\  \\beta, \\  \\gamma, \\  \\delta, \\  \\epsilon\\right]$",
            "text/plain": [
              "[α, β, γ, δ, ε]"
            ]
          },
          "metadata": {},
          "execution_count": 71
        }
      ]
    },
    {
      "cell_type": "code",
      "metadata": {
        "id": "UCIkH5Yls0B4",
        "outputId": "7a90c83d-7a03-452e-a903-2565cde00aae",
        "colab": {
          "base_uri": "https://localhost:8080/",
          "height": 38
        }
      },
      "source": [
        "#zeta, eta, theta\n",
        "[Symbol(i) for i in ['zeta', 'eta', 'theta']]"
      ],
      "execution_count": 72,
      "outputs": [
        {
          "output_type": "execute_result",
          "data": {
            "image/png": "[encoded data removed]",
            "text/latex": "$\\displaystyle \\left[ \\zeta, \\  \\eta, \\  \\theta\\right]$",
            "text/plain": [
              "[ζ, η, θ]"
            ]
          },
          "metadata": {},
          "execution_count": 72
        }
      ]
    },
    {
      "cell_type": "code",
      "metadata": {
        "id": "r0HIDJwNtHjo",
        "outputId": "5b3a1508-b5d0-4ec6-e20c-ae089ee6555f",
        "colab": {
          "base_uri": "https://localhost:8080/",
          "height": 38
        }
      },
      "source": [
        "#kappa, lambda, mu, nu, xi, rho\n",
        "[Symbol(i) for i in ['kappa', 'lambda', 'mu', 'nu', 'xi', 'rho']]"
      ],
      "execution_count": 73,
      "outputs": [
        {
          "output_type": "execute_result",
          "data": {
            "image/png": "[encoded data removed]",
            "text/latex": "$\\displaystyle \\left[ \\kappa, \\  \\lambda, \\  \\mu, \\  \\nu, \\  \\xi, \\  \\rho\\right]$",
            "text/plain": [
              "[κ, λ, μ, ν, ξ, ρ]"
            ]
          },
          "metadata": {},
          "execution_count": 73
        }
      ]
    },
    {
      "cell_type": "code",
      "metadata": {
        "id": "FNvj_cejtVLJ",
        "outputId": "664f8aa3-9464-4fc6-f447-b6b89e2120f6",
        "colab": {
          "base_uri": "https://localhost:8080/",
          "height": 38
        }
      },
      "source": [
        "#sigma, tau, phi, chi, psi, omega\n",
        "[Symbol(i) for i in ['sigma', 'tau', 'phi', 'chi', 'psi', 'omega']]"
      ],
      "execution_count": 74,
      "outputs": [
        {
          "output_type": "execute_result",
          "data": {
            "image/png": "[encoded data removed]",
            "text/latex": "$\\displaystyle \\left[ \\sigma, \\  \\tau, \\  \\phi, \\  \\chi, \\  \\psi, \\  \\omega\\right]$",
            "text/plain": [
              "[σ, τ, φ, χ, ψ, ω]"
            ]
          },
          "metadata": {},
          "execution_count": 74
        }
      ]
    },
    {
      "cell_type": "code",
      "metadata": {
        "id": "jXadH14muBpV",
        "outputId": "cc7eff79-abea-415c-b31b-074ffde365b9",
        "colab": {
          "base_uri": "https://localhost:8080/",
          "height": 37
        }
      },
      "source": [
        "#capital: gamma, theta, lambda, xi, upsilon, phi, psi\n",
        "[Symbol(i) for i in ['Gamma', 'Theta', 'Lambda', 'Xi', 'Upsilon', 'Phi', 'Psi']]"
      ],
      "execution_count": 75,
      "outputs": [
        {
          "output_type": "execute_result",
          "data": {
            "image/png": "[encoded data removed]",
            "text/latex": "$\\displaystyle \\left[ \\Gamma, \\  \\Theta, \\  \\Lambda, \\  \\Xi, \\  \\Upsilon, \\  \\Phi, \\  \\Psi\\right]$",
            "text/plain": [
              "[Γ, Θ, Λ, Ξ, Υ, Φ, Ψ]"
            ]
          },
          "metadata": {},
          "execution_count": 75
        }
      ]
    },
    {
      "cell_type": "code",
      "metadata": {
        "id": "Nj5E9r-fuq5z",
        "outputId": "c21aff1d-5c63-4dd5-a62c-48d1eaaafc90",
        "colab": {
          "base_uri": "https://localhost:8080/",
          "height": 38
        }
      },
      "source": [
        "#omega, capital omega, mho\n",
        "[Symbol(i) for i in ['omega','Omega', 'mho']]"
      ],
      "execution_count": 76,
      "outputs": [
        {
          "output_type": "execute_result",
          "data": {
            "image/png": "[encoded data removed]",
            "text/latex": "$\\displaystyle \\left[ \\omega, \\  \\Omega, \\  \\mho\\right]$",
            "text/plain": [
              "[ω, Ω, mho]"
            ]
          },
          "metadata": {},
          "execution_count": 76
        }
      ]
    }
  ]
}