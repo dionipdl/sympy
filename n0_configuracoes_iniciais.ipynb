{
  "nbformat": 4,
  "nbformat_minor": 0,
  "metadata": {
    "colab": {
      "name": "n0_configuracoes_iniciais.ipynb",
      "provenance": [],
      "collapsed_sections": [],
      "authorship_tag": "ABX9TyMcErRzoTdUhfLg0js48xJe",
      "include_colab_link": true
    },
    "kernelspec": {
      "name": "python3",
      "display_name": "Python 3"
    },
    "language_info": {
      "name": "python"
    }
  },
  "cells": [
    {
      "cell_type": "markdown",
      "metadata": {
        "id": "view-in-github",
        "colab_type": "text"
      },
      "source": [
        "<a href=\"https://colab.research.google.com/github/dionipdl/sympy_mat_intro/blob/main/n0_configuracoes_iniciais.ipynb\" target=\"_parent\"><img src=\"https://colab.research.google.com/assets/colab-badge.svg\" alt=\"Open In Colab\"/></a>"
      ]
    },
    {
      "cell_type": "markdown",
      "metadata": {
        "id": "T5oRYwbdpZyO"
      },
      "source": [
        "# Sympy: Introdução Rápida para Matemática"
      ]
    },
    {
      "cell_type": "markdown",
      "metadata": {
        "id": "5feylSO8wNzt"
      },
      "source": [
        "## Configurações Ambiente"
      ]
    },
    {
      "cell_type": "markdown",
      "metadata": {
        "id": "4LA4oXm-zljo"
      },
      "source": [
        "---\n",
        "### Considerações:\n",
        "---"
      ]
    },
    {
      "cell_type": "markdown",
      "metadata": {
        "id": "8fel0oZtGRbz"
      },
      "source": [
        "* Com esta configurações temos um ambiente básico para desenvolvimento de atividades matemáticas, aproximando-se de um workflow como o do Mathematica.\n",
        "\n",
        "* Estas configurações são válidas para as plataformas Colab e Jupyter.\n",
        "\n",
        "* Quando necessário outros módulos serão explicitamente carregados."
      ]
    },
    {
      "cell_type": "markdown",
      "metadata": {
        "id": "0VNeAtRh3Kj-"
      },
      "source": [
        "---\n",
        "### Configurando o Ambiente:\n",
        "---"
      ]
    },
    {
      "cell_type": "code",
      "metadata": {
        "colab": {
          "base_uri": "https://localhost:8080/"
        },
        "id": "1A9q66SqqZSW",
        "outputId": "132cebdd-0030-4f0a-8861-1eae3aee4b64"
      },
      "source": [
        "from sympy import *\n",
        "init_session()\n",
        "a, b, c, d = symbols('a, b, c, d')\n",
        "ue = UnevaluatedExpr"
      ],
      "execution_count": 1,
      "outputs": [
        {
          "output_type": "stream",
          "text": [
            "IPython console for SymPy 1.7.1 (Python 3.7.10-64-bit) (ground types: python)\n",
            "\n",
            "These commands were executed:\n",
            ">>> from __future__ import division\n",
            ">>> from sympy import *\n",
            ">>> x, y, z, t = symbols('x y z t')\n",
            ">>> k, m, n = symbols('k m n', integer=True)\n",
            ">>> f, g, h = symbols('f g h', cls=Function)\n",
            ">>> init_printing()\n",
            "\n",
            "Documentation can be found at https://docs.sympy.org/1.7.1/\n",
            "\n"
          ],
          "name": "stdout"
        }
      ]
    },
    {
      "cell_type": "code",
      "metadata": {
        "id": "YwiVPtFJqh_e"
      },
      "source": [
        "from seaborn import set_style as plot_style\n",
        "plot_style(\"whitegrid\")\n",
        "%matplotlib inline"
      ],
      "execution_count": 2,
      "outputs": []
    },
    {
      "cell_type": "code",
      "metadata": {
        "id": "UYhPisG2q25T"
      },
      "source": [
        "from IPython.core.interactiveshell import InteractiveShell\n",
        "InteractiveShell.ast_node_interactivity = \"all\""
      ],
      "execution_count": 3,
      "outputs": []
    },
    {
      "cell_type": "markdown",
      "metadata": {
        "id": "a-Nb6cscyGqH"
      },
      "source": [
        "---\n",
        "### Testando as configurações:\n",
        "---\n"
      ]
    },
    {
      "cell_type": "markdown",
      "metadata": {
        "id": "WZIVt3-CyzLU"
      },
      "source": [
        "Testar sympy/init_session:"
      ]
    },
    {
      "cell_type": "code",
      "metadata": {
        "colab": {
          "base_uri": "https://localhost:8080/",
          "height": 38
        },
        "id": "WkCxwFKgq5s4",
        "outputId": "252e3829-3a32-42c3-a004-ad31e363f3a3"
      },
      "source": [
        "a*x**2 + b*x + c"
      ],
      "execution_count": 4,
      "outputs": [
        {
          "output_type": "execute_result",
          "data": {
            "image/png": "[encoded data removed]",
            "text/latex": "$\\displaystyle a x^{2} + b x + c$",
            "text/plain": [
              "   2          \n",
              "a⋅x  + b⋅x + c"
            ]
          },
          "metadata": {
            "tags": []
          },
          "execution_count": 4
        }
      ]
    },
    {
      "cell_type": "markdown",
      "metadata": {
        "id": "LfSjMc1sy7Fy"
      },
      "source": [
        "Testar seaborn/set_style:"
      ]
    },
    {
      "cell_type": "code",
      "metadata": {
        "colab": {
          "base_uri": "https://localhost:8080/",
          "height": 297
        },
        "id": "ru127jqbybuW",
        "outputId": "b3f24fa0-1a20-472c-bbf8-5c53c59949d4"
      },
      "source": [
        "plot(sin(x));"
      ],
      "execution_count": 5,
      "outputs": [
        {
          "output_type": "display_data",
          "data": {
            "image/png": "[encoded data removed]",
            "text/plain": [
              "<Figure size 432x288 with 1 Axes>"
            ]
          },
          "metadata": {
            "tags": [],
            "needs_background": "light"
          }
        }
      ]
    },
    {
      "cell_type": "markdown",
      "metadata": {
        "id": "cs0K6fF8zFTe"
      },
      "source": [
        "Testar IPython/InteractiveShell:"
      ]
    },
    {
      "cell_type": "code",
      "metadata": {
        "colab": {
          "base_uri": "https://localhost:8080/",
          "height": 57
        },
        "id": "UvEsIbAgylZD",
        "outputId": "2392d4bc-21ad-4932-b7b9-05a379018837"
      },
      "source": [
        "1+1\n",
        "2+2"
      ],
      "execution_count": 6,
      "outputs": [
        {
          "output_type": "execute_result",
          "data": {
            "image/png": "[encoded data removed]",
            "text/latex": "$\\displaystyle 2$",
            "text/plain": [
              "2"
            ]
          },
          "metadata": {
            "tags": []
          },
          "execution_count": 6
        },
        {
          "output_type": "execute_result",
          "data": {
            "image/png": "[encoded data removed]",
            "text/latex": "$\\displaystyle 4$",
            "text/plain": [
              "4"
            ]
          },
          "metadata": {
            "tags": []
          },
          "execution_count": 6
        }
      ]
    }
  ]
}