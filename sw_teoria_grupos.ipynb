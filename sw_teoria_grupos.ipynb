{
  "nbformat": 4,
  "nbformat_minor": 0,
  "metadata": {
    "colab": {
      "name": "s3_variaveis_funcoes.ipynb",
      "provenance": [],
      "collapsed_sections": [],
      "include_colab_link": true
    },
    "kernelspec": {
      "name": "python3",
      "display_name": "Python 3"
    },
    "language_info": {
      "name": "python"
    }
  },
  "cells": [
    {
      "cell_type": "markdown",
      "metadata": {
        "id": "view-in-github",
        "colab_type": "text"
      },
      "source": [
        "<a href=\"https://colab.research.google.com/github/dionipdl/sympy_mat_intro/blob/main/sw_teoria_grupos.ipynb\" target=\"_parent\"><img src=\"https://colab.research.google.com/assets/colab-badge.svg\" alt=\"Open In Colab\"/></a>"
      ]
    },
    {
      "cell_type": "markdown",
      "metadata": {
        "id": "T5oRYwbdpZyO"
      },
      "source": [
        "# Sympy: Introdução Rápida para Matemática"
      ]
    },
    {
      "cell_type": "markdown",
      "metadata": {
        "id": "5feylSO8wNzt"
      },
      "source": [
        "## Teoria de grupos"
      ]
    },
    {
      "cell_type": "markdown",
      "metadata": {
        "id": "0VNeAtRh3Kj-"
      },
      "source": [
        "---\n",
        "### Configurando o Ambiente:\n",
        "---"
      ]
    },
    {
      "cell_type": "code",
      "metadata": {
        "colab": {
          "base_uri": "https://localhost:8080/"
        },
        "id": "1A9q66SqqZSW",
        "outputId": "78c1e09e-4001-48ba-fbd3-d71c03ad81fe"
      },
      "source": [
        "from sympy import *\n",
        "init_session()\n",
        "a, b, c, d = symbols('a, b, c, d')\n",
        "ue = UnevaluatedExpr"
      ],
      "execution_count": 1,
      "outputs": [
        {
          "output_type": "stream",
          "text": [
            "IPython console for SymPy 1.7.1 (Python 3.7.10-64-bit) (ground types: python)\n",
            "\n",
            "These commands were executed:\n",
            ">>> from __future__ import division\n",
            ">>> from sympy import *\n",
            ">>> x, y, z, t = symbols('x y z t')\n",
            ">>> k, m, n = symbols('k m n', integer=True)\n",
            ">>> f, g, h = symbols('f g h', cls=Function)\n",
            ">>> init_printing()\n",
            "\n",
            "Documentation can be found at https://docs.sympy.org/1.7.1/\n",
            "\n"
          ],
          "name": "stdout"
        }
      ]
    },
    {
      "cell_type": "code",
      "metadata": {
        "id": "YwiVPtFJqh_e"
      },
      "source": [
        "from seaborn import set_style as plot_style\n",
        "plot_style(\"whitegrid\")\n",
        "%matplotlib inline"
      ],
      "execution_count": 2,
      "outputs": []
    },
    {
      "cell_type": "code",
      "metadata": {
        "id": "UYhPisG2q25T"
      },
      "source": [
        "from IPython.core.interactiveshell import InteractiveShell\n",
        "InteractiveShell.ast_node_interactivity = \"all\""
      ],
      "execution_count": 3,
      "outputs": []
    },
    {
      "cell_type": "markdown",
      "metadata": {
        "id": "C7d_JR5qntqp"
      },
      "source": [
        "---\n",
        "### Grupos\n",
        "---"
      ]
    },
    {
      "cell_type": "markdown",
      "metadata": {
        "id": "u2Mnc_X70DB_"
      },
      "source": [
        "Obter a lista de elementos de grupos:"
      ]
    },
    {
      "cell_type": "code",
      "metadata": {
        "colab": {
          "base_uri": "https://localhost:8080/",
          "height": 37
        },
        "id": "5IUJtoN20I1n",
        "outputId": "4ac49110-c2ef-4f5d-cdad-675043a03469"
      },
      "source": [
        "from sympy.combinatorics.generators import symmetric\n",
        "[*symmetric(3)]"
      ],
      "execution_count": 4,
      "outputs": [
        {
          "output_type": "execute_result",
          "data": {
            "image/png": "[encoded data removed]",
            "text/latex": "$\\displaystyle \\left[ \\left( 2\\right), \\  \\left( 1\\; 2\\right), \\  \\left( 0\\; 1\\right)\\left( 2\\right), \\  \\left( 0\\; 1\\; 2\\right), \\  \\left( 0\\; 2\\; 1\\right), \\  \\left( 0\\; 2\\right)\\right]$",
            "text/plain": [
              "[(), (1 2), (0 1), (0 1 2), (0 2 1), (0 2)]"
            ]
          },
          "metadata": {
            "tags": []
          },
          "execution_count": 4
        }
      ]
    },
    {
      "cell_type": "markdown",
      "metadata": {
        "id": "YAnwad67QMg3"
      },
      "source": [
        "Verificar os geradores de um grupo:"
      ]
    },
    {
      "cell_type": "code",
      "metadata": {
        "id": "vz6YZO0KQM9j",
        "outputId": "f22f3dc3-0f51-46d1-9dcf-30a2fdb6c157",
        "colab": {
          "base_uri": "https://localhost:8080/"
        }
      },
      "source": [
        "from sympy.combinatorics import Cycle, Permutation\n",
        "from sympy.combinatorics.perm_groups import PermutationGroup\n",
        "G = PermutationGroup(Cycle(2, 3)(4, 5), Cycle(1, 2, 3, 4, 5))\n",
        "p1 = Permutation(Cycle(2, 5, 3))\n",
        "G.contains(p1)"
      ],
      "execution_count": 5,
      "outputs": [
        {
          "output_type": "execute_result",
          "data": {
            "text/plain": [
              "True"
            ]
          },
          "metadata": {
            "tags": []
          },
          "execution_count": 5
        }
      ]
    },
    {
      "cell_type": "markdown",
      "metadata": {
        "id": "b9V3JK-zPHus"
      },
      "source": [
        "---\n",
        "### Geradores\n",
        "---"
      ]
    },
    {
      "cell_type": "markdown",
      "metadata": {
        "id": "Mj2MAz04PMKX"
      },
      "source": [
        "Criar um grupo de permutação de dois geradores:"
      ]
    },
    {
      "cell_type": "code",
      "metadata": {
        "id": "ndl5MPMcMpkk",
        "outputId": "02e7e465-7459-4cef-9923-ad492ef474ee",
        "colab": {
          "base_uri": "https://localhost:8080/",
          "height": 38
        }
      },
      "source": [
        "from sympy.combinatorics import PermutationGroup, Cycle\n",
        "p = PermutationGroup([Cycle(3, 1, 2), Cycle(2, 5, 6)])\n",
        "p"
      ],
      "execution_count": 6,
      "outputs": [
        {
          "output_type": "execute_result",
          "data": {
            "image/png": "[encoded data removed]",
            "text/latex": "$\\displaystyle PermutationGroup\\left(\\left( 1\\; 2\\; 3\\right)\\left( 6\\right), \\left( 2\\; 5\\; 6\\right)\\right)$",
            "text/plain": [
              "PermutationGroup([\n",
              "     (6)(1 2 3),  \n",
              "      (2 5 6)])   "
            ]
          },
          "metadata": {
            "tags": []
          },
          "execution_count": 6
        }
      ]
    },
    {
      "cell_type": "markdown",
      "metadata": {
        "id": "WJz5lYpWPQcO"
      },
      "source": [
        "Calcular a ordem do grupo de geradores:"
      ]
    },
    {
      "cell_type": "code",
      "metadata": {
        "id": "uIehIGCBN-vk",
        "outputId": "c27dcb9c-eab0-4e03-8cf0-46dbe470eadc",
        "colab": {
          "base_uri": "https://localhost:8080/",
          "height": 37
        }
      },
      "source": [
        "p.order()"
      ],
      "execution_count": 7,
      "outputs": [
        {
          "output_type": "execute_result",
          "data": {
            "image/png": "[encoded data removed]",
            "text/latex": "$\\displaystyle 60$",
            "text/plain": [
              "60"
            ]
          },
          "metadata": {
            "tags": []
          },
          "execution_count": 7
        }
      ]
    }
  ]
}