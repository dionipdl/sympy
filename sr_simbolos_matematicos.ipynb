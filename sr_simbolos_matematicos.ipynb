{
  "nbformat": 4,
  "nbformat_minor": 0,
  "metadata": {
    "colab": {
      "name": "s3_variaveis_funcoes.ipynb",
      "provenance": [],
      "collapsed_sections": [],
      "include_colab_link": true
    },
    "kernelspec": {
      "name": "python3",
      "display_name": "Python 3"
    },
    "language_info": {
      "name": "python"
    }
  },
  "cells": [
    {
      "cell_type": "markdown",
      "metadata": {
        "id": "view-in-github",
        "colab_type": "text"
      },
      "source": [
        "<a href=\"https://colab.research.google.com/github/dionipdl/sympy_mat_intro/blob/main/sr_simbolos_matematicos.ipynb\" target=\"_parent\"><img src=\"https://colab.research.google.com/assets/colab-badge.svg\" alt=\"Open In Colab\"/></a>"
      ]
    },
    {
      "cell_type": "markdown",
      "metadata": {
        "id": "T5oRYwbdpZyO"
      },
      "source": [
        "# Sympy: Introdução Rápida para Matemática"
      ]
    },
    {
      "cell_type": "markdown",
      "metadata": {
        "id": "5feylSO8wNzt"
      },
      "source": [
        "## Inserção de símbolos matemáticos"
      ]
    },
    {
      "cell_type": "markdown",
      "metadata": {
        "id": "0VNeAtRh3Kj-"
      },
      "source": [
        "---\n",
        "### Configurando o Ambiente:\n",
        "---"
      ]
    },
    {
      "cell_type": "code",
      "metadata": {
        "colab": {
          "base_uri": "https://localhost:8080/"
        },
        "id": "1A9q66SqqZSW",
        "outputId": "23ea8a56-63ad-47aa-dcbf-5e64af209dda"
      },
      "source": [
        "from sympy import *\n",
        "init_session()\n",
        "a, b, c, d = symbols('a, b, c, d')\n",
        "ue = UnevaluatedExpr"
      ],
      "execution_count": 8,
      "outputs": [
        {
          "output_type": "stream",
          "text": [
            "IPython console for SymPy 1.7.1 (Python 3.7.10-64-bit) (ground types: python)\n",
            "\n",
            "These commands were executed:\n",
            ">>> from __future__ import division\n",
            ">>> from sympy import *\n",
            ">>> x, y, z, t = symbols('x y z t')\n",
            ">>> k, m, n = symbols('k m n', integer=True)\n",
            ">>> f, g, h = symbols('f g h', cls=Function)\n",
            ">>> init_printing()\n",
            "\n",
            "Documentation can be found at https://docs.sympy.org/1.7.1/\n",
            "\n"
          ],
          "name": "stdout"
        }
      ]
    },
    {
      "cell_type": "code",
      "metadata": {
        "id": "YwiVPtFJqh_e"
      },
      "source": [
        "from seaborn import set_style as plot_style\n",
        "plot_style(\"whitegrid\")\n",
        "%matplotlib inline"
      ],
      "execution_count": 9,
      "outputs": []
    },
    {
      "cell_type": "code",
      "metadata": {
        "id": "UYhPisG2q25T"
      },
      "source": [
        "from IPython.core.interactiveshell import InteractiveShell\n",
        "InteractiveShell.ast_node_interactivity = \"all\""
      ],
      "execution_count": 10,
      "outputs": []
    },
    {
      "cell_type": "markdown",
      "metadata": {
        "id": "C7d_JR5qntqp"
      },
      "source": [
        "---\n",
        "### Frações\n",
        "---"
      ]
    },
    {
      "cell_type": "code",
      "metadata": {
        "id": "2JPo9CTzUwPs",
        "outputId": "1e870597-7a7d-4a7d-c963-d6e8ee781e96",
        "colab": {
          "base_uri": "https://localhost:8080/",
          "height": 48
        }
      },
      "source": [
        "x/3"
      ],
      "execution_count": 14,
      "outputs": [
        {
          "output_type": "execute_result",
          "data": {
            "image/png": "[encoded data removed]",
            "text/latex": "$\\displaystyle \\frac{x}{3}$",
            "text/plain": [
              "x\n",
              "─\n",
              "3"
            ]
          },
          "metadata": {
            "tags": []
          },
          "execution_count": 14
        }
      ]
    },
    {
      "cell_type": "code",
      "metadata": {
        "colab": {
          "base_uri": "https://localhost:8080/",
          "height": 51
        },
        "id": "5IUJtoN20I1n",
        "outputId": "50f156b2-37df-4dc4-d6bc-d3dca9d2e22c"
      },
      "source": [
        "S(1)/3"
      ],
      "execution_count": 15,
      "outputs": [
        {
          "output_type": "execute_result",
          "data": {
            "image/png": "[encoded data removed]",
            "text/latex": "$\\displaystyle \\frac{1}{3}$",
            "text/plain": [
              "1/3"
            ]
          },
          "metadata": {
            "tags": []
          },
          "execution_count": 15
        }
      ]
    },
    {
      "cell_type": "code",
      "metadata": {
        "id": "QDz1jguvVDKz",
        "outputId": "8d63625a-dbde-4c35-cc3a-1dcad96fbfcf",
        "colab": {
          "base_uri": "https://localhost:8080/",
          "height": 51
        }
      },
      "source": [
        "S(\"1/3\")"
      ],
      "execution_count": 16,
      "outputs": [
        {
          "output_type": "execute_result",
          "data": {
            "image/png": "[encoded data removed]",
            "text/latex": "$\\displaystyle \\frac{1}{3}$",
            "text/plain": [
              "1/3"
            ]
          },
          "metadata": {
            "tags": []
          },
          "execution_count": 16
        }
      ]
    },
    {
      "cell_type": "code",
      "metadata": {
        "id": "6gRLfTQCVnf6",
        "outputId": "4beb3f1f-7a1b-4f1a-bb3d-16d02dc095be",
        "colab": {
          "base_uri": "https://localhost:8080/",
          "height": 51
        }
      },
      "source": [
        "ue(1)/3"
      ],
      "execution_count": 20,
      "outputs": [
        {
          "output_type": "execute_result",
          "data": {
            "image/png": "[encoded data removed]",
            "text/latex": "$\\displaystyle \\frac{1}{3}$",
            "text/plain": [
              "1\n",
              "─\n",
              "3"
            ]
          },
          "metadata": {
            "tags": []
          },
          "execution_count": 20
        }
      ]
    },
    {
      "cell_type": "markdown",
      "metadata": {
        "id": "HuS3UFuhVAfk"
      },
      "source": [
        "---\n",
        "### Expoentes:\n",
        "---"
      ]
    },
    {
      "cell_type": "code",
      "metadata": {
        "id": "RLYQzG3qU6ur",
        "outputId": "29d343ff-f1ce-4399-8922-aadc0abde77d",
        "colab": {
          "base_uri": "https://localhost:8080/",
          "height": 37
        }
      },
      "source": [
        "2**n"
      ],
      "execution_count": 17,
      "outputs": [
        {
          "output_type": "execute_result",
          "data": {
            "image/png": "[encoded data removed]",
            "text/latex": "$\\displaystyle 2^{n}$",
            "text/plain": [
              " n\n",
              "2 "
            ]
          },
          "metadata": {
            "tags": []
          },
          "execution_count": 17
        }
      ]
    },
    {
      "cell_type": "code",
      "metadata": {
        "id": "IA7FjSELVJLz",
        "outputId": "362672ed-116c-4576-bad7-0a6d0cfcbf10",
        "colab": {
          "base_uri": "https://localhost:8080/",
          "height": 37
        }
      },
      "source": [
        "S(\"2^n\")"
      ],
      "execution_count": 18,
      "outputs": [
        {
          "output_type": "execute_result",
          "data": {
            "image/png": "[encoded data removed]",
            "text/latex": "$\\displaystyle 2^{n}$",
            "text/plain": [
              " n\n",
              "2 "
            ]
          },
          "metadata": {
            "tags": []
          },
          "execution_count": 18
        }
      ]
    },
    {
      "cell_type": "code",
      "metadata": {
        "id": "hBrz9HQRVQDZ",
        "outputId": "aaeb0547-5b68-4e0f-9127-efde9f6d7e0e",
        "colab": {
          "base_uri": "https://localhost:8080/",
          "height": 37
        }
      },
      "source": [
        "2**ue(3)"
      ],
      "execution_count": 19,
      "outputs": [
        {
          "output_type": "execute_result",
          "data": {
            "image/png": "[encoded data removed]",
            "text/latex": "$\\displaystyle 2^{3}$",
            "text/plain": [
              " 3\n",
              "2 "
            ]
          },
          "metadata": {
            "tags": []
          },
          "execution_count": 19
        }
      ]
    },
    {
      "cell_type": "markdown",
      "metadata": {
        "id": "fZSFF6XkV--b"
      },
      "source": [
        "---\n",
        "### Cálculo\n",
        "---"
      ]
    },
    {
      "cell_type": "code",
      "metadata": {
        "id": "2-wM-eliWVlm",
        "outputId": "dd96c24d-cbc8-40d3-cee6-446d75335f4c",
        "colab": {
          "base_uri": "https://localhost:8080/",
          "height": 52
        }
      },
      "source": [
        "Limit(1/x, x, 0, dir=\"-\")"
      ],
      "execution_count": 22,
      "outputs": [
        {
          "output_type": "execute_result",
          "data": {
            "image/png": "[encoded data removed]",
            "text/latex": "$\\displaystyle \\lim_{x \\to 0^-} \\frac{1}{x}$",
            "text/plain": [
              "     1\n",
              " lim ─\n",
              "x─→0⁻x"
            ]
          },
          "metadata": {
            "tags": []
          },
          "execution_count": 22
        }
      ]
    },
    {
      "cell_type": "code",
      "metadata": {
        "id": "FqkbUdnZWgfe",
        "outputId": "05b38973-2a5f-45c9-ab63-64db61d7ecaa",
        "colab": {
          "base_uri": "https://localhost:8080/",
          "height": 57
        }
      },
      "source": [
        "Derivative(f(x, y), y, x)"
      ],
      "execution_count": 23,
      "outputs": [
        {
          "output_type": "execute_result",
          "data": {
            "image/png": "[encoded data removed]",
            "text/latex": "$\\displaystyle \\frac{\\partial^{2}}{\\partial x\\partial y} f{\\left(x,y \\right)}$",
            "text/plain": [
              "   2          \n",
              "  ∂           \n",
              "─────(f(x, y))\n",
              "∂x ∂y         "
            ]
          },
          "metadata": {
            "tags": []
          },
          "execution_count": 23
        }
      ]
    },
    {
      "cell_type": "code",
      "metadata": {
        "id": "O6c-ZE30Vcnc",
        "outputId": "91a0ec26-76a6-4919-fa05-1b609bfa3cf0",
        "colab": {
          "base_uri": "https://localhost:8080/",
          "height": 80
        }
      },
      "source": [
        "Integral(sin(x)/x, (x, a, b))"
      ],
      "execution_count": 21,
      "outputs": [
        {
          "output_type": "execute_result",
          "data": {
            "image/png": "[encoded data removed]",
            "text/latex": "$\\displaystyle \\int\\limits_{a}^{b} \\frac{\\sin{\\left(x \\right)}}{x}\\, dx$",
            "text/plain": [
              "b          \n",
              "⌠          \n",
              "⎮ sin(x)   \n",
              "⎮ ────── dx\n",
              "⎮   x      \n",
              "⌡          \n",
              "a          "
            ]
          },
          "metadata": {
            "tags": []
          },
          "execution_count": 21
        }
      ]
    },
    {
      "cell_type": "code",
      "metadata": {
        "id": "U0UO15quWeu_",
        "outputId": "8c778bb7-2d30-4d01-f978-352ba917e95e",
        "colab": {
          "base_uri": "https://localhost:8080/",
          "height": 80
        }
      },
      "source": [
        "Integral(sin(x)/cos(y), (x, a, b), (y, 0, pi))"
      ],
      "execution_count": 25,
      "outputs": [
        {
          "output_type": "execute_result",
          "data": {
            "image/png": "[encoded data removed]",
            "text/latex": "$\\displaystyle \\int\\limits_{0}^{\\pi}\\int\\limits_{a}^{b} \\frac{\\sin{\\left(x \\right)}}{\\cos{\\left(y \\right)}}\\, dx\\, dy$",
            "text/plain": [
              "π b             \n",
              "⌠ ⌠             \n",
              "⎮ ⎮ sin(x)      \n",
              "⎮ ⎮ ────── dx dy\n",
              "⎮ ⎮ cos(y)      \n",
              "⌡ ⌡             \n",
              "0 a             "
            ]
          },
          "metadata": {
            "tags": []
          },
          "execution_count": 25
        }
      ]
    },
    {
      "cell_type": "markdown",
      "metadata": {
        "id": "OW_p17QBW_tY"
      },
      "source": [
        "---\n",
        "### Caracteres especiais\n",
        "---"
      ]
    },
    {
      "cell_type": "code",
      "metadata": {
        "id": "HiIS4OYkW0Ey",
        "outputId": "8baa7898-7cdb-4f10-d5ec-a0fd7c8e75cc",
        "colab": {
          "base_uri": "https://localhost:8080/",
          "height": 38
        }
      },
      "source": [
        "theta = S(\"theta\")\n",
        "sin(theta)"
      ],
      "execution_count": 28,
      "outputs": [
        {
          "output_type": "execute_result",
          "data": {
            "image/png": "[encoded data removed]",
            "text/latex": "$\\displaystyle \\sin{\\left(\\theta \\right)}$",
            "text/plain": [
              "sin(θ)"
            ]
          },
          "metadata": {
            "tags": []
          },
          "execution_count": 28
        }
      ]
    },
    {
      "cell_type": "code",
      "metadata": {
        "id": "-KcoiqaDXbbS",
        "outputId": "2d58769b-9c01-49e7-9d76-d1c4cc35fd8a",
        "colab": {
          "base_uri": "https://localhost:8080/",
          "height": 37
        }
      },
      "source": [
        "Delta = S(\"Delta\")\n",
        "Delta"
      ],
      "execution_count": 31,
      "outputs": [
        {
          "output_type": "execute_result",
          "data": {
            "image/png": "[encoded data removed]",
            "text/latex": "$\\displaystyle \\Delta$",
            "text/plain": [
              "Δ"
            ]
          },
          "metadata": {
            "tags": []
          },
          "execution_count": 31
        }
      ]
    },
    {
      "cell_type": "code",
      "metadata": {
        "id": "fIzBwk2BXMS3",
        "outputId": "c804cc8b-8214-4ec6-c8e8-73b3f8fbcc1a",
        "colab": {
          "base_uri": "https://localhost:8080/",
          "height": 38
        }
      },
      "source": [
        "GoldenRatio"
      ],
      "execution_count": 29,
      "outputs": [
        {
          "output_type": "execute_result",
          "data": {
            "image/png": "[encoded data removed]",
            "text/latex": "$\\displaystyle \\phi$",
            "text/plain": [
              "φ"
            ]
          },
          "metadata": {
            "tags": []
          },
          "execution_count": 29
        }
      ]
    },
    {
      "cell_type": "code",
      "metadata": {
        "id": "ExhJtONcXZyq",
        "outputId": "c8f28724-61a4-49c7-9a90-b797277ffb57",
        "colab": {
          "base_uri": "https://localhost:8080/",
          "height": 38
        }
      },
      "source": [
        "pi"
      ],
      "execution_count": 30,
      "outputs": [
        {
          "output_type": "execute_result",
          "data": {
            "image/png": "[encoded data removed]",
            "text/latex": "$\\displaystyle \\pi$",
            "text/plain": [
              "π"
            ]
          },
          "metadata": {
            "tags": []
          },
          "execution_count": 30
        }
      ]
    },
    {
      "cell_type": "markdown",
      "metadata": {
        "id": "rNLfWUwXXnW3"
      },
      "source": [
        "---\n",
        "### Equações\n",
        "---"
      ]
    },
    {
      "cell_type": "code",
      "metadata": {
        "id": "NmTpu35iXiQo",
        "outputId": "9555bc5e-1ae1-4ec0-c4be-0af39c5783a6",
        "colab": {
          "base_uri": "https://localhost:8080/",
          "height": 38
        }
      },
      "source": [
        "theta = S(\"theta\")\n",
        "Eq(sin(theta), 1)"
      ],
      "execution_count": 37,
      "outputs": [
        {
          "output_type": "execute_result",
          "data": {
            "image/png": "[encoded data removed]",
            "text/latex": "$\\displaystyle \\sin{\\left(\\theta \\right)} = 1$",
            "text/plain": [
              "sin(θ) = 1"
            ]
          },
          "metadata": {
            "tags": []
          },
          "execution_count": 37
        }
      ]
    },
    {
      "cell_type": "code",
      "metadata": {
        "id": "s1CIqvMsX7mS",
        "outputId": "d887a539-abf5-4df0-f927-43d67c9ada39",
        "colab": {
          "base_uri": "https://localhost:8080/",
          "height": 77
        }
      },
      "source": [
        "expr = Integral(sin(x), (x, 0, pi))\n",
        "Eq(expr, expr.doit())"
      ],
      "execution_count": 38,
      "outputs": [
        {
          "output_type": "execute_result",
          "data": {
            "image/png": "[encoded data removed]",
            "text/latex": "$\\displaystyle \\int\\limits_{0}^{\\pi} \\sin{\\left(x \\right)}\\, dx = 2$",
            "text/plain": [
              "π              \n",
              "⌠              \n",
              "⎮ sin(x) dx = 2\n",
              "⌡              \n",
              "0              "
            ]
          },
          "metadata": {
            "tags": []
          },
          "execution_count": 38
        }
      ]
    },
    {
      "cell_type": "code",
      "metadata": {
        "id": "WSYyLBgpYI1K",
        "outputId": "1713ad90-23c8-4d23-a389-55b8658e8e20",
        "colab": {
          "base_uri": "https://localhost:8080/",
          "height": 37
        }
      },
      "source": [
        "expr = 2**ue(3)\n",
        "Eq(expr, expr.doit())"
      ],
      "execution_count": 39,
      "outputs": [
        {
          "output_type": "execute_result",
          "data": {
            "image/png": "[encoded data removed]",
            "text/latex": "$\\displaystyle 2^{3} = 8$",
            "text/plain": [
              " 3    \n",
              "2  = 8"
            ]
          },
          "metadata": {
            "tags": []
          },
          "execution_count": 39
        }
      ]
    },
    {
      "cell_type": "code",
      "metadata": {
        "id": "7WrieKslYwpA",
        "outputId": "fcc70f1a-9847-4777-99c9-8f97bf92f9b6",
        "colab": {
          "base_uri": "https://localhost:8080/",
          "height": 39
        }
      },
      "source": [
        "expr = (a+b)**2\n",
        "Eq(expr, expr.expand())"
      ],
      "execution_count": 40,
      "outputs": [
        {
          "output_type": "execute_result",
          "data": {
            "image/png": "[encoded data removed]",
            "text/latex": "$\\displaystyle \\left(a + b\\right)^{2} = a^{2} + 2 a b + b^{2}$",
            "text/plain": [
              "       2    2            2\n",
              "(a + b)  = a  + 2⋅a⋅b + b "
            ]
          },
          "metadata": {
            "tags": []
          },
          "execution_count": 40
        }
      ]
    }
  ]
}